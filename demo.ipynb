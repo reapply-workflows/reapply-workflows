{
 "cells": [
  {
   "cell_type": "code",
   "execution_count": 1,
   "metadata": {},
   "outputs": [],
   "source": [
    "import numpy as np\n",
    "import pandas as pd\n",
    "from backend import Reapply"
   ]
  },
  {
   "cell_type": "markdown",
   "metadata": {},
   "source": []
  },
  {
   "cell_type": "code",
   "execution_count": 2,
   "metadata": {},
   "outputs": [
    {
     "data": {
      "text/plain": "(150, 3)"
     },
     "execution_count": 2,
     "metadata": {},
     "output_type": "execute_result"
    }
   ],
   "source": [
    "target = pd.read_csv(\"./datasets/Cluster Simple/cluster_simple_v5.csv\")\n",
    "target.shape"
   ]
  },
  {
   "cell_type": "code",
   "execution_count": 3,
   "metadata": {},
   "outputs": [],
   "source": [
    "r = Reapply()\n",
    "workflow = r.load_workflow(\"workflow1617808681620\")\n"
   ]
  },
  {
   "cell_type": "code",
   "execution_count": 4,
   "metadata": {},
   "outputs": [],
   "source": [
    "results = workflow.apply(target, \"Label\")"
   ]
  },
  {
   "cell_type": "code",
   "execution_count": 5,
   "metadata": {},
   "outputs": [
    {
     "name": "stdout",
     "output_type": "stream",
     "text": [
      "Add Plot (150, 3) --- Not Reviewed\n",
      "  Label        X        Y\n",
      "0  P207  2.56334  6.64483\n",
      "1   P31  2.53650  7.28695\n",
      "2   P48  3.50407  7.30319\n",
      "3   P52  6.58351  7.28796\n",
      "4  P244  2.76693  5.49368\n",
      "------------------------------------\n",
      "\n",
      "Added brush to: X-Y (150, 4) --- Not Reviewed\n",
      "  Label        X        Y  isSelected\n",
      "0  P207  2.56334  6.64483       False\n",
      "1   P31  2.53650  7.28695        True\n",
      "2   P48  3.50407  7.30319        True\n",
      "3   P52  6.58351  7.28796       False\n",
      "4  P244  2.76693  5.49368       False\n",
      "------------------------------------\n",
      "\n",
      "Cluster Selection (150, 4) --- Not Reviewed\n",
      "  Label        X        Y  isSelected\n",
      "0  P207  2.56334  6.64483        True\n",
      "1   P31  2.53650  7.28695        True\n",
      "2   P48  3.50407  7.30319        True\n",
      "3   P52  6.58351  7.28796       False\n",
      "4  P244  2.76693  5.49368        True\n",
      "------------------------------------\n",
      "\n",
      "Filter: Out (108, 3) --- Not Reviewed\n",
      "   Label        X        Y\n",
      "3    P52  6.58351  7.28796\n",
      "5   P171  4.77421  4.17980\n",
      "8   P199  8.34966  0.09550\n",
      "9   P183  8.42670  1.80299\n",
      "10   P61  4.29760  2.99981\n",
      "------------------------------------\n",
      "\n"
     ]
    }
   ],
   "source": [
    "results.pretty_print()"
   ]
  },
  {
   "cell_type": "code",
   "execution_count": 6,
   "metadata": {},
   "outputs": [
    {
     "name": "stdout",
     "output_type": "stream",
     "text": [
      "This workflow has not been reviewed for all interactions.\n",
      "Please go to following url: https://reapply-workflows.github.io/reapply_workflows/#/project?workflow=workflow1617808681620&project=cluster_simple&data=66b276efcc45e61913cb227de5ade44f-d1ed95e700f289105864c10be960675d057acc36aa3fc297ac5dc083edf38ff10d45e737be29b29f255d1c70298e1404aab368f05409ec507b15342c6cd4e504\n"
     ]
    },
    {
     "data": {
      "text/plain": "[{'data':     Label        X        Y\n  0    P207  2.56334  6.64483\n  1     P31  2.53650  7.28695\n  2     P48  3.50407  7.30319\n  3     P52  6.58351  7.28796\n  4    P244  2.76693  5.49368\n  ..    ...      ...      ...\n  145   P71  5.90792  3.70633\n  146  P152  2.27350  6.89466\n  147    P2  7.18594  8.52138\n  148   P28  4.10972  6.17059\n  149    P9  1.94744  6.08943\n  \n  [150 rows x 3 columns],\n  'interaction': 'Add Plot',\n  'isApproved': False},\n {'data':     Label        X        Y  isSelected\n  0    P207  2.56334  6.64483       False\n  1     P31  2.53650  7.28695        True\n  2     P48  3.50407  7.30319        True\n  3     P52  6.58351  7.28796       False\n  4    P244  2.76693  5.49368       False\n  ..    ...      ...      ...         ...\n  145   P71  5.90792  3.70633       False\n  146  P152  2.27350  6.89466       False\n  147    P2  7.18594  8.52138       False\n  148   P28  4.10972  6.17059       False\n  149    P9  1.94744  6.08943       False\n  \n  [150 rows x 4 columns],\n  'interaction': 'Added brush to: X-Y',\n  'isApproved': False},\n {'data':     Label        X        Y  isSelected\n  0    P207  2.56334  6.64483        True\n  1     P31  2.53650  7.28695        True\n  2     P48  3.50407  7.30319        True\n  3     P52  6.58351  7.28796       False\n  4    P244  2.76693  5.49368        True\n  ..    ...      ...      ...         ...\n  145   P71  5.90792  3.70633       False\n  146  P152  2.27350  6.89466        True\n  147    P2  7.18594  8.52138       False\n  148   P28  4.10972  6.17059        True\n  149    P9  1.94744  6.08943        True\n  \n  [150 rows x 4 columns],\n  'interaction': 'Cluster Selection',\n  'isApproved': False},\n {'data':     Label        X        Y\n  3     P52  6.58351  7.28796\n  5    P171  4.77421  4.17980\n  8    P199  8.34966  0.09550\n  9    P183  8.42670  1.80299\n  10    P61  4.29760  2.99981\n  ..    ...      ...      ...\n  141  P138  7.35179  7.05215\n  142   P46  6.62171  8.27311\n  143   P54  7.45748  2.19756\n  145   P71  5.90792  3.70633\n  147    P2  7.18594  8.52138\n  \n  [108 rows x 3 columns],\n  'interaction': 'Filter: Out',\n  'isApproved': False}]"
     },
     "execution_count": 6,
     "metadata": {},
     "output_type": "execute_result"
    }
   ],
   "source": [
    "results.results"
   ]
  },
  {
   "cell_type": "code",
   "execution_count": 7,
   "metadata": {},
   "outputs": [
    {
     "name": "stdout",
     "output_type": "stream",
     "text": [
      "| Root\n",
      " +--| Add Plot\n",
      "     +--| Added brush to: X-Y\n",
      "         +--| Cluster Selection\n",
      "             +--| Filter: Out\n"
     ]
    }
   ],
   "source": [
    "workflow.describe"
   ]
  },
  {
   "cell_type": "code",
   "execution_count": null,
   "metadata": {},
   "outputs": [],
   "source": []
  }
 ],
 "metadata": {
  "kernelspec": {
   "display_name": "Python 3.8.3 64-bit",
   "name": "python383jvsc74a57bd0e5de4a47e73232518541efd06ac6e1d565ddbab900bb9285a07611b281da39ce"
  },
  "language_info": {
   "codemirror_mode": {
    "name": "ipython",
    "version": 3
   },
   "file_extension": ".py",
   "mimetype": "text/x-python",
   "name": "python",
   "nbconvert_exporter": "python",
   "pygments_lexer": "ipython3",
   "version": "3.8.3"
  },
  "metadata": {
   "interpreter": {
    "hash": "bed9a561fb83291a278b30e3f88fdd47e5ca4c4a3db87eebfaf40c1dec639dff"
   }
  },
  "orig_nbformat": 2
 },
 "nbformat": 4,
 "nbformat_minor": 2
}