{
 "cells": [
  {
   "cell_type": "code",
   "execution_count": 11,
   "metadata": {},
   "outputs": [
    {
     "name": "stdout",
     "output_type": "stream",
     "text": [
      "Requirement already satisfied: widgetsnbextension in /Users/kirangadhave/opt/anaconda3/lib/python3.8/site-packages (3.5.1)\n",
      "Requirement already satisfied: notebook>=4.4.1 in /Users/kirangadhave/opt/anaconda3/lib/python3.8/site-packages (from widgetsnbextension) (6.0.3)\n",
      "Requirement already satisfied: traitlets>=4.2.1 in /Users/kirangadhave/opt/anaconda3/lib/python3.8/site-packages (from notebook>=4.4.1->widgetsnbextension) (4.3.3)\n",
      "Requirement already satisfied: Send2Trash in /Users/kirangadhave/opt/anaconda3/lib/python3.8/site-packages (from notebook>=4.4.1->widgetsnbextension) (1.5.0)\n",
      "Requirement already satisfied: jupyter-client>=5.3.4 in /Users/kirangadhave/opt/anaconda3/lib/python3.8/site-packages (from notebook>=4.4.1->widgetsnbextension) (6.1.6)\n",
      "Requirement already satisfied: nbconvert in /Users/kirangadhave/opt/anaconda3/lib/python3.8/site-packages (from notebook>=4.4.1->widgetsnbextension) (5.6.1)\n",
      "Requirement already satisfied: ipykernel in /Users/kirangadhave/opt/anaconda3/lib/python3.8/site-packages (from notebook>=4.4.1->widgetsnbextension) (5.3.2)\n",
      "Requirement already satisfied: prometheus-client in /Users/kirangadhave/opt/anaconda3/lib/python3.8/site-packages (from notebook>=4.4.1->widgetsnbextension) (0.8.0)\n",
      "Requirement already satisfied: terminado>=0.8.1 in /Users/kirangadhave/opt/anaconda3/lib/python3.8/site-packages (from notebook>=4.4.1->widgetsnbextension) (0.8.3)\n",
      "Requirement already satisfied: ipython-genutils in /Users/kirangadhave/opt/anaconda3/lib/python3.8/site-packages (from notebook>=4.4.1->widgetsnbextension) (0.2.0)\n",
      "Requirement already satisfied: nbformat in /Users/kirangadhave/opt/anaconda3/lib/python3.8/site-packages (from notebook>=4.4.1->widgetsnbextension) (5.0.7)\n",
      "Requirement already satisfied: pyzmq>=17 in /Users/kirangadhave/opt/anaconda3/lib/python3.8/site-packages (from notebook>=4.4.1->widgetsnbextension) (19.0.1)\n",
      "Requirement already satisfied: tornado>=5.0 in /Users/kirangadhave/opt/anaconda3/lib/python3.8/site-packages (from notebook>=4.4.1->widgetsnbextension) (6.0.4)\n",
      "Requirement already satisfied: jupyter-core>=4.6.1 in /Users/kirangadhave/opt/anaconda3/lib/python3.8/site-packages (from notebook>=4.4.1->widgetsnbextension) (4.6.3)\n",
      "Requirement already satisfied: jinja2 in /Users/kirangadhave/opt/anaconda3/lib/python3.8/site-packages (from notebook>=4.4.1->widgetsnbextension) (2.11.2)\n",
      "Requirement already satisfied: six in /Users/kirangadhave/opt/anaconda3/lib/python3.8/site-packages (from traitlets>=4.2.1->notebook>=4.4.1->widgetsnbextension) (1.15.0)\n",
      "Requirement already satisfied: decorator in /Users/kirangadhave/opt/anaconda3/lib/python3.8/site-packages (from traitlets>=4.2.1->notebook>=4.4.1->widgetsnbextension) (4.4.2)\n",
      "Requirement already satisfied: python-dateutil>=2.1 in /Users/kirangadhave/opt/anaconda3/lib/python3.8/site-packages (from jupyter-client>=5.3.4->notebook>=4.4.1->widgetsnbextension) (2.8.1)\n",
      "Requirement already satisfied: defusedxml in /Users/kirangadhave/opt/anaconda3/lib/python3.8/site-packages (from nbconvert->notebook>=4.4.1->widgetsnbextension) (0.6.0)\n",
      "Requirement already satisfied: entrypoints>=0.2.2 in /Users/kirangadhave/opt/anaconda3/lib/python3.8/site-packages (from nbconvert->notebook>=4.4.1->widgetsnbextension) (0.3)\n",
      "Requirement already satisfied: pygments in /Users/kirangadhave/opt/anaconda3/lib/python3.8/site-packages (from nbconvert->notebook>=4.4.1->widgetsnbextension) (2.6.1)\n",
      "Requirement already satisfied: bleach in /Users/kirangadhave/opt/anaconda3/lib/python3.8/site-packages (from nbconvert->notebook>=4.4.1->widgetsnbextension) (3.1.5)\n",
      "Requirement already satisfied: testpath in /Users/kirangadhave/opt/anaconda3/lib/python3.8/site-packages (from nbconvert->notebook>=4.4.1->widgetsnbextension) (0.4.4)\n",
      "Requirement already satisfied: pandocfilters>=1.4.1 in /Users/kirangadhave/opt/anaconda3/lib/python3.8/site-packages (from nbconvert->notebook>=4.4.1->widgetsnbextension) (1.4.2)\n",
      "Requirement already satisfied: mistune<2,>=0.8.1 in /Users/kirangadhave/opt/anaconda3/lib/python3.8/site-packages (from nbconvert->notebook>=4.4.1->widgetsnbextension) (0.8.4)\n",
      "Requirement already satisfied: appnope; platform_system == \"Darwin\" in /Users/kirangadhave/opt/anaconda3/lib/python3.8/site-packages (from ipykernel->notebook>=4.4.1->widgetsnbextension) (0.1.0)\n",
      "Requirement already satisfied: ipython>=5.0.0 in /Users/kirangadhave/opt/anaconda3/lib/python3.8/site-packages (from ipykernel->notebook>=4.4.1->widgetsnbextension) (7.16.1)\n",
      "Requirement already satisfied: jsonschema!=2.5.0,>=2.4 in /Users/kirangadhave/opt/anaconda3/lib/python3.8/site-packages (from nbformat->notebook>=4.4.1->widgetsnbextension) (3.2.0)\n",
      "Requirement already satisfied: MarkupSafe>=0.23 in /Users/kirangadhave/opt/anaconda3/lib/python3.8/site-packages (from jinja2->notebook>=4.4.1->widgetsnbextension) (1.1.1)\n",
      "Requirement already satisfied: packaging in /Users/kirangadhave/opt/anaconda3/lib/python3.8/site-packages (from bleach->nbconvert->notebook>=4.4.1->widgetsnbextension) (20.4)\n",
      "Requirement already satisfied: webencodings in /Users/kirangadhave/opt/anaconda3/lib/python3.8/site-packages (from bleach->nbconvert->notebook>=4.4.1->widgetsnbextension) (0.5.1)\n",
      "Requirement already satisfied: pexpect; sys_platform != \"win32\" in /Users/kirangadhave/opt/anaconda3/lib/python3.8/site-packages (from ipython>=5.0.0->ipykernel->notebook>=4.4.1->widgetsnbextension) (4.8.0)\n",
      "Requirement already satisfied: jedi>=0.10 in /Users/kirangadhave/opt/anaconda3/lib/python3.8/site-packages (from ipython>=5.0.0->ipykernel->notebook>=4.4.1->widgetsnbextension) (0.17.1)\n",
      "Requirement already satisfied: prompt-toolkit!=3.0.0,!=3.0.1,<3.1.0,>=2.0.0 in /Users/kirangadhave/opt/anaconda3/lib/python3.8/site-packages (from ipython>=5.0.0->ipykernel->notebook>=4.4.1->widgetsnbextension) (3.0.5)\n",
      "Requirement already satisfied: setuptools>=18.5 in /Users/kirangadhave/opt/anaconda3/lib/python3.8/site-packages (from ipython>=5.0.0->ipykernel->notebook>=4.4.1->widgetsnbextension) (49.2.0.post20200714)\n",
      "Requirement already satisfied: pickleshare in /Users/kirangadhave/opt/anaconda3/lib/python3.8/site-packages (from ipython>=5.0.0->ipykernel->notebook>=4.4.1->widgetsnbextension) (0.7.5)\n",
      "Requirement already satisfied: backcall in /Users/kirangadhave/opt/anaconda3/lib/python3.8/site-packages (from ipython>=5.0.0->ipykernel->notebook>=4.4.1->widgetsnbextension) (0.2.0)\n",
      "Requirement already satisfied: pyrsistent>=0.14.0 in /Users/kirangadhave/opt/anaconda3/lib/python3.8/site-packages (from jsonschema!=2.5.0,>=2.4->nbformat->notebook>=4.4.1->widgetsnbextension) (0.16.0)\n",
      "Requirement already satisfied: attrs>=17.4.0 in /Users/kirangadhave/opt/anaconda3/lib/python3.8/site-packages (from jsonschema!=2.5.0,>=2.4->nbformat->notebook>=4.4.1->widgetsnbextension) (19.3.0)\n",
      "Requirement already satisfied: pyparsing>=2.0.2 in /Users/kirangadhave/opt/anaconda3/lib/python3.8/site-packages (from packaging->bleach->nbconvert->notebook>=4.4.1->widgetsnbextension) (2.4.7)\n",
      "Requirement already satisfied: ptyprocess>=0.5 in /Users/kirangadhave/opt/anaconda3/lib/python3.8/site-packages (from pexpect; sys_platform != \"win32\"->ipython>=5.0.0->ipykernel->notebook>=4.4.1->widgetsnbextension) (0.6.0)\n",
      "Requirement already satisfied: parso<0.8.0,>=0.7.0 in /Users/kirangadhave/opt/anaconda3/lib/python3.8/site-packages (from jedi>=0.10->ipython>=5.0.0->ipykernel->notebook>=4.4.1->widgetsnbextension) (0.7.0)\n",
      "Requirement already satisfied: wcwidth in /Users/kirangadhave/opt/anaconda3/lib/python3.8/site-packages (from prompt-toolkit!=3.0.0,!=3.0.1,<3.1.0,>=2.0.0->ipython>=5.0.0->ipykernel->notebook>=4.4.1->widgetsnbextension) (0.2.5)\n"
     ]
    }
   ],
   "source": [
    "# # !pip install b2-ext\n",
    "# # !pip install datascience\n",
    "# !pip install vega\n",
    "# !pip install asttokens\n",
    "# !pip install pyperclip\n",
    "!pip install widgetsnbextension"
   ]
  },
  {
   "cell_type": "code",
   "execution_count": 12,
   "metadata": {},
   "outputs": [],
   "source": [
    "from b2 import B2"
   ]
  },
  {
   "cell_type": "code",
   "execution_count": 13,
   "metadata": {},
   "outputs": [],
   "source": [
    "v = B2()"
   ]
  },
  {
   "cell_type": "code",
   "execution_count": 15,
   "metadata": {},
   "outputs": [],
   "source": [
    "a = v.from_file(\"./cluster_simple_v1.csv\")"
   ]
  },
  {
   "cell_type": "code",
   "execution_count": 16,
   "metadata": {},
   "outputs": [
    {
     "data": {
      "text/html": [
       "<table border=\"1\" class=\"dataframe\">\n",
       "    <thead>\n",
       "        <tr>\n",
       "            <th>Label</th> <th>X</th> <th>Y</th>\n",
       "        </tr>\n",
       "    </thead>\n",
       "    <tbody>\n",
       "        <tr>\n",
       "            <td>P56  </td> <td>7.47682</td> <td>1.14216 </td>\n",
       "        </tr>\n",
       "        <tr>\n",
       "            <td>P127 </td> <td>7.51176</td> <td>6.16116 </td>\n",
       "        </tr>\n",
       "        <tr>\n",
       "            <td>P60  </td> <td>10     </td> <td>0.968288</td>\n",
       "        </tr>\n",
       "        <tr>\n",
       "            <td>P152 </td> <td>2.2735 </td> <td>8.89466 </td>\n",
       "        </tr>\n",
       "        <tr>\n",
       "            <td>P106 </td> <td>7.82193</td> <td>1.54476 </td>\n",
       "        </tr>\n",
       "        <tr>\n",
       "            <td>P119 </td> <td>7.68129</td> <td>7.8355  </td>\n",
       "        </tr>\n",
       "        <tr>\n",
       "            <td>P194 </td> <td>5.82112</td> <td>3.50542 </td>\n",
       "        </tr>\n",
       "        <tr>\n",
       "            <td>P91  </td> <td>6.02728</td> <td>8.34481 </td>\n",
       "        </tr>\n",
       "        <tr>\n",
       "            <td>P216 </td> <td>6.20601</td> <td>2.69974 </td>\n",
       "        </tr>\n",
       "        <tr>\n",
       "            <td>P49  </td> <td>7.06729</td> <td>8.08912 </td>\n",
       "        </tr>\n",
       "    </tbody>\n",
       "</table>\n",
       "<p>... (240 rows omitted)</p>"
      ],
      "text/plain": [
       "Label | X       | Y\n",
       "P56   | 7.47682 | 1.14216\n",
       "P127  | 7.51176 | 6.16116\n",
       "P60   | 10      | 0.968288\n",
       "P152  | 2.2735  | 8.89466\n",
       "P106  | 7.82193 | 1.54476\n",
       "P119  | 7.68129 | 7.8355\n",
       "P194  | 5.82112 | 3.50542\n",
       "P91   | 6.02728 | 8.34481\n",
       "P216  | 6.20601 | 2.69974\n",
       "P49   | 7.06729 | 8.08912\n",
       "... (240 rows omitted)"
      ]
     },
     "execution_count": 16,
     "metadata": {},
     "output_type": "execute_result"
    }
   ],
   "source": [
    "a"
   ]
  },
  {
   "cell_type": "code",
   "execution_count": 17,
   "metadata": {},
   "outputs": [
    {
     "data": {
      "text/plain": [
       "b2.algebra.dataframe.MidasDataFrame"
      ]
     },
     "execution_count": 17,
     "metadata": {},
     "output_type": "execute_result"
    }
   ],
   "source": [
    "type(a)"
   ]
  },
  {
   "cell_type": "code",
   "execution_count": null,
   "metadata": {},
   "outputs": [],
   "source": []
  }
 ],
 "metadata": {
  "kernelspec": {
   "display_name": "Python 3",
   "language": "python",
   "name": "python3"
  },
  "language_info": {
   "codemirror_mode": {
    "name": "ipython",
    "version": 3
   },
   "file_extension": ".py",
   "mimetype": "text/x-python",
   "name": "python",
   "nbconvert_exporter": "python",
   "pygments_lexer": "ipython3",
   "version": "3.8.3"
  }
 },
 "nbformat": 4,
 "nbformat_minor": 4
}
