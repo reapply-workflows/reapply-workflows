{
 "cells": [
  {
   "cell_type": "code",
   "execution_count": 1,
   "metadata": {},
   "outputs": [],
   "source": [
    "%load_ext autoreload\n",
    "%autoreload 2"
   ]
  },
  {
   "cell_type": "code",
   "execution_count": 28,
   "metadata": {},
   "outputs": [],
   "source": [
    "import os\n",
    "import sys\n",
    "import importlib\n",
    "import json\n",
    "\n",
    "# Link Reapply Workflow\n",
    "module_path = os.path.abspath(os.path.join('..'))\n",
    "\n",
    "sys.path = list(filter(lambda x: x!=module_path, sys.path))\n",
    "sys.path.append(module_path)\n",
    "# Reapply workflows is now linked\n",
    "# use with 'from reapply_workflows import ......'\n",
    "%aimport reapply_workflows\n",
    "\n",
    "from reapply_workflows import Reapply"
   ]
  },
  {
   "cell_type": "code",
   "execution_count": null,
   "metadata": {},
   "outputs": [],
   "source": []
  },
  {
   "cell_type": "code",
   "execution_count": null,
   "metadata": {},
   "outputs": [],
   "source": []
  },
  {
   "cell_type": "code",
   "execution_count": 29,
   "metadata": {},
   "outputs": [
    {
     "name": "stdout",
     "output_type": "stream",
     "text": [
      "Test Workflow\n",
      "Hello, World\n",
      "Gapminder, World\n",
      "{'gapminder_1990': 'accepted', 'gapminder_2010': 'unknown'}\n"
     ]
    }
   ],
   "source": [
    "with open(\"./test.json\") as f:\n",
    "    wf = json.load(f)\n",
    "\n",
    "r = Reapply()\n",
    "r.apply(wf)"
   ]
  },
  {
   "cell_type": "code",
   "execution_count": null,
   "metadata": {},
   "outputs": [],
   "source": []
  },
  {
   "cell_type": "code",
   "execution_count": null,
   "metadata": {},
   "outputs": [],
   "source": []
  }
 ],
 "metadata": {
  "kernelspec": {
   "display_name": "Python 3",
   "language": "python",
   "name": "python3"
  },
  "language_info": {
   "codemirror_mode": {
    "name": "ipython",
    "version": 3
   },
   "file_extension": ".py",
   "mimetype": "text/x-python",
   "name": "python",
   "nbconvert_exporter": "python",
   "pygments_lexer": "ipython3",
   "version": "3.8.3"
  }
 },
 "nbformat": 4,
 "nbformat_minor": 4
}
