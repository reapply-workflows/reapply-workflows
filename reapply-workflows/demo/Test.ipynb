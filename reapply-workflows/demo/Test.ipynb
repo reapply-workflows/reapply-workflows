{
 "cells": [
  {
   "cell_type": "code",
   "execution_count": null,
   "metadata": {},
   "outputs": [],
   "source": [
    "# !pip install firebase-admin\n",
    "# ! pip install altair\n",
    "# ! pip install asciitree"
   ]
  },
  {
   "cell_type": "code",
   "execution_count": 12,
   "metadata": {},
   "outputs": [
    {
     "name": "stdout",
     "output_type": "stream",
     "text": [
      "The autoreload extension is already loaded. To reload it, use:\n",
      "  %reload_ext autoreload\n"
     ]
    }
   ],
   "source": [
    "%load_ext autoreload\n",
    "%autoreload 2"
   ]
  },
  {
   "cell_type": "code",
   "execution_count": 13,
   "metadata": {},
   "outputs": [],
   "source": [
    "import os\n",
    "import sys\n",
    "import pandas as pd\n",
    "import numpy as np\n",
    "import importlib\n",
    "import altair as alt\n",
    "import json\n",
    "import hashlib\n",
    "\n",
    "# Link Reapply Workflow\n",
    "module_path = os.path.abspath(os.path.join('..'))\n",
    "\n",
    "sys.path = list(filter(lambda x: x!=module_path, sys.path))\n",
    "sys.path.append(module_path)\n",
    "# Reapply workflows is now linked\n",
    "# use with 'from reapply_workflows import ......'\n",
    "%aimport reapply_workflows\n",
    "\n",
    "from reapply_workflows import Reapply"
   ]
  },
  {
   "cell_type": "code",
   "execution_count": 14,
   "metadata": {},
   "outputs": [],
   "source": [
    "reapply = Reapply()"
   ]
  },
  {
   "cell_type": "code",
   "execution_count": null,
   "metadata": {},
   "outputs": [],
   "source": [
    "project = reapply.load(\"Covid OWID\")"
   ]
  },
  {
   "cell_type": "code",
   "execution_count": null,
   "metadata": {},
   "outputs": [],
   "source": [
    "project.list_workflows()"
   ]
  },
  {
   "cell_type": "code",
   "execution_count": null,
   "metadata": {},
   "outputs": [],
   "source": [
    "wf = project.get_workflow(\"1631206976307\")\n",
    "wf.describe()"
   ]
  },
  {
   "cell_type": "code",
   "execution_count": null,
   "metadata": {},
   "outputs": [],
   "source": [
    "dec_2020 = pd.read_csv(\"dec_2020.csv\")\n",
    "jan_2021 = pd.read_csv(\"jan_2021.csv\")"
   ]
  },
  {
   "cell_type": "code",
   "execution_count": null,
   "metadata": {},
   "outputs": [],
   "source": [
    "results = wf.apply(jan_2021, \"location\")"
   ]
  },
  {
   "cell_type": "code",
   "execution_count": null,
   "metadata": {},
   "outputs": [],
   "source": [
    "results.pretty_print(display)"
   ]
  },
  {
   "cell_type": "code",
   "execution_count": null,
   "metadata": {},
   "outputs": [],
   "source": [
    "# 1631221934900"
   ]
  },
  {
   "cell_type": "code",
   "execution_count": null,
   "metadata": {},
   "outputs": [],
   "source": [
    "output = results.output()"
   ]
  },
  {
   "cell_type": "code",
   "execution_count": null,
   "metadata": {},
   "outputs": [],
   "source": [
    "alt.Chart(output).mark_bar().encode(x=\"Case Category\", y=\"count(Case Category)\", color=\"region\")"
   ]
  },
  {
   "cell_type": "markdown",
   "metadata": {},
   "source": [
    "### Load the Library"
   ]
  },
  {
   "cell_type": "code",
   "execution_count": 3,
   "metadata": {},
   "outputs": [],
   "source": [
    "from reapply_workflows import Reapply"
   ]
  },
  {
   "cell_type": "markdown",
   "metadata": {},
   "source": [
    "### Load the Datasets"
   ]
  },
  {
   "cell_type": "code",
   "execution_count": 4,
   "metadata": {},
   "outputs": [],
   "source": [
    "dec_2020 = pd.read_csv(\"dec_2020.csv\")\n",
    "jan_2021 = pd.read_csv(\"jan_2021.csv\")\n",
    "june_2021 = pd.read_csv(\"june_2021.csv\")"
   ]
  },
  {
   "cell_type": "code",
   "execution_count": 5,
   "metadata": {},
   "outputs": [],
   "source": [
    "# Initialize the reapply library\n",
    "reapply = Reapply()"
   ]
  },
  {
   "cell_type": "code",
   "execution_count": 6,
   "metadata": {},
   "outputs": [
    {
     "name": "stdout",
     "output_type": "stream",
     "text": [
      "Filter outliers - 1631147866246\n",
      "Categorize Outliers - 1631229352091\n"
     ]
    }
   ],
   "source": [
    "# Load the Covid OWID project and list all the workflows available for this\n",
    "project = reapply.load(\"Covid OWID\")\n",
    "project.list_workflows()"
   ]
  },
  {
   "cell_type": "code",
   "execution_count": 7,
   "metadata": {},
   "outputs": [
    {
     "name": "stdout",
     "output_type": "stream",
     "text": [
      "Categorize Outliers\n",
      "| Root\n",
      " +--| Adding scatterplot for new_cases_per_million-new_deaths_per_million\n",
      "     +--| Apply Outlier selection\n",
      "         +--| Filter In\n",
      "             +--| Add Brush\n",
      "                 +--| Categorize Selections\n",
      "                     +--| Add Brush\n",
      "                         +--| Categorize Selections\n",
      "                             +--| Add Brush\n",
      "                                 +--| Categorize Selections\n"
     ]
    }
   ],
   "source": [
    "# Load the categorize outliers workflow\n",
    "wf = project.get_workflow(\"1631229352091\")\n",
    "wf.describe()"
   ]
  },
  {
   "cell_type": "code",
   "execution_count": 8,
   "metadata": {},
   "outputs": [],
   "source": [
    "# Apply the workflow to all datasets\n",
    "def plot(data, title):\n",
    "  chart = alt.Chart(data, width=200, height=200).mark_point(size=50).encode(x=\"new_cases_per_million\", y=\"new_deaths_per_million\", shape=\"Case Category\").properties(title=title)\n",
    "  return chart"
   ]
  },
  {
   "cell_type": "code",
   "execution_count": 9,
   "metadata": {},
   "outputs": [
    {
     "data": {
      "text/html": [
       "\n",
       "<div id=\"altair-viz-5e7f3203792043fe841c817ae934b083\"></div>\n",
       "<script type=\"text/javascript\">\n",
       "  (function(spec, embedOpt){\n",
       "    let outputDiv = document.currentScript.previousElementSibling;\n",
       "    if (outputDiv.id !== \"altair-viz-5e7f3203792043fe841c817ae934b083\") {\n",
       "      outputDiv = document.getElementById(\"altair-viz-5e7f3203792043fe841c817ae934b083\");\n",
       "    }\n",
       "    const paths = {\n",
       "      \"vega\": \"https://cdn.jsdelivr.net/npm//vega@5?noext\",\n",
       "      \"vega-lib\": \"https://cdn.jsdelivr.net/npm//vega-lib?noext\",\n",
       "      \"vega-lite\": \"https://cdn.jsdelivr.net/npm//vega-lite@4.8.1?noext\",\n",
       "      \"vega-embed\": \"https://cdn.jsdelivr.net/npm//vega-embed@6?noext\",\n",
       "    };\n",
       "\n",
       "    function loadScript(lib) {\n",
       "      return new Promise(function(resolve, reject) {\n",
       "        var s = document.createElement('script');\n",
       "        s.src = paths[lib];\n",
       "        s.async = true;\n",
       "        s.onload = () => resolve(paths[lib]);\n",
       "        s.onerror = () => reject(`Error loading script: ${paths[lib]}`);\n",
       "        document.getElementsByTagName(\"head\")[0].appendChild(s);\n",
       "      });\n",
       "    }\n",
       "\n",
       "    function showError(err) {\n",
       "      outputDiv.innerHTML = `<div class=\"error\" style=\"color:red;\">${err}</div>`;\n",
       "      throw err;\n",
       "    }\n",
       "\n",
       "    function displayChart(vegaEmbed) {\n",
       "      vegaEmbed(outputDiv, spec, embedOpt)\n",
       "        .catch(err => showError(`Javascript Error: ${err.message}<br>This usually means there's a typo in your chart specification. See the javascript console for the full traceback.`));\n",
       "    }\n",
       "\n",
       "    if(typeof define === \"function\" && define.amd) {\n",
       "      requirejs.config({paths});\n",
       "      require([\"vega-embed\"], displayChart, err => showError(`Error loading script: ${err.message}`));\n",
       "    } else if (typeof vegaEmbed === \"function\") {\n",
       "      displayChart(vegaEmbed);\n",
       "    } else {\n",
       "      loadScript(\"vega\")\n",
       "        .then(() => loadScript(\"vega-lite\"))\n",
       "        .then(() => loadScript(\"vega-embed\"))\n",
       "        .catch(showError)\n",
       "        .then(() => displayChart(vegaEmbed));\n",
       "    }\n",
       "  })({\"config\": {\"view\": {\"continuousWidth\": 400, \"continuousHeight\": 300}}, \"hconcat\": [{\"data\": {\"name\": \"data-c6e9a5e88d048a45b2183048f7a4ea22\"}, \"mark\": {\"type\": \"point\", \"size\": 50}, \"encoding\": {\"shape\": {\"type\": \"nominal\", \"field\": \"Case Category\"}, \"x\": {\"type\": \"quantitative\", \"field\": \"new_cases_per_million\"}, \"y\": {\"type\": \"quantitative\", \"field\": \"new_deaths_per_million\"}}, \"height\": 200, \"title\": \"jan_2021\", \"width\": 200}, {\"data\": {\"name\": \"data-c6b999b58f382871e6fe4fe3b68e6261\"}, \"mark\": {\"type\": \"point\", \"size\": 50}, \"encoding\": {\"shape\": {\"type\": \"nominal\", \"field\": \"Case Category\"}, \"x\": {\"type\": \"quantitative\", \"field\": \"new_cases_per_million\"}, \"y\": {\"type\": \"quantitative\", \"field\": \"new_deaths_per_million\"}}, \"height\": 200, \"title\": \"dec_2020\", \"width\": 200}, {\"data\": {\"name\": \"data-d71a8a2a101ecaf6564b0483b23bdb22\"}, \"mark\": {\"type\": \"point\", \"size\": 50}, \"encoding\": {\"shape\": {\"type\": \"nominal\", \"field\": \"Case Category\"}, \"x\": {\"type\": \"quantitative\", \"field\": \"new_cases_per_million\"}, \"y\": {\"type\": \"quantitative\", \"field\": \"new_deaths_per_million\"}}, \"height\": 200, \"title\": \"june_2021\", \"width\": 200}], \"resolve\": {\"scale\": {\"x\": \"shared\", \"y\": \"shared\"}}, \"$schema\": \"https://vega.github.io/schema/vega-lite/v4.8.1.json\", \"datasets\": {\"data-c6e9a5e88d048a45b2183048f7a4ea22\": [{\"location\": \"Andorra\", \"excess_mortality\": -6.22, \"gdp_per_capita\": 50286.172, \"hosp_patients_per_million\": 131.442, \"human_development_index\": 0.868, \"icu_patients_per_million\": 36.2915, \"life_expectancy\": 83.73, \"new_cases_per_million\": 737.721, \"new_deaths_per_million\": 0.0, \"people_fully_vaccinated_per_hundred\": 0.765, \"people_vaccinated_per_hundred\": 0.75, \"population\": 77265.0, \"population_density\": 163.755, \"positive_rate\": 0.106, \"region\": \"Europe\", \"reproduction_rate\": 1.11, \"stringency_index\": 52.78, \"total_cases_per_million\": 116974.05, \"total_deaths_per_million\": 1177.765, \"total_tests_per_thousand\": 1714.3335, \"total_vaccinations_per_hundred\": 0.75, \"Case Category\": \"Low Death - High Cases\"}, {\"location\": \"Czechia\", \"excess_mortality\": 57.16, \"gdp_per_capita\": 32605.906, \"hosp_patients_per_million\": 605.286, \"human_development_index\": 0.9, \"icu_patients_per_million\": 101.877, \"life_expectancy\": 79.38, \"new_cases_per_million\": 768.327, \"new_deaths_per_million\": 14.661, \"people_fully_vaccinated_per_hundred\": 0.08, \"people_vaccinated_per_hundred\": 1.11, \"population\": 10708982.0, \"population_density\": 137.176, \"positive_rate\": 0.164, \"region\": \"Europe\", \"reproduction_rate\": 0.92, \"stringency_index\": 73.15, \"total_cases_per_million\": 82538.751, \"total_deaths_per_million\": 1327.39, \"total_tests_per_thousand\": 496.701, \"total_vaccinations_per_hundred\": 1.11, \"Case Category\": \"High Deaths - High Cases\"}, {\"location\": \"Ireland\", \"excess_mortality\": 22.28, \"gdp_per_capita\": 67335.293, \"hosp_patients_per_million\": 342.258, \"human_development_index\": 0.955, \"icu_patients_per_million\": 38.681, \"life_expectancy\": 82.3, \"new_cases_per_million\": 596.622, \"new_deaths_per_million\": 4.658, \"people_fully_vaccinated_per_hundred\": 0.64, \"people_vaccinated_per_hundred\": 3.02, \"population\": 4937796.0, \"population_density\": 69.874, \"positive_rate\": 0.132, \"region\": \"Europe\", \"reproduction_rate\": 0.84, \"stringency_index\": 85.19, \"total_cases_per_million\": 34383.762, \"total_deaths_per_million\": 525.538, \"total_tests_per_thousand\": 561.388, \"total_vaccinations_per_hundred\": 1.9, \"Case Category\": \"Low Death - High Cases\"}, {\"location\": \"Israel\", \"excess_mortality\": 19.64, \"gdp_per_capita\": 33132.32, \"hosp_patients_per_million\": 242.504, \"human_development_index\": 0.919, \"icu_patients_per_million\": 37.664, \"life_expectancy\": 82.97, \"new_cases_per_million\": 811.85, \"new_deaths_per_million\": 5.083, \"people_fully_vaccinated_per_hundred\": 4.54, \"people_vaccinated_per_hundred\": 24.72, \"population\": 8655541.0, \"population_density\": 402.606, \"positive_rate\": 0.076, \"region\": \"Asia\", \"reproduction_rate\": 1.09, \"stringency_index\": 85.19, \"total_cases_per_million\": 62792.031, \"total_deaths_per_million\": 457.395, \"total_tests_per_thousand\": 1158.358, \"total_vaccinations_per_hundred\": 27.59, \"Case Category\": \"Low Death - High Cases\"}, {\"location\": \"Latvia\", \"excess_mortality\": 27.23, \"gdp_per_capita\": 25063.846, \"hosp_patients_per_million\": 557.735, \"human_development_index\": 0.866, \"icu_patients_per_million\": 62.0405, \"life_expectancy\": 75.29, \"new_cases_per_million\": 464.425, \"new_deaths_per_million\": 9.013, \"people_fully_vaccinated_per_hundred\": 0.05, \"people_vaccinated_per_hundred\": 0.85, \"population\": 1886202.0, \"population_density\": 31.212, \"positive_rate\": 0.086, \"region\": \"Europe\", \"reproduction_rate\": 0.99, \"stringency_index\": 57.41, \"total_cases_per_million\": 29210.551, \"total_deaths_per_million\": 509.489, \"total_tests_per_thousand\": 546.434, \"total_vaccinations_per_hundred\": 0.85, \"Case Category\": \"High Deaths - Low Cases\"}, {\"location\": \"Lebanon\", \"excess_mortality\": 76.31, \"gdp_per_capita\": 13367.565, \"hosp_patients_per_million\": 320.827, \"human_development_index\": 0.744, \"icu_patients_per_million\": 36.0765, \"life_expectancy\": 78.93, \"new_cases_per_million\": 535.35, \"new_deaths_per_million\": 6.446, \"people_fully_vaccinated_per_hundred\": 0.035, \"people_vaccinated_per_hundred\": 1.535, \"population\": 6825442.0, \"population_density\": 594.561, \"positive_rate\": 0.1185, \"region\": \"Asia\", \"reproduction_rate\": 1.11, \"stringency_index\": 90.74, \"total_cases_per_million\": 36504.303, \"total_deaths_per_million\": 273.389, \"total_tests_per_thousand\": 272.3515, \"total_vaccinations_per_hundred\": 1.54, \"Case Category\": \"Low Death - High Cases\"}, {\"location\": \"Lithuania\", \"excess_mortality\": 34.39, \"gdp_per_capita\": 29524.265, \"hosp_patients_per_million\": 748.634, \"human_development_index\": 0.882, \"icu_patients_per_million\": 62.0405, \"life_expectancy\": 75.93, \"new_cases_per_million\": 452.56, \"new_deaths_per_million\": 12.489, \"people_fully_vaccinated_per_hundred\": 0.34, \"people_vaccinated_per_hundred\": 1.88, \"population\": 2722291.0, \"population_density\": 45.135, \"positive_rate\": 0.12, \"region\": \"Europe\", \"reproduction_rate\": 0.78, \"stringency_index\": 74.07, \"total_cases_per_million\": 62151.328, \"total_deaths_per_million\": 888.59, \"total_tests_per_thousand\": 663.807, \"total_vaccinations_per_hundred\": 1.88, \"Case Category\": \"High Deaths - Low Cases\"}, {\"location\": \"Montenegro\", \"excess_mortality\": 27.31, \"gdp_per_capita\": 16409.288, \"hosp_patients_per_million\": 173.893, \"human_development_index\": 0.829, \"icu_patients_per_million\": 35.682, \"life_expectancy\": 76.88, \"new_cases_per_million\": 676.685, \"new_deaths_per_million\": 4.777, \"people_fully_vaccinated_per_hundred\": 0.39, \"people_vaccinated_per_hundred\": 2.6475, \"population\": 628062.0, \"population_density\": 46.28, \"positive_rate\": 0.0185, \"region\": \"Europe\", \"reproduction_rate\": 1.05, \"stringency_index\": 59.72, \"total_cases_per_million\": 87787.511, \"total_deaths_per_million\": 1183.004, \"total_tests_per_thousand\": 1744.50175, \"total_vaccinations_per_hundred\": 2.7325, \"Case Category\": \"Low Death - High Cases\"}, {\"location\": \"Panama\", \"excess_mortality\": 89.03, \"gdp_per_capita\": 22267.037, \"hosp_patients_per_million\": 385.6095, \"human_development_index\": 0.815, \"icu_patients_per_million\": 21.777, \"life_expectancy\": 78.51, \"new_cases_per_million\": 499.911, \"new_deaths_per_million\": 9.039, \"people_fully_vaccinated_per_hundred\": 0.205, \"people_vaccinated_per_hundred\": 0.15, \"population\": 4314768.0, \"population_density\": 55.133, \"positive_rate\": 0.204, \"region\": \"North America\", \"reproduction_rate\": 0.84, \"stringency_index\": 76.85, \"total_cases_per_million\": 68663.947, \"total_deaths_per_million\": 1098.089, \"total_tests_per_thousand\": 351.384, \"total_vaccinations_per_hundred\": 0.15, \"Case Category\": \"High Deaths - Low Cases\"}, {\"location\": \"Portugal\", \"excess_mortality\": 64.46, \"gdp_per_capita\": 27936.896, \"hosp_patients_per_million\": 456.324, \"human_development_index\": 0.864, \"icu_patients_per_million\": 62.569, \"life_expectancy\": 82.05, \"new_cases_per_million\": 1018.466, \"new_deaths_per_million\": 15.593, \"people_fully_vaccinated_per_hundred\": 0.05, \"people_vaccinated_per_hundred\": 1.125, \"population\": 10196707.0, \"population_density\": 112.371, \"positive_rate\": 0.176, \"region\": \"Europe\", \"reproduction_rate\": 1.27, \"stringency_index\": 69.44, \"total_cases_per_million\": 52901.0, \"total_deaths_per_million\": 854.099, \"total_tests_per_thousand\": 630.002, \"total_vaccinations_per_hundred\": 1.255, \"Case Category\": \"High Deaths - High Cases\"}, {\"location\": \"Slovakia\", \"excess_mortality\": 80.1, \"gdp_per_capita\": 30155.152, \"hosp_patients_per_million\": 561.392, \"human_development_index\": 0.86, \"icu_patients_per_million\": 21.777, \"life_expectancy\": 77.54, \"new_cases_per_million\": 391.418, \"new_deaths_per_million\": 14.103, \"people_fully_vaccinated_per_hundred\": 0.07, \"people_vaccinated_per_hundred\": 1.235, \"population\": 5459643.0, \"population_density\": 113.128, \"positive_rate\": 0.067, \"region\": \"Europe\", \"reproduction_rate\": 0.96, \"stringency_index\": 73.15, \"total_cases_per_million\": 40799.737, \"total_deaths_per_million\": 625.865, \"total_tests_per_thousand\": 773.495, \"total_vaccinations_per_hundred\": 1.24, \"Case Category\": \"High Deaths - Low Cases\"}, {\"location\": \"Slovenia\", \"excess_mortality\": 36.55, \"gdp_per_capita\": 31400.84, \"hosp_patients_per_million\": 564.232, \"human_development_index\": 0.917, \"icu_patients_per_million\": 90.912, \"life_expectancy\": 81.32, \"new_cases_per_million\": 741.246, \"new_deaths_per_million\": 12.025, \"people_fully_vaccinated_per_hundred\": 0.18, \"people_vaccinated_per_hundred\": 2.37, \"population\": 2078932.0, \"population_density\": 102.619, \"positive_rate\": 0.249, \"region\": \"Europe\", \"reproduction_rate\": 0.93, \"stringency_index\": 81.48, \"total_cases_per_million\": 71457.845, \"total_deaths_per_million\": 1510.391, \"total_tests_per_thousand\": 359.605, \"total_vaccinations_per_hundred\": 2.37, \"Case Category\": \"High Deaths - High Cases\"}, {\"location\": \"Spain\", \"excess_mortality\": 17.73, \"gdp_per_capita\": 34272.36, \"hosp_patients_per_million\": 495.864, \"human_development_index\": 0.904, \"icu_patients_per_million\": 70.303, \"life_expectancy\": 83.56, \"new_cases_per_million\": 654.029, \"new_deaths_per_million\": 5.026, \"people_fully_vaccinated_per_hundred\": 0.19, \"people_vaccinated_per_hundred\": 1.985, \"population\": 46754783.0, \"population_density\": 93.105, \"positive_rate\": 0.139, \"region\": \"Europe\", \"reproduction_rate\": 1.41, \"stringency_index\": 71.3, \"total_cases_per_million\": 48169.703, \"total_deaths_per_million\": 1140.29, \"total_tests_per_thousand\": 548.6825, \"total_vaccinations_per_hundred\": 1.995, \"Case Category\": \"Low Death - High Cases\"}, {\"location\": \"United Kingdom\", \"excess_mortality\": 38.22, \"gdp_per_capita\": 39753.244, \"hosp_patients_per_million\": 541.363, \"human_development_index\": 0.932, \"icu_patients_per_million\": 55.814, \"life_expectancy\": 81.32, \"new_cases_per_million\": 610.258, \"new_deaths_per_million\": 17.75, \"people_fully_vaccinated_per_hundred\": 0.685, \"people_vaccinated_per_hundred\": 7.33, \"population\": 67886004.0, \"population_density\": 272.898, \"positive_rate\": 0.089, \"region\": \"Europe\", \"reproduction_rate\": 0.86, \"stringency_index\": 87.96, \"total_cases_per_million\": 49598.942, \"total_deaths_per_million\": 1307.295, \"total_tests_per_thousand\": 785.526, \"total_vaccinations_per_hundred\": 8.01, \"Case Category\": \"High Deaths - High Cases\"}, {\"location\": \"United States\", \"excess_mortality\": 43.05, \"gdp_per_capita\": 54225.446, \"hosp_patients_per_million\": 365.641, \"human_development_index\": 0.926, \"icu_patients_per_million\": 84.069, \"life_expectancy\": 78.86, \"new_cases_per_million\": 576.31, \"new_deaths_per_million\": 10.329, \"people_fully_vaccinated_per_hundred\": 0.96, \"people_vaccinated_per_hundred\": 4.27, \"population\": 331002647.0, \"population_density\": 35.608, \"positive_rate\": 0.125, \"region\": \"North America\", \"reproduction_rate\": 0.9, \"stringency_index\": 71.76, \"total_cases_per_million\": 72018.974, \"total_deaths_per_million\": 1217.773, \"total_tests_per_thousand\": 862.027, \"total_vaccinations_per_hundred\": 4.82, \"Case Category\": \"High Deaths - High Cases\"}], \"data-c6b999b58f382871e6fe4fe3b68e6261\": [{\"location\": \"Andorra\", \"excess_mortality\": 38.51, \"gdp_per_capita\": 53382.2495, \"hosp_patients_per_million\": 210.4985, \"human_development_index\": 0.868, \"icu_patients_per_million\": 39.833, \"life_expectancy\": 83.73, \"new_cases_per_million\": 582.411, \"new_deaths_per_million\": 0.0, \"people_fully_vaccinated_per_hundred\": 0.0, \"people_vaccinated_per_hundred\": 0.0, \"population\": 77265.0, \"population_density\": 163.755, \"positive_rate\": 0.1085, \"region\": \"Europe\", \"reproduction_rate\": 0.93, \"stringency_index\": 52.78, \"total_cases_per_million\": 96369.637, \"total_deaths_per_million\": 1022.455, \"total_tests_per_thousand\": 571.4125, \"total_vaccinations_per_hundred\": 0.0, \"Case Category\": \"Low Death - High Cases\"}, {\"location\": \"Austria\", \"excess_mortality\": 45.595, \"gdp_per_capita\": 45436.686, \"hosp_patients_per_million\": 317.774, \"human_development_index\": 0.922, \"icu_patients_per_million\": 60.846, \"life_expectancy\": 81.54, \"new_cases_per_million\": 287.351, \"new_deaths_per_million\": 11.658, \"people_fully_vaccinated_per_hundred\": 0.0, \"people_vaccinated_per_hundred\": 0.04, \"population\": 9006400.0, \"population_density\": 106.749, \"positive_rate\": 0.114, \"region\": \"Europe\", \"reproduction_rate\": 0.8, \"stringency_index\": 71.3, \"total_cases_per_million\": 36678.695, \"total_deaths_per_million\": 528.957, \"total_tests_per_thousand\": 385.821, \"total_vaccinations_per_hundred\": 0.04, \"Case Category\": \"High Deaths - Low Cases\"}, {\"location\": \"Bosnia and Herzegovina\", \"excess_mortality\": 90.66, \"gdp_per_capita\": 11713.895, \"hosp_patients_per_million\": 763.4545, \"human_development_index\": 0.78, \"icu_patients_per_million\": 59.7535, \"life_expectancy\": 77.4, \"new_cases_per_million\": 232.564, \"new_deaths_per_million\": 14.021, \"people_fully_vaccinated_per_hundred\": 0.0, \"people_vaccinated_per_hundred\": 0.245, \"population\": 3280815.0, \"population_density\": 68.496, \"positive_rate\": 0.245, \"region\": \"Europe\", \"reproduction_rate\": 0.85, \"stringency_index\": 48.15, \"total_cases_per_million\": 31465.352, \"total_deaths_per_million\": 1070.161, \"total_tests_per_thousand\": 144.263, \"total_vaccinations_per_hundred\": 0.095, \"Case Category\": \"High Deaths - Low Cases\"}, {\"location\": \"Bulgaria\", \"excess_mortality\": 88.185, \"gdp_per_capita\": 18563.307, \"hosp_patients_per_million\": 970.577, \"human_development_index\": 0.816, \"icu_patients_per_million\": 75.269, \"life_expectancy\": 75.05, \"new_cases_per_million\": 250.272, \"new_deaths_per_million\": 17.558, \"people_fully_vaccinated_per_hundred\": 0.0, \"people_vaccinated_per_hundred\": 0.045, \"population\": 6948445.0, \"population_density\": 65.18, \"positive_rate\": 0.33, \"region\": \"Europe\", \"reproduction_rate\": 0.76, \"stringency_index\": 53.7, \"total_cases_per_million\": 26803.983, \"total_deaths_per_million\": 891.71, \"total_tests_per_thousand\": 155.07, \"total_vaccinations_per_hundred\": 0.045, \"Case Category\": \"High Deaths - Low Cases\"}, {\"location\": \"Cayman Islands\", \"excess_mortality\": 86.225, \"gdp_per_capita\": 49903.029, \"hosp_patients_per_million\": 210.4985, \"human_development_index\": 0.8935, \"icu_patients_per_million\": 39.833, \"life_expectancy\": 83.92, \"new_cases_per_million\": 645.1925, \"new_deaths_per_million\": 0.0, \"people_fully_vaccinated_per_hundred\": 0.0, \"people_vaccinated_per_hundred\": 0.0, \"population\": 65720.0, \"population_density\": 256.496, \"positive_rate\": 0.1085, \"region\": \"North America\", \"reproduction_rate\": 1.01, \"stringency_index\": 49.075, \"total_cases_per_million\": 69161.8225, \"total_deaths_per_million\": 786.5505, \"total_tests_per_thousand\": 571.4125, \"total_vaccinations_per_hundred\": 0.0, \"Case Category\": \"Low Death - High Cases\"}, {\"location\": \"Croatia\", \"excess_mortality\": 68.72, \"gdp_per_capita\": 22669.797, \"hosp_patients_per_million\": 662.563, \"human_development_index\": 0.851, \"icu_patients_per_million\": 51.861, \"life_expectancy\": 78.49, \"new_cases_per_million\": 670.358, \"new_deaths_per_million\": 16.564, \"people_fully_vaccinated_per_hundred\": 0.0, \"people_vaccinated_per_hundred\": 0.19, \"population\": 4105268.0, \"population_density\": 73.726, \"positive_rate\": 0.335, \"region\": \"Europe\", \"reproduction_rate\": 0.85, \"stringency_index\": 56.48, \"total_cases_per_million\": 44587.832, \"total_deaths_per_million\": 699.102, \"total_tests_per_thousand\": 218.458, \"total_vaccinations_per_hundred\": 0.19, \"Case Category\": \"High Deaths - High Cases\"}, {\"location\": \"Czechia\", \"excess_mortality\": 44.77, \"gdp_per_capita\": 32605.906, \"hosp_patients_per_million\": 427.305, \"human_development_index\": 0.9, \"icu_patients_per_million\": 56.028, \"life_expectancy\": 79.38, \"new_cases_per_million\": 483.333, \"new_deaths_per_million\": 10.085, \"people_fully_vaccinated_per_hundred\": 0.0, \"people_vaccinated_per_hundred\": 0.07, \"population\": 10708982.0, \"population_density\": 137.176, \"positive_rate\": 0.182, \"region\": \"Europe\", \"reproduction_rate\": 1.22, \"stringency_index\": 65.74, \"total_cases_per_million\": 55481.277, \"total_deaths_per_million\": 922.777, \"total_tests_per_thousand\": 181.3515, \"total_vaccinations_per_hundred\": 0.07, \"Case Category\": \"High Deaths - Low Cases\"}, {\"location\": \"Georgia\", \"excess_mortality\": 43.0, \"gdp_per_capita\": 9745.079, \"hosp_patients_per_million\": 354.571, \"human_development_index\": 0.812, \"icu_patients_per_million\": 5.5645, \"life_expectancy\": 73.77, \"new_cases_per_million\": 727.97, \"new_deaths_per_million\": 9.776, \"people_fully_vaccinated_per_hundred\": 0.0, \"people_vaccinated_per_hundred\": 0.095, \"population\": 3989175.0, \"population_density\": 65.032, \"positive_rate\": 0.191, \"region\": \"Asia\", \"reproduction_rate\": 0.81, \"stringency_index\": 84.26, \"total_cases_per_million\": 49731.335, \"total_deaths_per_million\": 481.804, \"total_tests_per_thousand\": 249.365, \"total_vaccinations_per_hundred\": 0.125, \"Case Category\": \"High Deaths - High Cases\"}, {\"location\": \"Hungary\", \"excess_mortality\": 50.595, \"gdp_per_capita\": 26777.561, \"hosp_patients_per_million\": 790.758, \"human_development_index\": 0.854, \"icu_patients_per_million\": 40.985, \"life_expectancy\": 76.88, \"new_cases_per_million\": 333.425, \"new_deaths_per_million\": 16.563, \"people_fully_vaccinated_per_hundred\": 0.0, \"people_vaccinated_per_hundred\": 0.045, \"population\": 9660350.0, \"population_density\": 108.043, \"positive_rate\": 0.174, \"region\": \"Europe\", \"reproduction_rate\": 0.8, \"stringency_index\": 72.22, \"total_cases_per_million\": 29871.278, \"total_deaths_per_million\": 764.051, \"total_tests_per_thousand\": 204.556, \"total_vaccinations_per_hundred\": 0.01, \"Case Category\": \"High Deaths - Low Cases\"}, {\"location\": \"Liechtenstein\", \"excess_mortality\": 133.94, \"gdp_per_capita\": 53382.2495, \"hosp_patients_per_million\": 118.171, \"human_development_index\": 0.919, \"icu_patients_per_million\": 18.8135, \"life_expectancy\": 82.49, \"new_cases_per_million\": 707.974, \"new_deaths_per_million\": 0.0, \"people_fully_vaccinated_per_hundred\": 0.0, \"people_vaccinated_per_hundred\": 0.0, \"population\": 38137.0, \"population_density\": 237.012, \"positive_rate\": 0.182, \"region\": \"Europe\", \"reproduction_rate\": 1.09, \"stringency_index\": 45.37, \"total_cases_per_million\": 41954.008, \"total_deaths_per_million\": 550.646, \"total_tests_per_thousand\": 473.477, \"total_vaccinations_per_hundred\": 0.0, \"Case Category\": \"Low Death - High Cases\"}, {\"location\": \"Lithuania\", \"excess_mortality\": 66.715, \"gdp_per_capita\": 29524.265, \"hosp_patients_per_million\": 864.346, \"human_development_index\": 0.882, \"icu_patients_per_million\": 59.7535, \"life_expectancy\": 75.93, \"new_cases_per_million\": 925.324, \"new_deaths_per_million\": 14.326, \"people_fully_vaccinated_per_hundred\": 0.0, \"people_vaccinated_per_hundred\": 0.3, \"population\": 2722291.0, \"population_density\": 45.135, \"positive_rate\": 0.224, \"region\": \"Europe\", \"reproduction_rate\": 1.12, \"stringency_index\": 74.07, \"total_cases_per_million\": 36797.315, \"total_deaths_per_million\": 417.663, \"total_tests_per_thousand\": 538.457, \"total_vaccinations_per_hundred\": 0.3, \"Case Category\": \"High Deaths - High Cases\"}, {\"location\": \"Montenegro\", \"excess_mortality\": 32.13, \"gdp_per_capita\": 16409.288, \"hosp_patients_per_million\": 231.9665, \"human_development_index\": 0.829, \"icu_patients_per_million\": 39.833, \"life_expectancy\": 76.88, \"new_cases_per_million\": 640.064, \"new_deaths_per_million\": 9.553, \"people_fully_vaccinated_per_hundred\": 0.0, \"people_vaccinated_per_hundred\": 0.81, \"population\": 628062.0, \"population_density\": 46.28, \"positive_rate\": 0.08825, \"region\": \"Europe\", \"reproduction_rate\": 0.92, \"stringency_index\": 62.5, \"total_cases_per_million\": 67768.787, \"total_deaths_per_million\": 971.242, \"total_tests_per_thousand\": 1479.023, \"total_vaccinations_per_hundred\": 0.81, \"Case Category\": \"High Deaths - High Cases\"}, {\"location\": \"North Macedonia\", \"excess_mortality\": 78.29, \"gdp_per_capita\": 13111.214, \"hosp_patients_per_million\": 513.226, \"human_development_index\": 0.774, \"icu_patients_per_million\": 59.7535, \"life_expectancy\": 75.8, \"new_cases_per_million\": 313.913, \"new_deaths_per_million\": 12.0, \"people_fully_vaccinated_per_hundred\": 0.0, \"people_vaccinated_per_hundred\": 0.22, \"population\": 2083380.0, \"population_density\": 82.6, \"positive_rate\": 0.328, \"region\": \"Europe\", \"reproduction_rate\": 0.86, \"stringency_index\": 50.925, \"total_cases_per_million\": 36285.747, \"total_deaths_per_million\": 1053.096, \"total_tests_per_thousand\": 179.227, \"total_vaccinations_per_hundred\": 0.22, \"Case Category\": \"High Deaths - Low Cases\"}, {\"location\": \"Panama\", \"excess_mortality\": 29.04, \"gdp_per_capita\": 22267.037, \"hosp_patients_per_million\": 354.571, \"human_development_index\": 0.815, \"icu_patients_per_million\": 5.5645, \"life_expectancy\": 78.51, \"new_cases_per_million\": 561.328, \"new_deaths_per_million\": 6.489, \"people_fully_vaccinated_per_hundred\": 0.0, \"people_vaccinated_per_hundred\": 0.1375, \"population\": 4314768.0, \"population_density\": 55.133, \"positive_rate\": 0.184, \"region\": \"North America\", \"reproduction_rate\": 1.19, \"stringency_index\": 67.59, \"total_cases_per_million\": 46340.151, \"total_deaths_per_million\": 797.03, \"total_tests_per_thousand\": 254.133, \"total_vaccinations_per_hundred\": 0.125, \"Case Category\": \"Low Death - High Cases\"}, {\"location\": \"Poland\", \"excess_mortality\": 49.86, \"gdp_per_capita\": 27216.445, \"hosp_patients_per_million\": 494.285, \"human_development_index\": 0.88, \"icu_patients_per_million\": 10.0515, \"life_expectancy\": 78.73, \"new_cases_per_million\": 290.911, \"new_deaths_per_million\": 11.388, \"people_fully_vaccinated_per_hundred\": 0.0, \"people_vaccinated_per_hundred\": 0.06, \"population\": 37846605.0, \"population_density\": 124.027, \"positive_rate\": 0.334, \"region\": \"Europe\", \"reproduction_rate\": 0.87, \"stringency_index\": 75.0, \"total_cases_per_million\": 30647.425, \"total_deaths_per_million\": 631.866, \"total_tests_per_thousand\": 172.661, \"total_vaccinations_per_hundred\": 0.06, \"Case Category\": \"High Deaths - Low Cases\"}, {\"location\": \"San Marino\", \"excess_mortality\": 110.28, \"gdp_per_capita\": 56861.47, \"hosp_patients_per_million\": 210.4985, \"human_development_index\": 0.8935, \"icu_patients_per_million\": 39.833, \"life_expectancy\": 84.97, \"new_cases_per_million\": 854.499, \"new_deaths_per_million\": 0.0, \"people_fully_vaccinated_per_hundred\": 0.0, \"people_vaccinated_per_hundred\": 0.0, \"population\": 33938.0, \"population_density\": 556.667, \"positive_rate\": 0.1085, \"region\": \"Europe\", \"reproduction_rate\": 1.07, \"stringency_index\": 50.0, \"total_cases_per_million\": 59667.629, \"total_deaths_per_million\": 1591.137, \"total_tests_per_thousand\": 571.4125, \"total_vaccinations_per_hundred\": 0.0, \"Case Category\": \"Low Death - High Cases\"}, {\"location\": \"Serbia\", \"excess_mortality\": 93.81, \"gdp_per_capita\": 14048.881, \"hosp_patients_per_million\": 506.9465, \"human_development_index\": 0.806, \"icu_patients_per_million\": 40.161, \"life_expectancy\": 76.0, \"new_cases_per_million\": 734.063, \"new_deaths_per_million\": 7.495, \"people_fully_vaccinated_per_hundred\": 0.0, \"people_vaccinated_per_hundred\": 0.0225, \"population\": 6804596.0, \"population_density\": 80.291, \"positive_rate\": 0.325, \"region\": \"Europe\", \"reproduction_rate\": 0.83, \"stringency_index\": 60.19, \"total_cases_per_million\": 41530.901, \"total_deaths_per_million\": 364.753, \"total_tests_per_thousand\": 306.253, \"total_vaccinations_per_hundred\": 0.0375, \"Case Category\": \"Low Death - High Cases\"}, {\"location\": \"Slovenia\", \"excess_mortality\": 84.435, \"gdp_per_capita\": 31400.84, \"hosp_patients_per_million\": 606.561, \"human_development_index\": 0.917, \"icu_patients_per_million\": 97.646, \"life_expectancy\": 81.32, \"new_cases_per_million\": 789.829, \"new_deaths_per_million\": 19.722, \"people_fully_vaccinated_per_hundred\": 0.0, \"people_vaccinated_per_hundred\": 0.44, \"population\": 2078932.0, \"population_density\": 102.619, \"positive_rate\": 0.276, \"region\": \"Europe\", \"reproduction_rate\": 1.01, \"stringency_index\": 81.48, \"total_cases_per_million\": 48294.509, \"total_deaths_per_million\": 1053.426, \"total_tests_per_thousand\": 294.708, \"total_vaccinations_per_hundred\": 0.44, \"Case Category\": \"High Deaths - High Cases\"}, {\"location\": \"Sweden\", \"excess_mortality\": 23.645, \"gdp_per_capita\": 46949.283, \"hosp_patients_per_million\": 251.8, \"human_development_index\": 0.945, \"icu_patients_per_million\": 25.942, \"life_expectancy\": 82.8, \"new_cases_per_million\": 534.692, \"new_deaths_per_million\": 0.0, \"people_fully_vaccinated_per_hundred\": 0.0, \"people_vaccinated_per_hundred\": 0.02, \"population\": 10099270.0, \"population_density\": 24.718, \"positive_rate\": 0.147, \"region\": \"Europe\", \"reproduction_rate\": 1.27, \"stringency_index\": 69.44, \"total_cases_per_million\": 34515.861, \"total_deaths_per_million\": 772.531, \"total_tests_per_thousand\": 394.99475, \"total_vaccinations_per_hundred\": 0.02, \"Case Category\": \"Low Death - High Cases\"}, {\"location\": \"Switzerland\", \"excess_mortality\": 62.375, \"gdp_per_capita\": 57410.166, \"hosp_patients_per_million\": 320.06, \"human_development_index\": 0.955, \"icu_patients_per_million\": 53.266, \"life_expectancy\": 83.78, \"new_cases_per_million\": 507.359, \"new_deaths_per_million\": 12.132, \"people_fully_vaccinated_per_hundred\": 0.0, \"people_vaccinated_per_hundred\": 0.01, \"population\": 8654618.0, \"population_density\": 214.243, \"positive_rate\": 0.149, \"region\": \"Europe\", \"reproduction_rate\": 1.03, \"stringency_index\": 60.19, \"total_cases_per_million\": 45577.17, \"total_deaths_per_million\": 737.063, \"total_tests_per_thousand\": 328.445, \"total_vaccinations_per_hundred\": 0.01, \"Case Category\": \"High Deaths - Low Cases\"}, {\"location\": \"United States\", \"excess_mortality\": 46.13, \"gdp_per_capita\": 54225.446, \"hosp_patients_per_million\": 335.544, \"human_development_index\": 0.926, \"icu_patients_per_million\": 77.981, \"life_expectancy\": 78.86, \"new_cases_per_million\": 631.391, \"new_deaths_per_million\": 8.148, \"people_fully_vaccinated_per_hundred\": 0.0, \"people_vaccinated_per_hundred\": 0.44, \"population\": 331002647.0, \"population_density\": 35.608, \"positive_rate\": 0.118, \"region\": \"North America\", \"reproduction_rate\": 1.04, \"stringency_index\": 71.76, \"total_cases_per_million\": 51612.288, \"total_deaths_per_million\": 942.192, \"total_tests_per_thousand\": 702.905, \"total_vaccinations_per_hundred\": 0.44, \"Case Category\": \"Low Death - High Cases\"}], \"data-d71a8a2a101ecaf6564b0483b23bdb22\": [{\"location\": \"Argentina\", \"excess_mortality\": 69.505, \"gdp_per_capita\": 18933.907, \"hosp_patients_per_million\": 36.38075, \"human_development_index\": 0.845, \"icu_patients_per_million\": 5.28075, \"life_expectancy\": 76.67, \"new_cases_per_million\": 524.4625, \"new_deaths_per_million\": 12.103, \"people_fully_vaccinated_per_hundred\": 7.645, \"people_vaccinated_per_hundred\": 29.445, \"population\": 45195777.0, \"population_density\": 16.177, \"positive_rate\": 0.246, \"region\": \"South America\", \"reproduction_rate\": 0.92, \"stringency_index\": 77.78, \"total_cases_per_million\": 92612.2145, \"total_deaths_per_million\": 1923.5865, \"total_tests_per_thousand\": 239.4435, \"total_vaccinations_per_hundred\": 37.085, \"Case Category\": \"High Deaths - Low Cases\"}, {\"location\": \"Bahrain\", \"excess_mortality\": 13.725, \"gdp_per_capita\": 43290.705, \"hosp_patients_per_million\": 116.435, \"human_development_index\": 0.852, \"icu_patients_per_million\": 7.791, \"life_expectancy\": 77.29, \"new_cases_per_million\": 414.908, \"new_deaths_per_million\": 6.7585, \"people_fully_vaccinated_per_hundred\": 51.385, \"people_vaccinated_per_hundred\": 60.76, \"population\": 1701583.0, \"population_density\": 1935.907, \"positive_rate\": 0.07, \"region\": \"Asia\", \"reproduction_rate\": 0.58, \"stringency_index\": 62.96, \"total_cases_per_million\": 153177.365, \"total_deaths_per_million\": 736.079, \"total_tests_per_thousand\": 2843.452, \"total_vaccinations_per_hundred\": 112.14, \"Case Category\": \"Unassigned\"}, {\"location\": \"Bolivia\", \"excess_mortality\": 52.7725, \"gdp_per_capita\": 6885.829, \"hosp_patients_per_million\": 162.07575, \"human_development_index\": 0.718, \"icu_patients_per_million\": 18.24175, \"life_expectancy\": 71.51, \"new_cases_per_million\": 185.642, \"new_deaths_per_million\": 6.125, \"people_fully_vaccinated_per_hundred\": 4.165, \"people_vaccinated_per_hundred\": 12.99, \"population\": 11673029.0, \"population_density\": 10.202, \"positive_rate\": 0.1955, \"region\": \"South America\", \"reproduction_rate\": 0.965, \"stringency_index\": 27.78, \"total_cases_per_million\": 35388.8435, \"total_deaths_per_million\": 1352.0055, \"total_tests_per_thousand\": 143.0315, \"total_vaccinations_per_hundred\": 17.155, \"Case Category\": \"Unassigned\"}, {\"location\": \"Brazil\", \"excess_mortality\": 53.21, \"gdp_per_capita\": 14103.452, \"hosp_patients_per_million\": 95.78775, \"human_development_index\": 0.765, \"icu_patients_per_million\": 8.48275, \"life_expectancy\": 75.88, \"new_cases_per_million\": 347.301, \"new_deaths_per_million\": 9.5715, \"people_fully_vaccinated_per_hundred\": 11.19, \"people_vaccinated_per_hundred\": 26.57, \"population\": 212559409.0, \"population_density\": 25.04, \"positive_rate\": 0.08475, \"region\": \"South America\", \"reproduction_rate\": 1.015, \"stringency_index\": 60.65, \"total_cases_per_million\": 82710.5445, \"total_deaths_per_million\": 2315.562, \"total_tests_per_thousand\": 53.72425, \"total_vaccinations_per_hundred\": 38.06, \"Case Category\": \"High Deaths - Low Cases\"}, {\"location\": \"Chile\", \"excess_mortality\": 33.25, \"gdp_per_capita\": 22767.037, \"hosp_patients_per_million\": 38.4555, \"human_development_index\": 0.851, \"icu_patients_per_million\": 17.98475, \"life_expectancy\": 80.18, \"new_cases_per_million\": 293.3375, \"new_deaths_per_million\": 6.251, \"people_fully_vaccinated_per_hundred\": 48.88, \"people_vaccinated_per_hundred\": 62.445, \"population\": 19116209.0, \"population_density\": 24.282, \"positive_rate\": 0.094, \"region\": \"South America\", \"reproduction_rate\": 0.905, \"stringency_index\": 84.72, \"total_cases_per_million\": 77912.9375, \"total_deaths_per_million\": 1616.089, \"total_tests_per_thousand\": 829.687, \"total_vaccinations_per_hundred\": 110.225, \"Case Category\": \"Unassigned\"}, {\"location\": \"Colombia\", \"excess_mortality\": 125.745, \"gdp_per_capita\": 13254.949, \"hosp_patients_per_million\": 42.99325, \"human_development_index\": 0.767, \"icu_patients_per_million\": 8.458, \"life_expectancy\": 77.29, \"new_cases_per_million\": 561.4365, \"new_deaths_per_million\": 11.6445, \"people_fully_vaccinated_per_hundred\": 8.06, \"people_vaccinated_per_hundred\": 18.695, \"population\": 50882884.0, \"population_density\": 44.223, \"positive_rate\": 0.3255, \"region\": \"South America\", \"reproduction_rate\": 1.07, \"stringency_index\": 62.04, \"total_cases_per_million\": 74995.071, \"total_deaths_per_million\": 1911.4975, \"total_tests_per_thousand\": 360.597, \"total_vaccinations_per_hundred\": 26.76, \"Case Category\": \"High Deaths - High Cases\"}, {\"location\": \"Costa Rica\", \"excess_mortality\": 7.0575, \"gdp_per_capita\": 15524.995, \"hosp_patients_per_million\": 49.7295, \"human_development_index\": 0.81, \"icu_patients_per_million\": 19.45375, \"life_expectancy\": 80.28, \"new_cases_per_million\": 362.87, \"new_deaths_per_million\": 4.024, \"people_fully_vaccinated_per_hundred\": 14.54, \"people_vaccinated_per_hundred\": 27.67, \"population\": 5094114.0, \"population_density\": 96.079, \"positive_rate\": 0.183, \"region\": \"North America\", \"reproduction_rate\": 0.99, \"stringency_index\": 55.56, \"total_cases_per_million\": 67967.5605, \"total_deaths_per_million\": 868.0605, \"total_tests_per_thousand\": 222.1135, \"total_vaccinations_per_hundred\": 42.22, \"Case Category\": \"Unassigned\"}, {\"location\": \"Georgia\", \"excess_mortality\": 92.01, \"gdp_per_capita\": 9745.079, \"hosp_patients_per_million\": 116.435, \"human_development_index\": 0.812, \"icu_patients_per_million\": 7.791, \"life_expectancy\": 73.77, \"new_cases_per_million\": 190.892, \"new_deaths_per_million\": 4.262, \"people_fully_vaccinated_per_hundred\": 1.77, \"people_vaccinated_per_hundred\": 3.605, \"population\": 3989175.0, \"population_density\": 65.032, \"positive_rate\": 0.025, \"region\": \"Asia\", \"reproduction_rate\": 0.95, \"stringency_index\": 64.81, \"total_cases_per_million\": 89184.731, \"total_deaths_per_million\": 1275.8275, \"total_tests_per_thousand\": 1370.208, \"total_vaccinations_per_hundred\": 5.375, \"Case Category\": \"Unassigned\"}, {\"location\": \"Iran\", \"excess_mortality\": 71.6575, \"gdp_per_capita\": 19082.62, \"hosp_patients_per_million\": 111.37425, \"human_development_index\": 0.783, \"icu_patients_per_million\": 14.444, \"life_expectancy\": 76.68, \"new_cases_per_million\": 122.0755, \"new_deaths_per_million\": 1.595, \"people_fully_vaccinated_per_hundred\": 1.05, \"people_vaccinated_per_hundred\": 4.76, \"population\": 83992953.0, \"population_density\": 49.831, \"positive_rate\": 0.077, \"region\": \"Asia\", \"reproduction_rate\": 1.035, \"stringency_index\": 74.54, \"total_cases_per_million\": 36370.807, \"total_deaths_per_million\": 981.219, \"total_tests_per_thousand\": 260.4945, \"total_vaccinations_per_hundred\": 5.815, \"Case Category\": \"Unassigned\"}, {\"location\": \"Kuwait\", \"excess_mortality\": 7.0575, \"gdp_per_capita\": 65530.537, \"hosp_patients_per_million\": 49.7295, \"human_development_index\": 0.806, \"icu_patients_per_million\": 11.576, \"life_expectancy\": 75.49, \"new_cases_per_million\": 368.1015, \"new_deaths_per_million\": 1.405, \"people_fully_vaccinated_per_hundred\": 16.2875, \"people_vaccinated_per_hundred\": 23.77, \"population\": 4270563.0, \"population_density\": 232.128, \"positive_rate\": 0.13, \"region\": \"Asia\", \"reproduction_rate\": 1.09, \"stringency_index\": 50.93, \"total_cases_per_million\": 77692.6835, \"total_deaths_per_million\": 429.4515, \"total_tests_per_thousand\": 651.4265, \"total_vaccinations_per_hundred\": 40.87, \"Case Category\": \"Unassigned\"}, {\"location\": \"Malaysia\", \"excess_mortality\": 7.85, \"gdp_per_capita\": 26808.164, \"hosp_patients_per_million\": 38.4555, \"human_development_index\": 0.81, \"icu_patients_per_million\": 5.28075, \"life_expectancy\": 76.16, \"new_cases_per_million\": 179.1385, \"new_deaths_per_million\": 2.348, \"people_fully_vaccinated_per_hundred\": 4.58, \"people_vaccinated_per_hundred\": 11.045, \"population\": 32365998.0, \"population_density\": 96.254, \"positive_rate\": 0.068, \"region\": \"Asia\", \"reproduction_rate\": 0.975, \"stringency_index\": 78.7, \"total_cases_per_million\": 20714.671, \"total_deaths_per_million\": 126.846, \"total_tests_per_thousand\": 514.76, \"total_vaccinations_per_hundred\": 15.63, \"Case Category\": \"Unassigned\"}, {\"location\": \"Maldives\", \"excess_mortality\": 3.255, \"gdp_per_capita\": 15183.616, \"hosp_patients_per_million\": 22.5725, \"human_development_index\": 0.74, \"icu_patients_per_million\": 11.76175, \"life_expectancy\": 78.92, \"new_cases_per_million\": 450.474, \"new_deaths_per_million\": 2.775, \"people_fully_vaccinated_per_hundred\": 33.43, \"people_vaccinated_per_hundred\": 58.21, \"population\": 540542.0, \"population_density\": 1454.433, \"positive_rate\": 0.062, \"region\": \"Asia\", \"reproduction_rate\": 0.655, \"stringency_index\": 59.03, \"total_cases_per_million\": 131382.0205, \"total_deaths_per_million\": 368.149, \"total_tests_per_thousand\": 1768.6765, \"total_vaccinations_per_hundred\": 91.64, \"Case Category\": \"Unassigned\"}, {\"location\": \"Mongolia\", \"excess_mortality\": 29.1, \"gdp_per_capita\": 11840.846, \"hosp_patients_per_million\": 58.90275, \"human_development_index\": 0.737, \"icu_patients_per_million\": 11.576, \"life_expectancy\": 69.87, \"new_cases_per_million\": 628.5285, \"new_deaths_per_million\": 3.2025, \"people_fully_vaccinated_per_hundred\": 50.21, \"people_vaccinated_per_hundred\": 57.73, \"population\": 3278292.0, \"population_density\": 1.98, \"positive_rate\": 0.1705, \"region\": \"Asia\", \"reproduction_rate\": 1.235, \"stringency_index\": 59.26, \"total_cases_per_million\": 25760.0605, \"total_deaths_per_million\": 120.337, \"total_tests_per_thousand\": 940.556, \"total_vaccinations_per_hundred\": 107.93, \"Case Category\": \"Low Death - High Cases\"}, {\"location\": \"Namibia\", \"excess_mortality\": 30.24, \"gdp_per_capita\": 9541.808, \"hosp_patients_per_million\": 50.32925, \"human_development_index\": 0.646, \"icu_patients_per_million\": 11.76175, \"life_expectancy\": 63.71, \"new_cases_per_million\": 398.085, \"new_deaths_per_million\": 7.4775, \"people_fully_vaccinated_per_hundred\": 0.63, \"people_vaccinated_per_hundred\": 3.61, \"population\": 2540916.0, \"population_density\": 3.078, \"positive_rate\": 0.3235, \"region\": \"Africa\", \"reproduction_rate\": 1.365, \"stringency_index\": 56.48, \"total_cases_per_million\": 26785.0255, \"total_deaths_per_million\": 415.795, \"total_tests_per_thousand\": 186.333, \"total_vaccinations_per_hundred\": 4.24, \"Case Category\": \"High Deaths - Low Cases\"}, {\"location\": \"Oman\", \"excess_mortality\": 156.84, \"gdp_per_capita\": 37960.709, \"hosp_patients_per_million\": 199.913, \"human_development_index\": 0.813, \"icu_patients_per_million\": 26.87825, \"life_expectancy\": 77.86, \"new_cases_per_million\": 361.491, \"new_deaths_per_million\": 3.721, \"people_fully_vaccinated_per_hundred\": 3.62, \"people_vaccinated_per_hundred\": 9.505, \"population\": 5106622.0, \"population_density\": 14.98, \"positive_rate\": 0.0435, \"region\": \"Asia\", \"reproduction_rate\": 1.285, \"stringency_index\": 60.19, \"total_cases_per_million\": 46926.716, \"total_deaths_per_million\": 504.8345, \"total_tests_per_thousand\": 554.69075, \"total_vaccinations_per_hundred\": 14.1, \"Case Category\": \"Unassigned\"}, {\"location\": \"Panama\", \"excess_mortality\": 79.7825, \"gdp_per_capita\": 22267.037, \"hosp_patients_per_million\": 96.98725, \"human_development_index\": 0.815, \"icu_patients_per_million\": 26.87825, \"life_expectancy\": 78.51, \"new_cases_per_million\": 197.693, \"new_deaths_per_million\": 1.391, \"people_fully_vaccinated_per_hundred\": 10.115, \"people_vaccinated_per_hundred\": 19.04, \"population\": 4314768.0, \"population_density\": 55.133, \"positive_rate\": 0.0715, \"region\": \"North America\", \"reproduction_rate\": 1.14, \"stringency_index\": 61.11, \"total_cases_per_million\": 90317.0225, \"total_deaths_per_million\": 1495.909, \"total_tests_per_thousand\": 655.371, \"total_vaccinations_per_hundred\": 30.78, \"Case Category\": \"Unassigned\"}, {\"location\": \"Paraguay\", \"excess_mortality\": 100.16, \"gdp_per_capita\": 8827.01, \"hosp_patients_per_million\": 199.913, \"human_development_index\": 0.728, \"icu_patients_per_million\": 19.45375, \"life_expectancy\": 74.25, \"new_cases_per_million\": 300.875, \"new_deaths_per_million\": 17.245, \"people_fully_vaccinated_per_hundred\": 1.74, \"people_vaccinated_per_hundred\": 7.755, \"population\": 7132530.0, \"population_density\": 17.144, \"positive_rate\": 0.2985, \"region\": \"South America\", \"reproduction_rate\": 0.87, \"stringency_index\": 49.07, \"total_cases_per_million\": 55724.266, \"total_deaths_per_million\": 1559.755, \"total_tests_per_thousand\": 199.3555, \"total_vaccinations_per_hundred\": 9.495, \"Case Category\": \"High Deaths - Low Cases\"}, {\"location\": \"Peru\", \"excess_mortality\": 110.89, \"gdp_per_capita\": 12236.706, \"hosp_patients_per_million\": 17.7125, \"human_development_index\": 0.777, \"icu_patients_per_million\": 5.28075, \"life_expectancy\": 76.74, \"new_cases_per_million\": 87.605, \"new_deaths_per_million\": 7.7795, \"people_fully_vaccinated_per_hundred\": 6.905, \"people_vaccinated_per_hundred\": 11.675, \"population\": 32971846.0, \"population_density\": 25.129, \"positive_rate\": 0.078, \"region\": \"South America\", \"reproduction_rate\": 0.95, \"stringency_index\": 75.93, \"total_cases_per_million\": 60884.58, \"total_deaths_per_million\": 5740.079, \"total_tests_per_thousand\": 130.713, \"total_vaccinations_per_hundred\": 18.585, \"Case Category\": \"High Deaths - Low Cases\"}, {\"location\": \"Romania\", \"excess_mortality\": 9.74, \"gdp_per_capita\": 23313.199, \"hosp_patients_per_million\": 17.7125, \"human_development_index\": 0.828, \"icu_patients_per_million\": 9.98, \"life_expectancy\": 76.05, \"new_cases_per_million\": 4.1585, \"new_deaths_per_million\": 4.99, \"people_fully_vaccinated_per_hundred\": 22.0, \"people_vaccinated_per_hundred\": 23.775, \"population\": 19237682.0, \"population_density\": 85.129, \"positive_rate\": 0.0065, \"region\": \"Europe\", \"reproduction_rate\": 0.565, \"stringency_index\": 42.59, \"total_cases_per_million\": 56136.233, \"total_deaths_per_million\": 1663.0125, \"total_tests_per_thousand\": 423.2265, \"total_vaccinations_per_hundred\": 44.625, \"Case Category\": \"Unassigned\"}, {\"location\": \"Solomon Islands\", \"excess_mortality\": 7.285, \"gdp_per_capita\": 2205.923, \"hosp_patients_per_million\": 8.654, \"human_development_index\": 0.567, \"icu_patients_per_million\": 7.791, \"life_expectancy\": 73.0, \"new_cases_per_million\": 0.0, \"new_deaths_per_million\": 6.41575, \"people_fully_vaccinated_per_hundred\": 0.52, \"people_vaccinated_per_hundred\": 2.63, \"population\": 686878.0, \"population_density\": 21.841, \"positive_rate\": 0.01925, \"region\": \"Oceania\", \"reproduction_rate\": 0.88, \"stringency_index\": 25.0, \"total_cases_per_million\": 29.117, \"total_deaths_per_million\": 609.661, \"total_tests_per_thousand\": 271.922, \"total_vaccinations_per_hundred\": 3.15, \"Case Category\": \"Unassigned\"}, {\"location\": \"South Africa\", \"excess_mortality\": 71.6575, \"gdp_per_capita\": 12294.876, \"hosp_patients_per_million\": 36.38075, \"human_development_index\": 0.709, \"icu_patients_per_million\": 5.28075, \"life_expectancy\": 64.13, \"new_cases_per_million\": 155.7865, \"new_deaths_per_million\": 2.0065, \"people_fully_vaccinated_per_hundred\": 11.385, \"people_vaccinated_per_hundred\": 3.16, \"population\": 59308690.0, \"population_density\": 46.754, \"positive_rate\": 0.1725, \"region\": \"Africa\", \"reproduction_rate\": 1.35, \"stringency_index\": 50.0, \"total_cases_per_million\": 29804.89, \"total_deaths_per_million\": 980.5475, \"total_tests_per_thousand\": 207.412, \"total_vaccinations_per_hundred\": 3.16, \"Case Category\": \"Unassigned\"}, {\"location\": \"Suriname\", \"excess_mortality\": 7.285, \"gdp_per_capita\": 13767.119, \"hosp_patients_per_million\": 8.654, \"human_development_index\": 0.738, \"icu_patients_per_million\": 7.791, \"life_expectancy\": 71.68, \"new_cases_per_million\": 407.409, \"new_deaths_per_million\": 11.932, \"people_fully_vaccinated_per_hundred\": 4.5, \"people_vaccinated_per_hundred\": 20.295, \"population\": 586634.0, \"population_density\": 3.612, \"positive_rate\": 0.01925, \"region\": \"South America\", \"reproduction_rate\": 0.97, \"stringency_index\": 81.48, \"total_cases_per_million\": 32331.0615, \"total_deaths_per_million\": 720.2105, \"total_tests_per_thousand\": 271.922, \"total_vaccinations_per_hundred\": 24.8, \"Case Category\": \"High Deaths - Low Cases\"}, {\"location\": \"Trinidad and Tobago\", \"excess_mortality\": 29.09, \"gdp_per_capita\": 28763.071, \"hosp_patients_per_million\": 22.5725, \"human_development_index\": 0.796, \"icu_patients_per_million\": 11.76175, \"life_expectancy\": 73.51, \"new_cases_per_million\": 211.148, \"new_deaths_per_million\": 8.575, \"people_fully_vaccinated_per_hundred\": 1.52, \"people_vaccinated_per_hundred\": 11.985, \"population\": 1399491.0, \"population_density\": 266.886, \"positive_rate\": 0.1995, \"region\": \"North America\", \"reproduction_rate\": 0.845, \"stringency_index\": 74.07, \"total_cases_per_million\": 21048.724, \"total_deaths_per_million\": 493.3935, \"total_tests_per_thousand\": 152.492, \"total_vaccinations_per_hundred\": 13.505, \"Case Category\": \"High Deaths - Low Cases\"}, {\"location\": \"Tunisia\", \"excess_mortality\": 52.7725, \"gdp_per_capita\": 10849.297, \"hosp_patients_per_million\": 162.07575, \"human_development_index\": 0.74, \"icu_patients_per_million\": 18.24175, \"life_expectancy\": 76.7, \"new_cases_per_million\": 180.351, \"new_deaths_per_million\": 6.642, \"people_fully_vaccinated_per_hundred\": 3.21, \"people_vaccinated_per_hundred\": 9.03, \"population\": 11818618.0, \"population_density\": 74.228, \"positive_rate\": 0.288, \"region\": \"Africa\", \"reproduction_rate\": 1.195, \"stringency_index\": 72.22, \"total_cases_per_million\": 31582.923, \"total_deaths_per_million\": 1158.215, \"total_tests_per_thousand\": 132.702, \"total_vaccinations_per_hundred\": 12.24, \"Case Category\": \"Unassigned\"}, {\"location\": \"United Arab Emirates\", \"excess_mortality\": -2.595, \"gdp_per_capita\": 67293.483, \"hosp_patients_per_million\": 26.69, \"human_development_index\": 0.89, \"icu_patients_per_million\": 5.6415, \"life_expectancy\": 77.97, \"new_cases_per_million\": 210.861, \"new_deaths_per_million\": 0.404, \"people_fully_vaccinated_per_hundred\": 23.355, \"people_vaccinated_per_hundred\": 43.945, \"population\": 9890400.0, \"population_density\": 112.442, \"positive_rate\": 0.009, \"region\": \"Asia\", \"reproduction_rate\": 1.035, \"stringency_index\": 57.175, \"total_cases_per_million\": 60963.7125, \"total_deaths_per_million\": 175.524, \"total_tests_per_thousand\": 5449.9105, \"total_vaccinations_per_hundred\": 142.24, \"Case Category\": \"Unassigned\"}, {\"location\": \"Uruguay\", \"excess_mortality\": 37.43, \"gdp_per_capita\": 20551.409, \"hosp_patients_per_million\": 49.7295, \"human_development_index\": 0.817, \"icu_patients_per_million\": 11.576, \"life_expectancy\": 77.91, \"new_cases_per_million\": 655.348, \"new_deaths_per_million\": 12.235, \"people_fully_vaccinated_per_hundred\": 36.73, \"people_vaccinated_per_hundred\": 61.485, \"population\": 3473727.0, \"population_density\": 19.751, \"positive_rate\": 0.1495, \"region\": \"South America\", \"reproduction_rate\": 0.81, \"stringency_index\": 63.89, \"total_cases_per_million\": 99335.67, \"total_deaths_per_million\": 1469.459, \"total_tests_per_thousand\": 747.588, \"total_vaccinations_per_hundred\": 98.215, \"Case Category\": \"High Deaths - High Cases\"}]}}, {\"mode\": \"vega-lite\"});\n",
       "</script>"
      ],
      "text/plain": [
       "alt.HConcatChart(...)"
      ]
     },
     "execution_count": 9,
     "metadata": {},
     "output_type": "execute_result"
    }
   ],
   "source": [
    "results_jan_2021 = wf.apply(jan_2021, \"location\")\n",
    "output_jan_2021 = results_jan_2021.output()\n",
    "plot_jan_2021 = plot(output_jan_2021, \"jan_2021\")\n",
    "\n",
    "results_dec_2020 = wf.apply(dec_2020, \"location\")\n",
    "output_dec_2020 = results_dec_2020.output()\n",
    "plot_dec_2020 = plot(output_dec_2020, \"dec_2020\")\n",
    "\n",
    "results_june_2021 = wf.apply(june_2021, \"location\")\n",
    "output_june_2021 = results_june_2021.output()\n",
    "plot_june_2021 = plot(output_june_2021, \"june_2021\")\n",
    "\n",
    "alt.hconcat(plot_jan_2021, plot_dec_2020, plot_june_2021).resolve_scale(y=\"shared\", x=\"shared\")"
   ]
  },
  {
   "cell_type": "code",
   "execution_count": 10,
   "metadata": {},
   "outputs": [],
   "source": [
    "def plot_bar(data, title):\n",
    "  chart = alt.Chart(data).mark_bar().encode(x=\"count(Case Category)\", y=\"Case Category\", color=\"region\").properties(title=title)\n",
    "  return chart"
   ]
  },
  {
   "cell_type": "code",
   "execution_count": 11,
   "metadata": {},
   "outputs": [
    {
     "data": {
      "text/html": [
       "\n",
       "<div id=\"altair-viz-c8ce058550d04457bd09edc56f14bdce\"></div>\n",
       "<script type=\"text/javascript\">\n",
       "  (function(spec, embedOpt){\n",
       "    let outputDiv = document.currentScript.previousElementSibling;\n",
       "    if (outputDiv.id !== \"altair-viz-c8ce058550d04457bd09edc56f14bdce\") {\n",
       "      outputDiv = document.getElementById(\"altair-viz-c8ce058550d04457bd09edc56f14bdce\");\n",
       "    }\n",
       "    const paths = {\n",
       "      \"vega\": \"https://cdn.jsdelivr.net/npm//vega@5?noext\",\n",
       "      \"vega-lib\": \"https://cdn.jsdelivr.net/npm//vega-lib?noext\",\n",
       "      \"vega-lite\": \"https://cdn.jsdelivr.net/npm//vega-lite@4.8.1?noext\",\n",
       "      \"vega-embed\": \"https://cdn.jsdelivr.net/npm//vega-embed@6?noext\",\n",
       "    };\n",
       "\n",
       "    function loadScript(lib) {\n",
       "      return new Promise(function(resolve, reject) {\n",
       "        var s = document.createElement('script');\n",
       "        s.src = paths[lib];\n",
       "        s.async = true;\n",
       "        s.onload = () => resolve(paths[lib]);\n",
       "        s.onerror = () => reject(`Error loading script: ${paths[lib]}`);\n",
       "        document.getElementsByTagName(\"head\")[0].appendChild(s);\n",
       "      });\n",
       "    }\n",
       "\n",
       "    function showError(err) {\n",
       "      outputDiv.innerHTML = `<div class=\"error\" style=\"color:red;\">${err}</div>`;\n",
       "      throw err;\n",
       "    }\n",
       "\n",
       "    function displayChart(vegaEmbed) {\n",
       "      vegaEmbed(outputDiv, spec, embedOpt)\n",
       "        .catch(err => showError(`Javascript Error: ${err.message}<br>This usually means there's a typo in your chart specification. See the javascript console for the full traceback.`));\n",
       "    }\n",
       "\n",
       "    if(typeof define === \"function\" && define.amd) {\n",
       "      requirejs.config({paths});\n",
       "      require([\"vega-embed\"], displayChart, err => showError(`Error loading script: ${err.message}`));\n",
       "    } else if (typeof vegaEmbed === \"function\") {\n",
       "      displayChart(vegaEmbed);\n",
       "    } else {\n",
       "      loadScript(\"vega\")\n",
       "        .then(() => loadScript(\"vega-lite\"))\n",
       "        .then(() => loadScript(\"vega-embed\"))\n",
       "        .catch(showError)\n",
       "        .then(() => displayChart(vegaEmbed));\n",
       "    }\n",
       "  })({\"config\": {\"view\": {\"continuousWidth\": 400, \"continuousHeight\": 300}}, \"vconcat\": [{\"data\": {\"name\": \"data-c6b999b58f382871e6fe4fe3b68e6261\"}, \"mark\": \"bar\", \"encoding\": {\"color\": {\"type\": \"nominal\", \"field\": \"region\"}, \"x\": {\"type\": \"nominal\", \"aggregate\": \"count\", \"field\": \"Case Category\"}, \"y\": {\"type\": \"nominal\", \"field\": \"Case Category\"}}, \"title\": \"dec_2020\"}, {\"data\": {\"name\": \"data-c6e9a5e88d048a45b2183048f7a4ea22\"}, \"mark\": \"bar\", \"encoding\": {\"color\": {\"type\": \"nominal\", \"field\": \"region\"}, \"x\": {\"type\": \"nominal\", \"aggregate\": \"count\", \"field\": \"Case Category\"}, \"y\": {\"type\": \"nominal\", \"field\": \"Case Category\"}}, \"title\": \"jan_2021\"}, {\"data\": {\"name\": \"data-d71a8a2a101ecaf6564b0483b23bdb22\"}, \"mark\": \"bar\", \"encoding\": {\"color\": {\"type\": \"nominal\", \"field\": \"region\"}, \"x\": {\"type\": \"nominal\", \"aggregate\": \"count\", \"field\": \"Case Category\"}, \"y\": {\"type\": \"nominal\", \"field\": \"Case Category\"}}, \"title\": \"june_2021\"}], \"resolve\": {\"scale\": {\"x\": \"shared\", \"y\": \"shared\"}}, \"$schema\": \"https://vega.github.io/schema/vega-lite/v4.8.1.json\", \"datasets\": {\"data-c6b999b58f382871e6fe4fe3b68e6261\": [{\"location\": \"Andorra\", \"excess_mortality\": 38.51, \"gdp_per_capita\": 53382.2495, \"hosp_patients_per_million\": 210.4985, \"human_development_index\": 0.868, \"icu_patients_per_million\": 39.833, \"life_expectancy\": 83.73, \"new_cases_per_million\": 582.411, \"new_deaths_per_million\": 0.0, \"people_fully_vaccinated_per_hundred\": 0.0, \"people_vaccinated_per_hundred\": 0.0, \"population\": 77265.0, \"population_density\": 163.755, \"positive_rate\": 0.1085, \"region\": \"Europe\", \"reproduction_rate\": 0.93, \"stringency_index\": 52.78, \"total_cases_per_million\": 96369.637, \"total_deaths_per_million\": 1022.455, \"total_tests_per_thousand\": 571.4125, \"total_vaccinations_per_hundred\": 0.0, \"Case Category\": \"Low Death - High Cases\"}, {\"location\": \"Austria\", \"excess_mortality\": 45.595, \"gdp_per_capita\": 45436.686, \"hosp_patients_per_million\": 317.774, \"human_development_index\": 0.922, \"icu_patients_per_million\": 60.846, \"life_expectancy\": 81.54, \"new_cases_per_million\": 287.351, \"new_deaths_per_million\": 11.658, \"people_fully_vaccinated_per_hundred\": 0.0, \"people_vaccinated_per_hundred\": 0.04, \"population\": 9006400.0, \"population_density\": 106.749, \"positive_rate\": 0.114, \"region\": \"Europe\", \"reproduction_rate\": 0.8, \"stringency_index\": 71.3, \"total_cases_per_million\": 36678.695, \"total_deaths_per_million\": 528.957, \"total_tests_per_thousand\": 385.821, \"total_vaccinations_per_hundred\": 0.04, \"Case Category\": \"High Deaths - Low Cases\"}, {\"location\": \"Bosnia and Herzegovina\", \"excess_mortality\": 90.66, \"gdp_per_capita\": 11713.895, \"hosp_patients_per_million\": 763.4545, \"human_development_index\": 0.78, \"icu_patients_per_million\": 59.7535, \"life_expectancy\": 77.4, \"new_cases_per_million\": 232.564, \"new_deaths_per_million\": 14.021, \"people_fully_vaccinated_per_hundred\": 0.0, \"people_vaccinated_per_hundred\": 0.245, \"population\": 3280815.0, \"population_density\": 68.496, \"positive_rate\": 0.245, \"region\": \"Europe\", \"reproduction_rate\": 0.85, \"stringency_index\": 48.15, \"total_cases_per_million\": 31465.352, \"total_deaths_per_million\": 1070.161, \"total_tests_per_thousand\": 144.263, \"total_vaccinations_per_hundred\": 0.095, \"Case Category\": \"High Deaths - Low Cases\"}, {\"location\": \"Bulgaria\", \"excess_mortality\": 88.185, \"gdp_per_capita\": 18563.307, \"hosp_patients_per_million\": 970.577, \"human_development_index\": 0.816, \"icu_patients_per_million\": 75.269, \"life_expectancy\": 75.05, \"new_cases_per_million\": 250.272, \"new_deaths_per_million\": 17.558, \"people_fully_vaccinated_per_hundred\": 0.0, \"people_vaccinated_per_hundred\": 0.045, \"population\": 6948445.0, \"population_density\": 65.18, \"positive_rate\": 0.33, \"region\": \"Europe\", \"reproduction_rate\": 0.76, \"stringency_index\": 53.7, \"total_cases_per_million\": 26803.983, \"total_deaths_per_million\": 891.71, \"total_tests_per_thousand\": 155.07, \"total_vaccinations_per_hundred\": 0.045, \"Case Category\": \"High Deaths - Low Cases\"}, {\"location\": \"Cayman Islands\", \"excess_mortality\": 86.225, \"gdp_per_capita\": 49903.029, \"hosp_patients_per_million\": 210.4985, \"human_development_index\": 0.8935, \"icu_patients_per_million\": 39.833, \"life_expectancy\": 83.92, \"new_cases_per_million\": 645.1925, \"new_deaths_per_million\": 0.0, \"people_fully_vaccinated_per_hundred\": 0.0, \"people_vaccinated_per_hundred\": 0.0, \"population\": 65720.0, \"population_density\": 256.496, \"positive_rate\": 0.1085, \"region\": \"North America\", \"reproduction_rate\": 1.01, \"stringency_index\": 49.075, \"total_cases_per_million\": 69161.8225, \"total_deaths_per_million\": 786.5505, \"total_tests_per_thousand\": 571.4125, \"total_vaccinations_per_hundred\": 0.0, \"Case Category\": \"Low Death - High Cases\"}, {\"location\": \"Croatia\", \"excess_mortality\": 68.72, \"gdp_per_capita\": 22669.797, \"hosp_patients_per_million\": 662.563, \"human_development_index\": 0.851, \"icu_patients_per_million\": 51.861, \"life_expectancy\": 78.49, \"new_cases_per_million\": 670.358, \"new_deaths_per_million\": 16.564, \"people_fully_vaccinated_per_hundred\": 0.0, \"people_vaccinated_per_hundred\": 0.19, \"population\": 4105268.0, \"population_density\": 73.726, \"positive_rate\": 0.335, \"region\": \"Europe\", \"reproduction_rate\": 0.85, \"stringency_index\": 56.48, \"total_cases_per_million\": 44587.832, \"total_deaths_per_million\": 699.102, \"total_tests_per_thousand\": 218.458, \"total_vaccinations_per_hundred\": 0.19, \"Case Category\": \"High Deaths - High Cases\"}, {\"location\": \"Czechia\", \"excess_mortality\": 44.77, \"gdp_per_capita\": 32605.906, \"hosp_patients_per_million\": 427.305, \"human_development_index\": 0.9, \"icu_patients_per_million\": 56.028, \"life_expectancy\": 79.38, \"new_cases_per_million\": 483.333, \"new_deaths_per_million\": 10.085, \"people_fully_vaccinated_per_hundred\": 0.0, \"people_vaccinated_per_hundred\": 0.07, \"population\": 10708982.0, \"population_density\": 137.176, \"positive_rate\": 0.182, \"region\": \"Europe\", \"reproduction_rate\": 1.22, \"stringency_index\": 65.74, \"total_cases_per_million\": 55481.277, \"total_deaths_per_million\": 922.777, \"total_tests_per_thousand\": 181.3515, \"total_vaccinations_per_hundred\": 0.07, \"Case Category\": \"High Deaths - Low Cases\"}, {\"location\": \"Georgia\", \"excess_mortality\": 43.0, \"gdp_per_capita\": 9745.079, \"hosp_patients_per_million\": 354.571, \"human_development_index\": 0.812, \"icu_patients_per_million\": 5.5645, \"life_expectancy\": 73.77, \"new_cases_per_million\": 727.97, \"new_deaths_per_million\": 9.776, \"people_fully_vaccinated_per_hundred\": 0.0, \"people_vaccinated_per_hundred\": 0.095, \"population\": 3989175.0, \"population_density\": 65.032, \"positive_rate\": 0.191, \"region\": \"Asia\", \"reproduction_rate\": 0.81, \"stringency_index\": 84.26, \"total_cases_per_million\": 49731.335, \"total_deaths_per_million\": 481.804, \"total_tests_per_thousand\": 249.365, \"total_vaccinations_per_hundred\": 0.125, \"Case Category\": \"High Deaths - High Cases\"}, {\"location\": \"Hungary\", \"excess_mortality\": 50.595, \"gdp_per_capita\": 26777.561, \"hosp_patients_per_million\": 790.758, \"human_development_index\": 0.854, \"icu_patients_per_million\": 40.985, \"life_expectancy\": 76.88, \"new_cases_per_million\": 333.425, \"new_deaths_per_million\": 16.563, \"people_fully_vaccinated_per_hundred\": 0.0, \"people_vaccinated_per_hundred\": 0.045, \"population\": 9660350.0, \"population_density\": 108.043, \"positive_rate\": 0.174, \"region\": \"Europe\", \"reproduction_rate\": 0.8, \"stringency_index\": 72.22, \"total_cases_per_million\": 29871.278, \"total_deaths_per_million\": 764.051, \"total_tests_per_thousand\": 204.556, \"total_vaccinations_per_hundred\": 0.01, \"Case Category\": \"High Deaths - Low Cases\"}, {\"location\": \"Liechtenstein\", \"excess_mortality\": 133.94, \"gdp_per_capita\": 53382.2495, \"hosp_patients_per_million\": 118.171, \"human_development_index\": 0.919, \"icu_patients_per_million\": 18.8135, \"life_expectancy\": 82.49, \"new_cases_per_million\": 707.974, \"new_deaths_per_million\": 0.0, \"people_fully_vaccinated_per_hundred\": 0.0, \"people_vaccinated_per_hundred\": 0.0, \"population\": 38137.0, \"population_density\": 237.012, \"positive_rate\": 0.182, \"region\": \"Europe\", \"reproduction_rate\": 1.09, \"stringency_index\": 45.37, \"total_cases_per_million\": 41954.008, \"total_deaths_per_million\": 550.646, \"total_tests_per_thousand\": 473.477, \"total_vaccinations_per_hundred\": 0.0, \"Case Category\": \"Low Death - High Cases\"}, {\"location\": \"Lithuania\", \"excess_mortality\": 66.715, \"gdp_per_capita\": 29524.265, \"hosp_patients_per_million\": 864.346, \"human_development_index\": 0.882, \"icu_patients_per_million\": 59.7535, \"life_expectancy\": 75.93, \"new_cases_per_million\": 925.324, \"new_deaths_per_million\": 14.326, \"people_fully_vaccinated_per_hundred\": 0.0, \"people_vaccinated_per_hundred\": 0.3, \"population\": 2722291.0, \"population_density\": 45.135, \"positive_rate\": 0.224, \"region\": \"Europe\", \"reproduction_rate\": 1.12, \"stringency_index\": 74.07, \"total_cases_per_million\": 36797.315, \"total_deaths_per_million\": 417.663, \"total_tests_per_thousand\": 538.457, \"total_vaccinations_per_hundred\": 0.3, \"Case Category\": \"High Deaths - High Cases\"}, {\"location\": \"Montenegro\", \"excess_mortality\": 32.13, \"gdp_per_capita\": 16409.288, \"hosp_patients_per_million\": 231.9665, \"human_development_index\": 0.829, \"icu_patients_per_million\": 39.833, \"life_expectancy\": 76.88, \"new_cases_per_million\": 640.064, \"new_deaths_per_million\": 9.553, \"people_fully_vaccinated_per_hundred\": 0.0, \"people_vaccinated_per_hundred\": 0.81, \"population\": 628062.0, \"population_density\": 46.28, \"positive_rate\": 0.08825, \"region\": \"Europe\", \"reproduction_rate\": 0.92, \"stringency_index\": 62.5, \"total_cases_per_million\": 67768.787, \"total_deaths_per_million\": 971.242, \"total_tests_per_thousand\": 1479.023, \"total_vaccinations_per_hundred\": 0.81, \"Case Category\": \"High Deaths - High Cases\"}, {\"location\": \"North Macedonia\", \"excess_mortality\": 78.29, \"gdp_per_capita\": 13111.214, \"hosp_patients_per_million\": 513.226, \"human_development_index\": 0.774, \"icu_patients_per_million\": 59.7535, \"life_expectancy\": 75.8, \"new_cases_per_million\": 313.913, \"new_deaths_per_million\": 12.0, \"people_fully_vaccinated_per_hundred\": 0.0, \"people_vaccinated_per_hundred\": 0.22, \"population\": 2083380.0, \"population_density\": 82.6, \"positive_rate\": 0.328, \"region\": \"Europe\", \"reproduction_rate\": 0.86, \"stringency_index\": 50.925, \"total_cases_per_million\": 36285.747, \"total_deaths_per_million\": 1053.096, \"total_tests_per_thousand\": 179.227, \"total_vaccinations_per_hundred\": 0.22, \"Case Category\": \"High Deaths - Low Cases\"}, {\"location\": \"Panama\", \"excess_mortality\": 29.04, \"gdp_per_capita\": 22267.037, \"hosp_patients_per_million\": 354.571, \"human_development_index\": 0.815, \"icu_patients_per_million\": 5.5645, \"life_expectancy\": 78.51, \"new_cases_per_million\": 561.328, \"new_deaths_per_million\": 6.489, \"people_fully_vaccinated_per_hundred\": 0.0, \"people_vaccinated_per_hundred\": 0.1375, \"population\": 4314768.0, \"population_density\": 55.133, \"positive_rate\": 0.184, \"region\": \"North America\", \"reproduction_rate\": 1.19, \"stringency_index\": 67.59, \"total_cases_per_million\": 46340.151, \"total_deaths_per_million\": 797.03, \"total_tests_per_thousand\": 254.133, \"total_vaccinations_per_hundred\": 0.125, \"Case Category\": \"Low Death - High Cases\"}, {\"location\": \"Poland\", \"excess_mortality\": 49.86, \"gdp_per_capita\": 27216.445, \"hosp_patients_per_million\": 494.285, \"human_development_index\": 0.88, \"icu_patients_per_million\": 10.0515, \"life_expectancy\": 78.73, \"new_cases_per_million\": 290.911, \"new_deaths_per_million\": 11.388, \"people_fully_vaccinated_per_hundred\": 0.0, \"people_vaccinated_per_hundred\": 0.06, \"population\": 37846605.0, \"population_density\": 124.027, \"positive_rate\": 0.334, \"region\": \"Europe\", \"reproduction_rate\": 0.87, \"stringency_index\": 75.0, \"total_cases_per_million\": 30647.425, \"total_deaths_per_million\": 631.866, \"total_tests_per_thousand\": 172.661, \"total_vaccinations_per_hundred\": 0.06, \"Case Category\": \"High Deaths - Low Cases\"}, {\"location\": \"San Marino\", \"excess_mortality\": 110.28, \"gdp_per_capita\": 56861.47, \"hosp_patients_per_million\": 210.4985, \"human_development_index\": 0.8935, \"icu_patients_per_million\": 39.833, \"life_expectancy\": 84.97, \"new_cases_per_million\": 854.499, \"new_deaths_per_million\": 0.0, \"people_fully_vaccinated_per_hundred\": 0.0, \"people_vaccinated_per_hundred\": 0.0, \"population\": 33938.0, \"population_density\": 556.667, \"positive_rate\": 0.1085, \"region\": \"Europe\", \"reproduction_rate\": 1.07, \"stringency_index\": 50.0, \"total_cases_per_million\": 59667.629, \"total_deaths_per_million\": 1591.137, \"total_tests_per_thousand\": 571.4125, \"total_vaccinations_per_hundred\": 0.0, \"Case Category\": \"Low Death - High Cases\"}, {\"location\": \"Serbia\", \"excess_mortality\": 93.81, \"gdp_per_capita\": 14048.881, \"hosp_patients_per_million\": 506.9465, \"human_development_index\": 0.806, \"icu_patients_per_million\": 40.161, \"life_expectancy\": 76.0, \"new_cases_per_million\": 734.063, \"new_deaths_per_million\": 7.495, \"people_fully_vaccinated_per_hundred\": 0.0, \"people_vaccinated_per_hundred\": 0.0225, \"population\": 6804596.0, \"population_density\": 80.291, \"positive_rate\": 0.325, \"region\": \"Europe\", \"reproduction_rate\": 0.83, \"stringency_index\": 60.19, \"total_cases_per_million\": 41530.901, \"total_deaths_per_million\": 364.753, \"total_tests_per_thousand\": 306.253, \"total_vaccinations_per_hundred\": 0.0375, \"Case Category\": \"Low Death - High Cases\"}, {\"location\": \"Slovenia\", \"excess_mortality\": 84.435, \"gdp_per_capita\": 31400.84, \"hosp_patients_per_million\": 606.561, \"human_development_index\": 0.917, \"icu_patients_per_million\": 97.646, \"life_expectancy\": 81.32, \"new_cases_per_million\": 789.829, \"new_deaths_per_million\": 19.722, \"people_fully_vaccinated_per_hundred\": 0.0, \"people_vaccinated_per_hundred\": 0.44, \"population\": 2078932.0, \"population_density\": 102.619, \"positive_rate\": 0.276, \"region\": \"Europe\", \"reproduction_rate\": 1.01, \"stringency_index\": 81.48, \"total_cases_per_million\": 48294.509, \"total_deaths_per_million\": 1053.426, \"total_tests_per_thousand\": 294.708, \"total_vaccinations_per_hundred\": 0.44, \"Case Category\": \"High Deaths - High Cases\"}, {\"location\": \"Sweden\", \"excess_mortality\": 23.645, \"gdp_per_capita\": 46949.283, \"hosp_patients_per_million\": 251.8, \"human_development_index\": 0.945, \"icu_patients_per_million\": 25.942, \"life_expectancy\": 82.8, \"new_cases_per_million\": 534.692, \"new_deaths_per_million\": 0.0, \"people_fully_vaccinated_per_hundred\": 0.0, \"people_vaccinated_per_hundred\": 0.02, \"population\": 10099270.0, \"population_density\": 24.718, \"positive_rate\": 0.147, \"region\": \"Europe\", \"reproduction_rate\": 1.27, \"stringency_index\": 69.44, \"total_cases_per_million\": 34515.861, \"total_deaths_per_million\": 772.531, \"total_tests_per_thousand\": 394.99475, \"total_vaccinations_per_hundred\": 0.02, \"Case Category\": \"Low Death - High Cases\"}, {\"location\": \"Switzerland\", \"excess_mortality\": 62.375, \"gdp_per_capita\": 57410.166, \"hosp_patients_per_million\": 320.06, \"human_development_index\": 0.955, \"icu_patients_per_million\": 53.266, \"life_expectancy\": 83.78, \"new_cases_per_million\": 507.359, \"new_deaths_per_million\": 12.132, \"people_fully_vaccinated_per_hundred\": 0.0, \"people_vaccinated_per_hundred\": 0.01, \"population\": 8654618.0, \"population_density\": 214.243, \"positive_rate\": 0.149, \"region\": \"Europe\", \"reproduction_rate\": 1.03, \"stringency_index\": 60.19, \"total_cases_per_million\": 45577.17, \"total_deaths_per_million\": 737.063, \"total_tests_per_thousand\": 328.445, \"total_vaccinations_per_hundred\": 0.01, \"Case Category\": \"High Deaths - Low Cases\"}, {\"location\": \"United States\", \"excess_mortality\": 46.13, \"gdp_per_capita\": 54225.446, \"hosp_patients_per_million\": 335.544, \"human_development_index\": 0.926, \"icu_patients_per_million\": 77.981, \"life_expectancy\": 78.86, \"new_cases_per_million\": 631.391, \"new_deaths_per_million\": 8.148, \"people_fully_vaccinated_per_hundred\": 0.0, \"people_vaccinated_per_hundred\": 0.44, \"population\": 331002647.0, \"population_density\": 35.608, \"positive_rate\": 0.118, \"region\": \"North America\", \"reproduction_rate\": 1.04, \"stringency_index\": 71.76, \"total_cases_per_million\": 51612.288, \"total_deaths_per_million\": 942.192, \"total_tests_per_thousand\": 702.905, \"total_vaccinations_per_hundred\": 0.44, \"Case Category\": \"Low Death - High Cases\"}], \"data-c6e9a5e88d048a45b2183048f7a4ea22\": [{\"location\": \"Andorra\", \"excess_mortality\": -6.22, \"gdp_per_capita\": 50286.172, \"hosp_patients_per_million\": 131.442, \"human_development_index\": 0.868, \"icu_patients_per_million\": 36.2915, \"life_expectancy\": 83.73, \"new_cases_per_million\": 737.721, \"new_deaths_per_million\": 0.0, \"people_fully_vaccinated_per_hundred\": 0.765, \"people_vaccinated_per_hundred\": 0.75, \"population\": 77265.0, \"population_density\": 163.755, \"positive_rate\": 0.106, \"region\": \"Europe\", \"reproduction_rate\": 1.11, \"stringency_index\": 52.78, \"total_cases_per_million\": 116974.05, \"total_deaths_per_million\": 1177.765, \"total_tests_per_thousand\": 1714.3335, \"total_vaccinations_per_hundred\": 0.75, \"Case Category\": \"Low Death - High Cases\"}, {\"location\": \"Czechia\", \"excess_mortality\": 57.16, \"gdp_per_capita\": 32605.906, \"hosp_patients_per_million\": 605.286, \"human_development_index\": 0.9, \"icu_patients_per_million\": 101.877, \"life_expectancy\": 79.38, \"new_cases_per_million\": 768.327, \"new_deaths_per_million\": 14.661, \"people_fully_vaccinated_per_hundred\": 0.08, \"people_vaccinated_per_hundred\": 1.11, \"population\": 10708982.0, \"population_density\": 137.176, \"positive_rate\": 0.164, \"region\": \"Europe\", \"reproduction_rate\": 0.92, \"stringency_index\": 73.15, \"total_cases_per_million\": 82538.751, \"total_deaths_per_million\": 1327.39, \"total_tests_per_thousand\": 496.701, \"total_vaccinations_per_hundred\": 1.11, \"Case Category\": \"High Deaths - High Cases\"}, {\"location\": \"Ireland\", \"excess_mortality\": 22.28, \"gdp_per_capita\": 67335.293, \"hosp_patients_per_million\": 342.258, \"human_development_index\": 0.955, \"icu_patients_per_million\": 38.681, \"life_expectancy\": 82.3, \"new_cases_per_million\": 596.622, \"new_deaths_per_million\": 4.658, \"people_fully_vaccinated_per_hundred\": 0.64, \"people_vaccinated_per_hundred\": 3.02, \"population\": 4937796.0, \"population_density\": 69.874, \"positive_rate\": 0.132, \"region\": \"Europe\", \"reproduction_rate\": 0.84, \"stringency_index\": 85.19, \"total_cases_per_million\": 34383.762, \"total_deaths_per_million\": 525.538, \"total_tests_per_thousand\": 561.388, \"total_vaccinations_per_hundred\": 1.9, \"Case Category\": \"Low Death - High Cases\"}, {\"location\": \"Israel\", \"excess_mortality\": 19.64, \"gdp_per_capita\": 33132.32, \"hosp_patients_per_million\": 242.504, \"human_development_index\": 0.919, \"icu_patients_per_million\": 37.664, \"life_expectancy\": 82.97, \"new_cases_per_million\": 811.85, \"new_deaths_per_million\": 5.083, \"people_fully_vaccinated_per_hundred\": 4.54, \"people_vaccinated_per_hundred\": 24.72, \"population\": 8655541.0, \"population_density\": 402.606, \"positive_rate\": 0.076, \"region\": \"Asia\", \"reproduction_rate\": 1.09, \"stringency_index\": 85.19, \"total_cases_per_million\": 62792.031, \"total_deaths_per_million\": 457.395, \"total_tests_per_thousand\": 1158.358, \"total_vaccinations_per_hundred\": 27.59, \"Case Category\": \"Low Death - High Cases\"}, {\"location\": \"Latvia\", \"excess_mortality\": 27.23, \"gdp_per_capita\": 25063.846, \"hosp_patients_per_million\": 557.735, \"human_development_index\": 0.866, \"icu_patients_per_million\": 62.0405, \"life_expectancy\": 75.29, \"new_cases_per_million\": 464.425, \"new_deaths_per_million\": 9.013, \"people_fully_vaccinated_per_hundred\": 0.05, \"people_vaccinated_per_hundred\": 0.85, \"population\": 1886202.0, \"population_density\": 31.212, \"positive_rate\": 0.086, \"region\": \"Europe\", \"reproduction_rate\": 0.99, \"stringency_index\": 57.41, \"total_cases_per_million\": 29210.551, \"total_deaths_per_million\": 509.489, \"total_tests_per_thousand\": 546.434, \"total_vaccinations_per_hundred\": 0.85, \"Case Category\": \"High Deaths - Low Cases\"}, {\"location\": \"Lebanon\", \"excess_mortality\": 76.31, \"gdp_per_capita\": 13367.565, \"hosp_patients_per_million\": 320.827, \"human_development_index\": 0.744, \"icu_patients_per_million\": 36.0765, \"life_expectancy\": 78.93, \"new_cases_per_million\": 535.35, \"new_deaths_per_million\": 6.446, \"people_fully_vaccinated_per_hundred\": 0.035, \"people_vaccinated_per_hundred\": 1.535, \"population\": 6825442.0, \"population_density\": 594.561, \"positive_rate\": 0.1185, \"region\": \"Asia\", \"reproduction_rate\": 1.11, \"stringency_index\": 90.74, \"total_cases_per_million\": 36504.303, \"total_deaths_per_million\": 273.389, \"total_tests_per_thousand\": 272.3515, \"total_vaccinations_per_hundred\": 1.54, \"Case Category\": \"Low Death - High Cases\"}, {\"location\": \"Lithuania\", \"excess_mortality\": 34.39, \"gdp_per_capita\": 29524.265, \"hosp_patients_per_million\": 748.634, \"human_development_index\": 0.882, \"icu_patients_per_million\": 62.0405, \"life_expectancy\": 75.93, \"new_cases_per_million\": 452.56, \"new_deaths_per_million\": 12.489, \"people_fully_vaccinated_per_hundred\": 0.34, \"people_vaccinated_per_hundred\": 1.88, \"population\": 2722291.0, \"population_density\": 45.135, \"positive_rate\": 0.12, \"region\": \"Europe\", \"reproduction_rate\": 0.78, \"stringency_index\": 74.07, \"total_cases_per_million\": 62151.328, \"total_deaths_per_million\": 888.59, \"total_tests_per_thousand\": 663.807, \"total_vaccinations_per_hundred\": 1.88, \"Case Category\": \"High Deaths - Low Cases\"}, {\"location\": \"Montenegro\", \"excess_mortality\": 27.31, \"gdp_per_capita\": 16409.288, \"hosp_patients_per_million\": 173.893, \"human_development_index\": 0.829, \"icu_patients_per_million\": 35.682, \"life_expectancy\": 76.88, \"new_cases_per_million\": 676.685, \"new_deaths_per_million\": 4.777, \"people_fully_vaccinated_per_hundred\": 0.39, \"people_vaccinated_per_hundred\": 2.6475, \"population\": 628062.0, \"population_density\": 46.28, \"positive_rate\": 0.0185, \"region\": \"Europe\", \"reproduction_rate\": 1.05, \"stringency_index\": 59.72, \"total_cases_per_million\": 87787.511, \"total_deaths_per_million\": 1183.004, \"total_tests_per_thousand\": 1744.50175, \"total_vaccinations_per_hundred\": 2.7325, \"Case Category\": \"Low Death - High Cases\"}, {\"location\": \"Panama\", \"excess_mortality\": 89.03, \"gdp_per_capita\": 22267.037, \"hosp_patients_per_million\": 385.6095, \"human_development_index\": 0.815, \"icu_patients_per_million\": 21.777, \"life_expectancy\": 78.51, \"new_cases_per_million\": 499.911, \"new_deaths_per_million\": 9.039, \"people_fully_vaccinated_per_hundred\": 0.205, \"people_vaccinated_per_hundred\": 0.15, \"population\": 4314768.0, \"population_density\": 55.133, \"positive_rate\": 0.204, \"region\": \"North America\", \"reproduction_rate\": 0.84, \"stringency_index\": 76.85, \"total_cases_per_million\": 68663.947, \"total_deaths_per_million\": 1098.089, \"total_tests_per_thousand\": 351.384, \"total_vaccinations_per_hundred\": 0.15, \"Case Category\": \"High Deaths - Low Cases\"}, {\"location\": \"Portugal\", \"excess_mortality\": 64.46, \"gdp_per_capita\": 27936.896, \"hosp_patients_per_million\": 456.324, \"human_development_index\": 0.864, \"icu_patients_per_million\": 62.569, \"life_expectancy\": 82.05, \"new_cases_per_million\": 1018.466, \"new_deaths_per_million\": 15.593, \"people_fully_vaccinated_per_hundred\": 0.05, \"people_vaccinated_per_hundred\": 1.125, \"population\": 10196707.0, \"population_density\": 112.371, \"positive_rate\": 0.176, \"region\": \"Europe\", \"reproduction_rate\": 1.27, \"stringency_index\": 69.44, \"total_cases_per_million\": 52901.0, \"total_deaths_per_million\": 854.099, \"total_tests_per_thousand\": 630.002, \"total_vaccinations_per_hundred\": 1.255, \"Case Category\": \"High Deaths - High Cases\"}, {\"location\": \"Slovakia\", \"excess_mortality\": 80.1, \"gdp_per_capita\": 30155.152, \"hosp_patients_per_million\": 561.392, \"human_development_index\": 0.86, \"icu_patients_per_million\": 21.777, \"life_expectancy\": 77.54, \"new_cases_per_million\": 391.418, \"new_deaths_per_million\": 14.103, \"people_fully_vaccinated_per_hundred\": 0.07, \"people_vaccinated_per_hundred\": 1.235, \"population\": 5459643.0, \"population_density\": 113.128, \"positive_rate\": 0.067, \"region\": \"Europe\", \"reproduction_rate\": 0.96, \"stringency_index\": 73.15, \"total_cases_per_million\": 40799.737, \"total_deaths_per_million\": 625.865, \"total_tests_per_thousand\": 773.495, \"total_vaccinations_per_hundred\": 1.24, \"Case Category\": \"High Deaths - Low Cases\"}, {\"location\": \"Slovenia\", \"excess_mortality\": 36.55, \"gdp_per_capita\": 31400.84, \"hosp_patients_per_million\": 564.232, \"human_development_index\": 0.917, \"icu_patients_per_million\": 90.912, \"life_expectancy\": 81.32, \"new_cases_per_million\": 741.246, \"new_deaths_per_million\": 12.025, \"people_fully_vaccinated_per_hundred\": 0.18, \"people_vaccinated_per_hundred\": 2.37, \"population\": 2078932.0, \"population_density\": 102.619, \"positive_rate\": 0.249, \"region\": \"Europe\", \"reproduction_rate\": 0.93, \"stringency_index\": 81.48, \"total_cases_per_million\": 71457.845, \"total_deaths_per_million\": 1510.391, \"total_tests_per_thousand\": 359.605, \"total_vaccinations_per_hundred\": 2.37, \"Case Category\": \"High Deaths - High Cases\"}, {\"location\": \"Spain\", \"excess_mortality\": 17.73, \"gdp_per_capita\": 34272.36, \"hosp_patients_per_million\": 495.864, \"human_development_index\": 0.904, \"icu_patients_per_million\": 70.303, \"life_expectancy\": 83.56, \"new_cases_per_million\": 654.029, \"new_deaths_per_million\": 5.026, \"people_fully_vaccinated_per_hundred\": 0.19, \"people_vaccinated_per_hundred\": 1.985, \"population\": 46754783.0, \"population_density\": 93.105, \"positive_rate\": 0.139, \"region\": \"Europe\", \"reproduction_rate\": 1.41, \"stringency_index\": 71.3, \"total_cases_per_million\": 48169.703, \"total_deaths_per_million\": 1140.29, \"total_tests_per_thousand\": 548.6825, \"total_vaccinations_per_hundred\": 1.995, \"Case Category\": \"Low Death - High Cases\"}, {\"location\": \"United Kingdom\", \"excess_mortality\": 38.22, \"gdp_per_capita\": 39753.244, \"hosp_patients_per_million\": 541.363, \"human_development_index\": 0.932, \"icu_patients_per_million\": 55.814, \"life_expectancy\": 81.32, \"new_cases_per_million\": 610.258, \"new_deaths_per_million\": 17.75, \"people_fully_vaccinated_per_hundred\": 0.685, \"people_vaccinated_per_hundred\": 7.33, \"population\": 67886004.0, \"population_density\": 272.898, \"positive_rate\": 0.089, \"region\": \"Europe\", \"reproduction_rate\": 0.86, \"stringency_index\": 87.96, \"total_cases_per_million\": 49598.942, \"total_deaths_per_million\": 1307.295, \"total_tests_per_thousand\": 785.526, \"total_vaccinations_per_hundred\": 8.01, \"Case Category\": \"High Deaths - High Cases\"}, {\"location\": \"United States\", \"excess_mortality\": 43.05, \"gdp_per_capita\": 54225.446, \"hosp_patients_per_million\": 365.641, \"human_development_index\": 0.926, \"icu_patients_per_million\": 84.069, \"life_expectancy\": 78.86, \"new_cases_per_million\": 576.31, \"new_deaths_per_million\": 10.329, \"people_fully_vaccinated_per_hundred\": 0.96, \"people_vaccinated_per_hundred\": 4.27, \"population\": 331002647.0, \"population_density\": 35.608, \"positive_rate\": 0.125, \"region\": \"North America\", \"reproduction_rate\": 0.9, \"stringency_index\": 71.76, \"total_cases_per_million\": 72018.974, \"total_deaths_per_million\": 1217.773, \"total_tests_per_thousand\": 862.027, \"total_vaccinations_per_hundred\": 4.82, \"Case Category\": \"High Deaths - High Cases\"}], \"data-d71a8a2a101ecaf6564b0483b23bdb22\": [{\"location\": \"Argentina\", \"excess_mortality\": 69.505, \"gdp_per_capita\": 18933.907, \"hosp_patients_per_million\": 36.38075, \"human_development_index\": 0.845, \"icu_patients_per_million\": 5.28075, \"life_expectancy\": 76.67, \"new_cases_per_million\": 524.4625, \"new_deaths_per_million\": 12.103, \"people_fully_vaccinated_per_hundred\": 7.645, \"people_vaccinated_per_hundred\": 29.445, \"population\": 45195777.0, \"population_density\": 16.177, \"positive_rate\": 0.246, \"region\": \"South America\", \"reproduction_rate\": 0.92, \"stringency_index\": 77.78, \"total_cases_per_million\": 92612.2145, \"total_deaths_per_million\": 1923.5865, \"total_tests_per_thousand\": 239.4435, \"total_vaccinations_per_hundred\": 37.085, \"Case Category\": \"High Deaths - Low Cases\"}, {\"location\": \"Bahrain\", \"excess_mortality\": 13.725, \"gdp_per_capita\": 43290.705, \"hosp_patients_per_million\": 116.435, \"human_development_index\": 0.852, \"icu_patients_per_million\": 7.791, \"life_expectancy\": 77.29, \"new_cases_per_million\": 414.908, \"new_deaths_per_million\": 6.7585, \"people_fully_vaccinated_per_hundred\": 51.385, \"people_vaccinated_per_hundred\": 60.76, \"population\": 1701583.0, \"population_density\": 1935.907, \"positive_rate\": 0.07, \"region\": \"Asia\", \"reproduction_rate\": 0.58, \"stringency_index\": 62.96, \"total_cases_per_million\": 153177.365, \"total_deaths_per_million\": 736.079, \"total_tests_per_thousand\": 2843.452, \"total_vaccinations_per_hundred\": 112.14, \"Case Category\": \"Unassigned\"}, {\"location\": \"Bolivia\", \"excess_mortality\": 52.7725, \"gdp_per_capita\": 6885.829, \"hosp_patients_per_million\": 162.07575, \"human_development_index\": 0.718, \"icu_patients_per_million\": 18.24175, \"life_expectancy\": 71.51, \"new_cases_per_million\": 185.642, \"new_deaths_per_million\": 6.125, \"people_fully_vaccinated_per_hundred\": 4.165, \"people_vaccinated_per_hundred\": 12.99, \"population\": 11673029.0, \"population_density\": 10.202, \"positive_rate\": 0.1955, \"region\": \"South America\", \"reproduction_rate\": 0.965, \"stringency_index\": 27.78, \"total_cases_per_million\": 35388.8435, \"total_deaths_per_million\": 1352.0055, \"total_tests_per_thousand\": 143.0315, \"total_vaccinations_per_hundred\": 17.155, \"Case Category\": \"Unassigned\"}, {\"location\": \"Brazil\", \"excess_mortality\": 53.21, \"gdp_per_capita\": 14103.452, \"hosp_patients_per_million\": 95.78775, \"human_development_index\": 0.765, \"icu_patients_per_million\": 8.48275, \"life_expectancy\": 75.88, \"new_cases_per_million\": 347.301, \"new_deaths_per_million\": 9.5715, \"people_fully_vaccinated_per_hundred\": 11.19, \"people_vaccinated_per_hundred\": 26.57, \"population\": 212559409.0, \"population_density\": 25.04, \"positive_rate\": 0.08475, \"region\": \"South America\", \"reproduction_rate\": 1.015, \"stringency_index\": 60.65, \"total_cases_per_million\": 82710.5445, \"total_deaths_per_million\": 2315.562, \"total_tests_per_thousand\": 53.72425, \"total_vaccinations_per_hundred\": 38.06, \"Case Category\": \"High Deaths - Low Cases\"}, {\"location\": \"Chile\", \"excess_mortality\": 33.25, \"gdp_per_capita\": 22767.037, \"hosp_patients_per_million\": 38.4555, \"human_development_index\": 0.851, \"icu_patients_per_million\": 17.98475, \"life_expectancy\": 80.18, \"new_cases_per_million\": 293.3375, \"new_deaths_per_million\": 6.251, \"people_fully_vaccinated_per_hundred\": 48.88, \"people_vaccinated_per_hundred\": 62.445, \"population\": 19116209.0, \"population_density\": 24.282, \"positive_rate\": 0.094, \"region\": \"South America\", \"reproduction_rate\": 0.905, \"stringency_index\": 84.72, \"total_cases_per_million\": 77912.9375, \"total_deaths_per_million\": 1616.089, \"total_tests_per_thousand\": 829.687, \"total_vaccinations_per_hundred\": 110.225, \"Case Category\": \"Unassigned\"}, {\"location\": \"Colombia\", \"excess_mortality\": 125.745, \"gdp_per_capita\": 13254.949, \"hosp_patients_per_million\": 42.99325, \"human_development_index\": 0.767, \"icu_patients_per_million\": 8.458, \"life_expectancy\": 77.29, \"new_cases_per_million\": 561.4365, \"new_deaths_per_million\": 11.6445, \"people_fully_vaccinated_per_hundred\": 8.06, \"people_vaccinated_per_hundred\": 18.695, \"population\": 50882884.0, \"population_density\": 44.223, \"positive_rate\": 0.3255, \"region\": \"South America\", \"reproduction_rate\": 1.07, \"stringency_index\": 62.04, \"total_cases_per_million\": 74995.071, \"total_deaths_per_million\": 1911.4975, \"total_tests_per_thousand\": 360.597, \"total_vaccinations_per_hundred\": 26.76, \"Case Category\": \"High Deaths - High Cases\"}, {\"location\": \"Costa Rica\", \"excess_mortality\": 7.0575, \"gdp_per_capita\": 15524.995, \"hosp_patients_per_million\": 49.7295, \"human_development_index\": 0.81, \"icu_patients_per_million\": 19.45375, \"life_expectancy\": 80.28, \"new_cases_per_million\": 362.87, \"new_deaths_per_million\": 4.024, \"people_fully_vaccinated_per_hundred\": 14.54, \"people_vaccinated_per_hundred\": 27.67, \"population\": 5094114.0, \"population_density\": 96.079, \"positive_rate\": 0.183, \"region\": \"North America\", \"reproduction_rate\": 0.99, \"stringency_index\": 55.56, \"total_cases_per_million\": 67967.5605, \"total_deaths_per_million\": 868.0605, \"total_tests_per_thousand\": 222.1135, \"total_vaccinations_per_hundred\": 42.22, \"Case Category\": \"Unassigned\"}, {\"location\": \"Georgia\", \"excess_mortality\": 92.01, \"gdp_per_capita\": 9745.079, \"hosp_patients_per_million\": 116.435, \"human_development_index\": 0.812, \"icu_patients_per_million\": 7.791, \"life_expectancy\": 73.77, \"new_cases_per_million\": 190.892, \"new_deaths_per_million\": 4.262, \"people_fully_vaccinated_per_hundred\": 1.77, \"people_vaccinated_per_hundred\": 3.605, \"population\": 3989175.0, \"population_density\": 65.032, \"positive_rate\": 0.025, \"region\": \"Asia\", \"reproduction_rate\": 0.95, \"stringency_index\": 64.81, \"total_cases_per_million\": 89184.731, \"total_deaths_per_million\": 1275.8275, \"total_tests_per_thousand\": 1370.208, \"total_vaccinations_per_hundred\": 5.375, \"Case Category\": \"Unassigned\"}, {\"location\": \"Iran\", \"excess_mortality\": 71.6575, \"gdp_per_capita\": 19082.62, \"hosp_patients_per_million\": 111.37425, \"human_development_index\": 0.783, \"icu_patients_per_million\": 14.444, \"life_expectancy\": 76.68, \"new_cases_per_million\": 122.0755, \"new_deaths_per_million\": 1.595, \"people_fully_vaccinated_per_hundred\": 1.05, \"people_vaccinated_per_hundred\": 4.76, \"population\": 83992953.0, \"population_density\": 49.831, \"positive_rate\": 0.077, \"region\": \"Asia\", \"reproduction_rate\": 1.035, \"stringency_index\": 74.54, \"total_cases_per_million\": 36370.807, \"total_deaths_per_million\": 981.219, \"total_tests_per_thousand\": 260.4945, \"total_vaccinations_per_hundred\": 5.815, \"Case Category\": \"Unassigned\"}, {\"location\": \"Kuwait\", \"excess_mortality\": 7.0575, \"gdp_per_capita\": 65530.537, \"hosp_patients_per_million\": 49.7295, \"human_development_index\": 0.806, \"icu_patients_per_million\": 11.576, \"life_expectancy\": 75.49, \"new_cases_per_million\": 368.1015, \"new_deaths_per_million\": 1.405, \"people_fully_vaccinated_per_hundred\": 16.2875, \"people_vaccinated_per_hundred\": 23.77, \"population\": 4270563.0, \"population_density\": 232.128, \"positive_rate\": 0.13, \"region\": \"Asia\", \"reproduction_rate\": 1.09, \"stringency_index\": 50.93, \"total_cases_per_million\": 77692.6835, \"total_deaths_per_million\": 429.4515, \"total_tests_per_thousand\": 651.4265, \"total_vaccinations_per_hundred\": 40.87, \"Case Category\": \"Unassigned\"}, {\"location\": \"Malaysia\", \"excess_mortality\": 7.85, \"gdp_per_capita\": 26808.164, \"hosp_patients_per_million\": 38.4555, \"human_development_index\": 0.81, \"icu_patients_per_million\": 5.28075, \"life_expectancy\": 76.16, \"new_cases_per_million\": 179.1385, \"new_deaths_per_million\": 2.348, \"people_fully_vaccinated_per_hundred\": 4.58, \"people_vaccinated_per_hundred\": 11.045, \"population\": 32365998.0, \"population_density\": 96.254, \"positive_rate\": 0.068, \"region\": \"Asia\", \"reproduction_rate\": 0.975, \"stringency_index\": 78.7, \"total_cases_per_million\": 20714.671, \"total_deaths_per_million\": 126.846, \"total_tests_per_thousand\": 514.76, \"total_vaccinations_per_hundred\": 15.63, \"Case Category\": \"Unassigned\"}, {\"location\": \"Maldives\", \"excess_mortality\": 3.255, \"gdp_per_capita\": 15183.616, \"hosp_patients_per_million\": 22.5725, \"human_development_index\": 0.74, \"icu_patients_per_million\": 11.76175, \"life_expectancy\": 78.92, \"new_cases_per_million\": 450.474, \"new_deaths_per_million\": 2.775, \"people_fully_vaccinated_per_hundred\": 33.43, \"people_vaccinated_per_hundred\": 58.21, \"population\": 540542.0, \"population_density\": 1454.433, \"positive_rate\": 0.062, \"region\": \"Asia\", \"reproduction_rate\": 0.655, \"stringency_index\": 59.03, \"total_cases_per_million\": 131382.0205, \"total_deaths_per_million\": 368.149, \"total_tests_per_thousand\": 1768.6765, \"total_vaccinations_per_hundred\": 91.64, \"Case Category\": \"Unassigned\"}, {\"location\": \"Mongolia\", \"excess_mortality\": 29.1, \"gdp_per_capita\": 11840.846, \"hosp_patients_per_million\": 58.90275, \"human_development_index\": 0.737, \"icu_patients_per_million\": 11.576, \"life_expectancy\": 69.87, \"new_cases_per_million\": 628.5285, \"new_deaths_per_million\": 3.2025, \"people_fully_vaccinated_per_hundred\": 50.21, \"people_vaccinated_per_hundred\": 57.73, \"population\": 3278292.0, \"population_density\": 1.98, \"positive_rate\": 0.1705, \"region\": \"Asia\", \"reproduction_rate\": 1.235, \"stringency_index\": 59.26, \"total_cases_per_million\": 25760.0605, \"total_deaths_per_million\": 120.337, \"total_tests_per_thousand\": 940.556, \"total_vaccinations_per_hundred\": 107.93, \"Case Category\": \"Low Death - High Cases\"}, {\"location\": \"Namibia\", \"excess_mortality\": 30.24, \"gdp_per_capita\": 9541.808, \"hosp_patients_per_million\": 50.32925, \"human_development_index\": 0.646, \"icu_patients_per_million\": 11.76175, \"life_expectancy\": 63.71, \"new_cases_per_million\": 398.085, \"new_deaths_per_million\": 7.4775, \"people_fully_vaccinated_per_hundred\": 0.63, \"people_vaccinated_per_hundred\": 3.61, \"population\": 2540916.0, \"population_density\": 3.078, \"positive_rate\": 0.3235, \"region\": \"Africa\", \"reproduction_rate\": 1.365, \"stringency_index\": 56.48, \"total_cases_per_million\": 26785.0255, \"total_deaths_per_million\": 415.795, \"total_tests_per_thousand\": 186.333, \"total_vaccinations_per_hundred\": 4.24, \"Case Category\": \"High Deaths - Low Cases\"}, {\"location\": \"Oman\", \"excess_mortality\": 156.84, \"gdp_per_capita\": 37960.709, \"hosp_patients_per_million\": 199.913, \"human_development_index\": 0.813, \"icu_patients_per_million\": 26.87825, \"life_expectancy\": 77.86, \"new_cases_per_million\": 361.491, \"new_deaths_per_million\": 3.721, \"people_fully_vaccinated_per_hundred\": 3.62, \"people_vaccinated_per_hundred\": 9.505, \"population\": 5106622.0, \"population_density\": 14.98, \"positive_rate\": 0.0435, \"region\": \"Asia\", \"reproduction_rate\": 1.285, \"stringency_index\": 60.19, \"total_cases_per_million\": 46926.716, \"total_deaths_per_million\": 504.8345, \"total_tests_per_thousand\": 554.69075, \"total_vaccinations_per_hundred\": 14.1, \"Case Category\": \"Unassigned\"}, {\"location\": \"Panama\", \"excess_mortality\": 79.7825, \"gdp_per_capita\": 22267.037, \"hosp_patients_per_million\": 96.98725, \"human_development_index\": 0.815, \"icu_patients_per_million\": 26.87825, \"life_expectancy\": 78.51, \"new_cases_per_million\": 197.693, \"new_deaths_per_million\": 1.391, \"people_fully_vaccinated_per_hundred\": 10.115, \"people_vaccinated_per_hundred\": 19.04, \"population\": 4314768.0, \"population_density\": 55.133, \"positive_rate\": 0.0715, \"region\": \"North America\", \"reproduction_rate\": 1.14, \"stringency_index\": 61.11, \"total_cases_per_million\": 90317.0225, \"total_deaths_per_million\": 1495.909, \"total_tests_per_thousand\": 655.371, \"total_vaccinations_per_hundred\": 30.78, \"Case Category\": \"Unassigned\"}, {\"location\": \"Paraguay\", \"excess_mortality\": 100.16, \"gdp_per_capita\": 8827.01, \"hosp_patients_per_million\": 199.913, \"human_development_index\": 0.728, \"icu_patients_per_million\": 19.45375, \"life_expectancy\": 74.25, \"new_cases_per_million\": 300.875, \"new_deaths_per_million\": 17.245, \"people_fully_vaccinated_per_hundred\": 1.74, \"people_vaccinated_per_hundred\": 7.755, \"population\": 7132530.0, \"population_density\": 17.144, \"positive_rate\": 0.2985, \"region\": \"South America\", \"reproduction_rate\": 0.87, \"stringency_index\": 49.07, \"total_cases_per_million\": 55724.266, \"total_deaths_per_million\": 1559.755, \"total_tests_per_thousand\": 199.3555, \"total_vaccinations_per_hundred\": 9.495, \"Case Category\": \"High Deaths - Low Cases\"}, {\"location\": \"Peru\", \"excess_mortality\": 110.89, \"gdp_per_capita\": 12236.706, \"hosp_patients_per_million\": 17.7125, \"human_development_index\": 0.777, \"icu_patients_per_million\": 5.28075, \"life_expectancy\": 76.74, \"new_cases_per_million\": 87.605, \"new_deaths_per_million\": 7.7795, \"people_fully_vaccinated_per_hundred\": 6.905, \"people_vaccinated_per_hundred\": 11.675, \"population\": 32971846.0, \"population_density\": 25.129, \"positive_rate\": 0.078, \"region\": \"South America\", \"reproduction_rate\": 0.95, \"stringency_index\": 75.93, \"total_cases_per_million\": 60884.58, \"total_deaths_per_million\": 5740.079, \"total_tests_per_thousand\": 130.713, \"total_vaccinations_per_hundred\": 18.585, \"Case Category\": \"High Deaths - Low Cases\"}, {\"location\": \"Romania\", \"excess_mortality\": 9.74, \"gdp_per_capita\": 23313.199, \"hosp_patients_per_million\": 17.7125, \"human_development_index\": 0.828, \"icu_patients_per_million\": 9.98, \"life_expectancy\": 76.05, \"new_cases_per_million\": 4.1585, \"new_deaths_per_million\": 4.99, \"people_fully_vaccinated_per_hundred\": 22.0, \"people_vaccinated_per_hundred\": 23.775, \"population\": 19237682.0, \"population_density\": 85.129, \"positive_rate\": 0.0065, \"region\": \"Europe\", \"reproduction_rate\": 0.565, \"stringency_index\": 42.59, \"total_cases_per_million\": 56136.233, \"total_deaths_per_million\": 1663.0125, \"total_tests_per_thousand\": 423.2265, \"total_vaccinations_per_hundred\": 44.625, \"Case Category\": \"Unassigned\"}, {\"location\": \"Solomon Islands\", \"excess_mortality\": 7.285, \"gdp_per_capita\": 2205.923, \"hosp_patients_per_million\": 8.654, \"human_development_index\": 0.567, \"icu_patients_per_million\": 7.791, \"life_expectancy\": 73.0, \"new_cases_per_million\": 0.0, \"new_deaths_per_million\": 6.41575, \"people_fully_vaccinated_per_hundred\": 0.52, \"people_vaccinated_per_hundred\": 2.63, \"population\": 686878.0, \"population_density\": 21.841, \"positive_rate\": 0.01925, \"region\": \"Oceania\", \"reproduction_rate\": 0.88, \"stringency_index\": 25.0, \"total_cases_per_million\": 29.117, \"total_deaths_per_million\": 609.661, \"total_tests_per_thousand\": 271.922, \"total_vaccinations_per_hundred\": 3.15, \"Case Category\": \"Unassigned\"}, {\"location\": \"South Africa\", \"excess_mortality\": 71.6575, \"gdp_per_capita\": 12294.876, \"hosp_patients_per_million\": 36.38075, \"human_development_index\": 0.709, \"icu_patients_per_million\": 5.28075, \"life_expectancy\": 64.13, \"new_cases_per_million\": 155.7865, \"new_deaths_per_million\": 2.0065, \"people_fully_vaccinated_per_hundred\": 11.385, \"people_vaccinated_per_hundred\": 3.16, \"population\": 59308690.0, \"population_density\": 46.754, \"positive_rate\": 0.1725, \"region\": \"Africa\", \"reproduction_rate\": 1.35, \"stringency_index\": 50.0, \"total_cases_per_million\": 29804.89, \"total_deaths_per_million\": 980.5475, \"total_tests_per_thousand\": 207.412, \"total_vaccinations_per_hundred\": 3.16, \"Case Category\": \"Unassigned\"}, {\"location\": \"Suriname\", \"excess_mortality\": 7.285, \"gdp_per_capita\": 13767.119, \"hosp_patients_per_million\": 8.654, \"human_development_index\": 0.738, \"icu_patients_per_million\": 7.791, \"life_expectancy\": 71.68, \"new_cases_per_million\": 407.409, \"new_deaths_per_million\": 11.932, \"people_fully_vaccinated_per_hundred\": 4.5, \"people_vaccinated_per_hundred\": 20.295, \"population\": 586634.0, \"population_density\": 3.612, \"positive_rate\": 0.01925, \"region\": \"South America\", \"reproduction_rate\": 0.97, \"stringency_index\": 81.48, \"total_cases_per_million\": 32331.0615, \"total_deaths_per_million\": 720.2105, \"total_tests_per_thousand\": 271.922, \"total_vaccinations_per_hundred\": 24.8, \"Case Category\": \"High Deaths - Low Cases\"}, {\"location\": \"Trinidad and Tobago\", \"excess_mortality\": 29.09, \"gdp_per_capita\": 28763.071, \"hosp_patients_per_million\": 22.5725, \"human_development_index\": 0.796, \"icu_patients_per_million\": 11.76175, \"life_expectancy\": 73.51, \"new_cases_per_million\": 211.148, \"new_deaths_per_million\": 8.575, \"people_fully_vaccinated_per_hundred\": 1.52, \"people_vaccinated_per_hundred\": 11.985, \"population\": 1399491.0, \"population_density\": 266.886, \"positive_rate\": 0.1995, \"region\": \"North America\", \"reproduction_rate\": 0.845, \"stringency_index\": 74.07, \"total_cases_per_million\": 21048.724, \"total_deaths_per_million\": 493.3935, \"total_tests_per_thousand\": 152.492, \"total_vaccinations_per_hundred\": 13.505, \"Case Category\": \"High Deaths - Low Cases\"}, {\"location\": \"Tunisia\", \"excess_mortality\": 52.7725, \"gdp_per_capita\": 10849.297, \"hosp_patients_per_million\": 162.07575, \"human_development_index\": 0.74, \"icu_patients_per_million\": 18.24175, \"life_expectancy\": 76.7, \"new_cases_per_million\": 180.351, \"new_deaths_per_million\": 6.642, \"people_fully_vaccinated_per_hundred\": 3.21, \"people_vaccinated_per_hundred\": 9.03, \"population\": 11818618.0, \"population_density\": 74.228, \"positive_rate\": 0.288, \"region\": \"Africa\", \"reproduction_rate\": 1.195, \"stringency_index\": 72.22, \"total_cases_per_million\": 31582.923, \"total_deaths_per_million\": 1158.215, \"total_tests_per_thousand\": 132.702, \"total_vaccinations_per_hundred\": 12.24, \"Case Category\": \"Unassigned\"}, {\"location\": \"United Arab Emirates\", \"excess_mortality\": -2.595, \"gdp_per_capita\": 67293.483, \"hosp_patients_per_million\": 26.69, \"human_development_index\": 0.89, \"icu_patients_per_million\": 5.6415, \"life_expectancy\": 77.97, \"new_cases_per_million\": 210.861, \"new_deaths_per_million\": 0.404, \"people_fully_vaccinated_per_hundred\": 23.355, \"people_vaccinated_per_hundred\": 43.945, \"population\": 9890400.0, \"population_density\": 112.442, \"positive_rate\": 0.009, \"region\": \"Asia\", \"reproduction_rate\": 1.035, \"stringency_index\": 57.175, \"total_cases_per_million\": 60963.7125, \"total_deaths_per_million\": 175.524, \"total_tests_per_thousand\": 5449.9105, \"total_vaccinations_per_hundred\": 142.24, \"Case Category\": \"Unassigned\"}, {\"location\": \"Uruguay\", \"excess_mortality\": 37.43, \"gdp_per_capita\": 20551.409, \"hosp_patients_per_million\": 49.7295, \"human_development_index\": 0.817, \"icu_patients_per_million\": 11.576, \"life_expectancy\": 77.91, \"new_cases_per_million\": 655.348, \"new_deaths_per_million\": 12.235, \"people_fully_vaccinated_per_hundred\": 36.73, \"people_vaccinated_per_hundred\": 61.485, \"population\": 3473727.0, \"population_density\": 19.751, \"positive_rate\": 0.1495, \"region\": \"South America\", \"reproduction_rate\": 0.81, \"stringency_index\": 63.89, \"total_cases_per_million\": 99335.67, \"total_deaths_per_million\": 1469.459, \"total_tests_per_thousand\": 747.588, \"total_vaccinations_per_hundred\": 98.215, \"Case Category\": \"High Deaths - High Cases\"}]}}, {\"mode\": \"vega-lite\"});\n",
       "</script>"
      ],
      "text/plain": [
       "alt.VConcatChart(...)"
      ]
     },
     "execution_count": 11,
     "metadata": {},
     "output_type": "execute_result"
    }
   ],
   "source": [
    "bar_jan_2021 = plot_bar(output_jan_2021, \"jan_2021\")\n",
    "bar_dec_2020 = plot_bar(output_dec_2020, \"dec_2020\")\n",
    "bar_june_2021 = plot_bar(output_june_2021, \"june_2021\")\n",
    "\n",
    "alt.vconcat(bar_dec_2020, bar_jan_2021, bar_june_2021).resolve_scale(y=\"shared\", x=\"shared\")"
   ]
  },
  {
   "cell_type": "code",
   "execution_count": null,
   "metadata": {},
   "outputs": [],
   "source": []
  },
  {
   "cell_type": "code",
   "execution_count": 15,
   "metadata": {},
   "outputs": [
    {
     "data": {
      "text/html": [
       "<div>\n",
       "<style scoped>\n",
       "    .dataframe tbody tr th:only-of-type {\n",
       "        vertical-align: middle;\n",
       "    }\n",
       "\n",
       "    .dataframe tbody tr th {\n",
       "        vertical-align: top;\n",
       "    }\n",
       "\n",
       "    .dataframe thead th {\n",
       "        text-align: right;\n",
       "    }\n",
       "</style>\n",
       "<table border=\"1\" class=\"dataframe\">\n",
       "  <thead>\n",
       "    <tr style=\"text-align: right;\">\n",
       "      <th></th>\n",
       "      <th>Label</th>\n",
       "      <th>X</th>\n",
       "      <th>Y</th>\n",
       "    </tr>\n",
       "  </thead>\n",
       "  <tbody>\n",
       "    <tr>\n",
       "      <th>0</th>\n",
       "      <td>P207</td>\n",
       "      <td>2.563335</td>\n",
       "      <td>6.644830</td>\n",
       "    </tr>\n",
       "    <tr>\n",
       "      <th>1</th>\n",
       "      <td>P31</td>\n",
       "      <td>2.536504</td>\n",
       "      <td>7.286949</td>\n",
       "    </tr>\n",
       "    <tr>\n",
       "      <th>2</th>\n",
       "      <td>P48</td>\n",
       "      <td>3.504073</td>\n",
       "      <td>7.303193</td>\n",
       "    </tr>\n",
       "    <tr>\n",
       "      <th>3</th>\n",
       "      <td>P52</td>\n",
       "      <td>6.583511</td>\n",
       "      <td>7.287960</td>\n",
       "    </tr>\n",
       "    <tr>\n",
       "      <th>4</th>\n",
       "      <td>P244</td>\n",
       "      <td>2.766934</td>\n",
       "      <td>5.493677</td>\n",
       "    </tr>\n",
       "    <tr>\n",
       "      <th>...</th>\n",
       "      <td>...</td>\n",
       "      <td>...</td>\n",
       "      <td>...</td>\n",
       "    </tr>\n",
       "    <tr>\n",
       "      <th>145</th>\n",
       "      <td>P71</td>\n",
       "      <td>5.907920</td>\n",
       "      <td>3.706334</td>\n",
       "    </tr>\n",
       "    <tr>\n",
       "      <th>146</th>\n",
       "      <td>P152</td>\n",
       "      <td>2.273500</td>\n",
       "      <td>6.894662</td>\n",
       "    </tr>\n",
       "    <tr>\n",
       "      <th>147</th>\n",
       "      <td>P2</td>\n",
       "      <td>7.185936</td>\n",
       "      <td>8.521383</td>\n",
       "    </tr>\n",
       "    <tr>\n",
       "      <th>148</th>\n",
       "      <td>P28</td>\n",
       "      <td>4.109720</td>\n",
       "      <td>6.170589</td>\n",
       "    </tr>\n",
       "    <tr>\n",
       "      <th>149</th>\n",
       "      <td>P9</td>\n",
       "      <td>1.947442</td>\n",
       "      <td>6.089432</td>\n",
       "    </tr>\n",
       "  </tbody>\n",
       "</table>\n",
       "<p>150 rows × 3 columns</p>\n",
       "</div>"
      ],
      "text/plain": [
       "    Label         X         Y\n",
       "0    P207  2.563335  6.644830\n",
       "1     P31  2.536504  7.286949\n",
       "2     P48  3.504073  7.303193\n",
       "3     P52  6.583511  7.287960\n",
       "4    P244  2.766934  5.493677\n",
       "..    ...       ...       ...\n",
       "145   P71  5.907920  3.706334\n",
       "146  P152  2.273500  6.894662\n",
       "147    P2  7.185936  8.521383\n",
       "148   P28  4.109720  6.170589\n",
       "149    P9  1.947442  6.089432\n",
       "\n",
       "[150 rows x 3 columns]"
      ]
     },
     "execution_count": 15,
     "metadata": {},
     "output_type": "execute_result"
    }
   ],
   "source": [
    "# Our workflow was created for cluster_simple_v1 dataset.\n",
    "# here we are loading v5 of the dataset\n",
    "\n",
    "target = pd.read_csv(\"cluster_simple_v5.csv\")\n",
    "target"
   ]
  },
  {
   "cell_type": "code",
   "execution_count": 16,
   "metadata": {},
   "outputs": [],
   "source": [
    "from reapply_workflows import Reapply"
   ]
  },
  {
   "cell_type": "code",
   "execution_count": 20,
   "metadata": {},
   "outputs": [
    {
     "name": "stdout",
     "output_type": "stream",
     "text": [
      "Delete Cluster - 1631239856899\n"
     ]
    }
   ],
   "source": [
    "# Here we initialize reapply library\n",
    "reapply = Reapply()\n",
    "\n",
    "# We load the Cluster Simple project and\n",
    "# list all the workflows available\n",
    "cluster_project = reapply.load(\"Cluster Simple\")\n",
    "cluster_project.list_workflows()"
   ]
  },
  {
   "cell_type": "code",
   "execution_count": 22,
   "metadata": {},
   "outputs": [
    {
     "name": "stdout",
     "output_type": "stream",
     "text": [
      "Delete Cluster\n",
      "| Root\n",
      " +--| Adding scatterplot for X-Y\n",
      "     +--| Add Brush\n",
      "         +--| Apply Cluster selection\n",
      "             +--| Filter Out\n"
     ]
    }
   ],
   "source": [
    "# We load the workflow\n",
    "wf = cluster_project.get_workflow(\"1631239856899\")\n",
    "# Description of the workflow\n",
    "wf.describe()"
   ]
  },
  {
   "cell_type": "code",
   "execution_count": 39,
   "metadata": {},
   "outputs": [],
   "source": [
    "def disp(df):\n",
    "  df.drop(['id', 'iid'], axis=1, inplace=True)\n",
    "  display(df.head())\n",
    "# results = wf.apply(target, \"Label\")"
   ]
  },
  {
   "cell_type": "code",
   "execution_count": 40,
   "metadata": {},
   "outputs": [
    {
     "name": "stdout",
     "output_type": "stream",
     "text": [
      "Root\n"
     ]
    },
    {
     "data": {
      "text/html": [
       "<div>\n",
       "<style scoped>\n",
       "    .dataframe tbody tr th:only-of-type {\n",
       "        vertical-align: middle;\n",
       "    }\n",
       "\n",
       "    .dataframe tbody tr th {\n",
       "        vertical-align: top;\n",
       "    }\n",
       "\n",
       "    .dataframe thead th {\n",
       "        text-align: right;\n",
       "    }\n",
       "</style>\n",
       "<table border=\"1\" class=\"dataframe\">\n",
       "  <thead>\n",
       "    <tr style=\"text-align: right;\">\n",
       "      <th></th>\n",
       "      <th>Label</th>\n",
       "      <th>X</th>\n",
       "      <th>Y</th>\n",
       "    </tr>\n",
       "  </thead>\n",
       "  <tbody>\n",
       "    <tr>\n",
       "      <th>0</th>\n",
       "      <td>P207</td>\n",
       "      <td>2.56334</td>\n",
       "      <td>6.64483</td>\n",
       "    </tr>\n",
       "    <tr>\n",
       "      <th>1</th>\n",
       "      <td>P31</td>\n",
       "      <td>2.53650</td>\n",
       "      <td>7.28695</td>\n",
       "    </tr>\n",
       "    <tr>\n",
       "      <th>2</th>\n",
       "      <td>P48</td>\n",
       "      <td>3.50407</td>\n",
       "      <td>7.30319</td>\n",
       "    </tr>\n",
       "    <tr>\n",
       "      <th>3</th>\n",
       "      <td>P52</td>\n",
       "      <td>6.58351</td>\n",
       "      <td>7.28796</td>\n",
       "    </tr>\n",
       "    <tr>\n",
       "      <th>4</th>\n",
       "      <td>P244</td>\n",
       "      <td>2.76693</td>\n",
       "      <td>5.49368</td>\n",
       "    </tr>\n",
       "  </tbody>\n",
       "</table>\n",
       "</div>"
      ],
      "text/plain": [
       "  Label        X        Y\n",
       "0  P207  2.56334  6.64483\n",
       "1   P31  2.53650  7.28695\n",
       "2   P48  3.50407  7.30319\n",
       "3   P52  6.58351  7.28796\n",
       "4  P244  2.76693  5.49368"
      ]
     },
     "metadata": {},
     "output_type": "display_data"
    },
    {
     "name": "stdout",
     "output_type": "stream",
     "text": [
      "Adding scatterplot for X-Y\n"
     ]
    },
    {
     "data": {
      "text/html": [
       "<div>\n",
       "<style scoped>\n",
       "    .dataframe tbody tr th:only-of-type {\n",
       "        vertical-align: middle;\n",
       "    }\n",
       "\n",
       "    .dataframe tbody tr th {\n",
       "        vertical-align: top;\n",
       "    }\n",
       "\n",
       "    .dataframe thead th {\n",
       "        text-align: right;\n",
       "    }\n",
       "</style>\n",
       "<table border=\"1\" class=\"dataframe\">\n",
       "  <thead>\n",
       "    <tr style=\"text-align: right;\">\n",
       "      <th></th>\n",
       "      <th>Label</th>\n",
       "      <th>X</th>\n",
       "      <th>Y</th>\n",
       "    </tr>\n",
       "  </thead>\n",
       "  <tbody>\n",
       "    <tr>\n",
       "      <th>0</th>\n",
       "      <td>P207</td>\n",
       "      <td>2.56334</td>\n",
       "      <td>6.64483</td>\n",
       "    </tr>\n",
       "    <tr>\n",
       "      <th>1</th>\n",
       "      <td>P31</td>\n",
       "      <td>2.53650</td>\n",
       "      <td>7.28695</td>\n",
       "    </tr>\n",
       "    <tr>\n",
       "      <th>2</th>\n",
       "      <td>P48</td>\n",
       "      <td>3.50407</td>\n",
       "      <td>7.30319</td>\n",
       "    </tr>\n",
       "    <tr>\n",
       "      <th>3</th>\n",
       "      <td>P52</td>\n",
       "      <td>6.58351</td>\n",
       "      <td>7.28796</td>\n",
       "    </tr>\n",
       "    <tr>\n",
       "      <th>4</th>\n",
       "      <td>P244</td>\n",
       "      <td>2.76693</td>\n",
       "      <td>5.49368</td>\n",
       "    </tr>\n",
       "  </tbody>\n",
       "</table>\n",
       "</div>"
      ],
      "text/plain": [
       "  Label        X        Y\n",
       "0  P207  2.56334  6.64483\n",
       "1   P31  2.53650  7.28695\n",
       "2   P48  3.50407  7.30319\n",
       "3   P52  6.58351  7.28796\n",
       "4  P244  2.76693  5.49368"
      ]
     },
     "metadata": {},
     "output_type": "display_data"
    },
    {
     "name": "stdout",
     "output_type": "stream",
     "text": [
      "Add Brush\n"
     ]
    },
    {
     "data": {
      "text/html": [
       "<div>\n",
       "<style scoped>\n",
       "    .dataframe tbody tr th:only-of-type {\n",
       "        vertical-align: middle;\n",
       "    }\n",
       "\n",
       "    .dataframe tbody tr th {\n",
       "        vertical-align: top;\n",
       "    }\n",
       "\n",
       "    .dataframe thead th {\n",
       "        text-align: right;\n",
       "    }\n",
       "</style>\n",
       "<table border=\"1\" class=\"dataframe\">\n",
       "  <thead>\n",
       "    <tr style=\"text-align: right;\">\n",
       "      <th></th>\n",
       "      <th>Label</th>\n",
       "      <th>X</th>\n",
       "      <th>Y</th>\n",
       "      <th>isSelected</th>\n",
       "    </tr>\n",
       "  </thead>\n",
       "  <tbody>\n",
       "    <tr>\n",
       "      <th>0</th>\n",
       "      <td>P207</td>\n",
       "      <td>2.56334</td>\n",
       "      <td>6.64483</td>\n",
       "      <td>True</td>\n",
       "    </tr>\n",
       "    <tr>\n",
       "      <th>1</th>\n",
       "      <td>P31</td>\n",
       "      <td>2.53650</td>\n",
       "      <td>7.28695</td>\n",
       "      <td>True</td>\n",
       "    </tr>\n",
       "    <tr>\n",
       "      <th>2</th>\n",
       "      <td>P48</td>\n",
       "      <td>3.50407</td>\n",
       "      <td>7.30319</td>\n",
       "      <td>True</td>\n",
       "    </tr>\n",
       "    <tr>\n",
       "      <th>3</th>\n",
       "      <td>P52</td>\n",
       "      <td>6.58351</td>\n",
       "      <td>7.28796</td>\n",
       "      <td>False</td>\n",
       "    </tr>\n",
       "    <tr>\n",
       "      <th>4</th>\n",
       "      <td>P244</td>\n",
       "      <td>2.76693</td>\n",
       "      <td>5.49368</td>\n",
       "      <td>False</td>\n",
       "    </tr>\n",
       "  </tbody>\n",
       "</table>\n",
       "</div>"
      ],
      "text/plain": [
       "  Label        X        Y  isSelected\n",
       "0  P207  2.56334  6.64483        True\n",
       "1   P31  2.53650  7.28695        True\n",
       "2   P48  3.50407  7.30319        True\n",
       "3   P52  6.58351  7.28796       False\n",
       "4  P244  2.76693  5.49368       False"
      ]
     },
     "metadata": {},
     "output_type": "display_data"
    },
    {
     "name": "stdout",
     "output_type": "stream",
     "text": [
      "Apply Cluster selection\n"
     ]
    },
    {
     "data": {
      "text/html": [
       "<div>\n",
       "<style scoped>\n",
       "    .dataframe tbody tr th:only-of-type {\n",
       "        vertical-align: middle;\n",
       "    }\n",
       "\n",
       "    .dataframe tbody tr th {\n",
       "        vertical-align: top;\n",
       "    }\n",
       "\n",
       "    .dataframe thead th {\n",
       "        text-align: right;\n",
       "    }\n",
       "</style>\n",
       "<table border=\"1\" class=\"dataframe\">\n",
       "  <thead>\n",
       "    <tr style=\"text-align: right;\">\n",
       "      <th></th>\n",
       "      <th>Label</th>\n",
       "      <th>X</th>\n",
       "      <th>Y</th>\n",
       "      <th>isSelected</th>\n",
       "    </tr>\n",
       "  </thead>\n",
       "  <tbody>\n",
       "    <tr>\n",
       "      <th>0</th>\n",
       "      <td>P207</td>\n",
       "      <td>2.56334</td>\n",
       "      <td>6.64483</td>\n",
       "      <td>True</td>\n",
       "    </tr>\n",
       "    <tr>\n",
       "      <th>1</th>\n",
       "      <td>P31</td>\n",
       "      <td>2.53650</td>\n",
       "      <td>7.28695</td>\n",
       "      <td>True</td>\n",
       "    </tr>\n",
       "    <tr>\n",
       "      <th>2</th>\n",
       "      <td>P48</td>\n",
       "      <td>3.50407</td>\n",
       "      <td>7.30319</td>\n",
       "      <td>True</td>\n",
       "    </tr>\n",
       "    <tr>\n",
       "      <th>3</th>\n",
       "      <td>P52</td>\n",
       "      <td>6.58351</td>\n",
       "      <td>7.28796</td>\n",
       "      <td>False</td>\n",
       "    </tr>\n",
       "    <tr>\n",
       "      <th>4</th>\n",
       "      <td>P244</td>\n",
       "      <td>2.76693</td>\n",
       "      <td>5.49368</td>\n",
       "      <td>True</td>\n",
       "    </tr>\n",
       "  </tbody>\n",
       "</table>\n",
       "</div>"
      ],
      "text/plain": [
       "  Label        X        Y  isSelected\n",
       "0  P207  2.56334  6.64483        True\n",
       "1   P31  2.53650  7.28695        True\n",
       "2   P48  3.50407  7.30319        True\n",
       "3   P52  6.58351  7.28796       False\n",
       "4  P244  2.76693  5.49368        True"
      ]
     },
     "metadata": {},
     "output_type": "display_data"
    },
    {
     "name": "stdout",
     "output_type": "stream",
     "text": [
      "Filter Out\n"
     ]
    },
    {
     "data": {
      "text/html": [
       "<div>\n",
       "<style scoped>\n",
       "    .dataframe tbody tr th:only-of-type {\n",
       "        vertical-align: middle;\n",
       "    }\n",
       "\n",
       "    .dataframe tbody tr th {\n",
       "        vertical-align: top;\n",
       "    }\n",
       "\n",
       "    .dataframe thead th {\n",
       "        text-align: right;\n",
       "    }\n",
       "</style>\n",
       "<table border=\"1\" class=\"dataframe\">\n",
       "  <thead>\n",
       "    <tr style=\"text-align: right;\">\n",
       "      <th></th>\n",
       "      <th>Label</th>\n",
       "      <th>X</th>\n",
       "      <th>Y</th>\n",
       "      <th>isFiltered</th>\n",
       "    </tr>\n",
       "  </thead>\n",
       "  <tbody>\n",
       "    <tr>\n",
       "      <th>0</th>\n",
       "      <td>P207</td>\n",
       "      <td>2.56334</td>\n",
       "      <td>6.64483</td>\n",
       "      <td>True</td>\n",
       "    </tr>\n",
       "    <tr>\n",
       "      <th>1</th>\n",
       "      <td>P31</td>\n",
       "      <td>2.53650</td>\n",
       "      <td>7.28695</td>\n",
       "      <td>True</td>\n",
       "    </tr>\n",
       "    <tr>\n",
       "      <th>2</th>\n",
       "      <td>P48</td>\n",
       "      <td>3.50407</td>\n",
       "      <td>7.30319</td>\n",
       "      <td>True</td>\n",
       "    </tr>\n",
       "    <tr>\n",
       "      <th>3</th>\n",
       "      <td>P52</td>\n",
       "      <td>6.58351</td>\n",
       "      <td>7.28796</td>\n",
       "      <td>False</td>\n",
       "    </tr>\n",
       "    <tr>\n",
       "      <th>4</th>\n",
       "      <td>P244</td>\n",
       "      <td>2.76693</td>\n",
       "      <td>5.49368</td>\n",
       "      <td>True</td>\n",
       "    </tr>\n",
       "  </tbody>\n",
       "</table>\n",
       "</div>"
      ],
      "text/plain": [
       "  Label        X        Y  isFiltered\n",
       "0  P207  2.56334  6.64483        True\n",
       "1   P31  2.53650  7.28695        True\n",
       "2   P48  3.50407  7.30319        True\n",
       "3   P52  6.58351  7.28796       False\n",
       "4  P244  2.76693  5.49368        True"
      ]
     },
     "metadata": {},
     "output_type": "display_data"
    }
   ],
   "source": [
    "# Apply the worklfow to a dataset and\n",
    "# print the preview of dataset for each interaction\n",
    "results = wf.apply(target, \"Label\")\n",
    "results.pretty_print()"
   ]
  },
  {
   "cell_type": "code",
   "execution_count": 30,
   "metadata": {},
   "outputs": [
    {
     "data": {
      "text/html": [
       "<div>\n",
       "<style scoped>\n",
       "    .dataframe tbody tr th:only-of-type {\n",
       "        vertical-align: middle;\n",
       "    }\n",
       "\n",
       "    .dataframe tbody tr th {\n",
       "        vertical-align: top;\n",
       "    }\n",
       "\n",
       "    .dataframe thead th {\n",
       "        text-align: right;\n",
       "    }\n",
       "</style>\n",
       "<table border=\"1\" class=\"dataframe\">\n",
       "  <thead>\n",
       "    <tr style=\"text-align: right;\">\n",
       "      <th></th>\n",
       "      <th>Label</th>\n",
       "      <th>X</th>\n",
       "      <th>Y</th>\n",
       "    </tr>\n",
       "  </thead>\n",
       "  <tbody>\n",
       "    <tr>\n",
       "      <th>0</th>\n",
       "      <td>P52</td>\n",
       "      <td>6.58351</td>\n",
       "      <td>7.28796</td>\n",
       "    </tr>\n",
       "    <tr>\n",
       "      <th>1</th>\n",
       "      <td>P171</td>\n",
       "      <td>4.77421</td>\n",
       "      <td>4.17980</td>\n",
       "    </tr>\n",
       "    <tr>\n",
       "      <th>2</th>\n",
       "      <td>P199</td>\n",
       "      <td>8.34966</td>\n",
       "      <td>0.09550</td>\n",
       "    </tr>\n",
       "    <tr>\n",
       "      <th>3</th>\n",
       "      <td>P183</td>\n",
       "      <td>8.42670</td>\n",
       "      <td>1.80299</td>\n",
       "    </tr>\n",
       "    <tr>\n",
       "      <th>4</th>\n",
       "      <td>P61</td>\n",
       "      <td>4.29760</td>\n",
       "      <td>2.99981</td>\n",
       "    </tr>\n",
       "    <tr>\n",
       "      <th>...</th>\n",
       "      <td>...</td>\n",
       "      <td>...</td>\n",
       "      <td>...</td>\n",
       "    </tr>\n",
       "    <tr>\n",
       "      <th>103</th>\n",
       "      <td>P138</td>\n",
       "      <td>7.35179</td>\n",
       "      <td>7.05215</td>\n",
       "    </tr>\n",
       "    <tr>\n",
       "      <th>104</th>\n",
       "      <td>P46</td>\n",
       "      <td>6.62171</td>\n",
       "      <td>8.27311</td>\n",
       "    </tr>\n",
       "    <tr>\n",
       "      <th>105</th>\n",
       "      <td>P54</td>\n",
       "      <td>7.45748</td>\n",
       "      <td>2.19756</td>\n",
       "    </tr>\n",
       "    <tr>\n",
       "      <th>106</th>\n",
       "      <td>P71</td>\n",
       "      <td>5.90792</td>\n",
       "      <td>3.70633</td>\n",
       "    </tr>\n",
       "    <tr>\n",
       "      <th>107</th>\n",
       "      <td>P2</td>\n",
       "      <td>7.18594</td>\n",
       "      <td>8.52138</td>\n",
       "    </tr>\n",
       "  </tbody>\n",
       "</table>\n",
       "<p>108 rows × 3 columns</p>\n",
       "</div>"
      ],
      "text/plain": [
       "    Label        X        Y\n",
       "0     P52  6.58351  7.28796\n",
       "1    P171  4.77421  4.17980\n",
       "2    P199  8.34966  0.09550\n",
       "3    P183  8.42670  1.80299\n",
       "4     P61  4.29760  2.99981\n",
       "..    ...      ...      ...\n",
       "103  P138  7.35179  7.05215\n",
       "104   P46  6.62171  8.27311\n",
       "105   P54  7.45748  2.19756\n",
       "106   P71  5.90792  3.70633\n",
       "107    P2  7.18594  8.52138\n",
       "\n",
       "[108 rows x 3 columns]"
      ]
     },
     "execution_count": 30,
     "metadata": {},
     "output_type": "execute_result"
    }
   ],
   "source": [
    "# Extract output, which is the\n",
    "# final processed version of the dataset\n",
    "output = results.output()\n",
    "output"
   ]
  },
  {
   "cell_type": "code",
   "execution_count": 32,
   "metadata": {},
   "outputs": [
    {
     "data": {
      "text/html": [
       "\n",
       "<div id=\"altair-viz-0a4cf7ac673e4ac2b57bba658005189e\"></div>\n",
       "<script type=\"text/javascript\">\n",
       "  (function(spec, embedOpt){\n",
       "    let outputDiv = document.currentScript.previousElementSibling;\n",
       "    if (outputDiv.id !== \"altair-viz-0a4cf7ac673e4ac2b57bba658005189e\") {\n",
       "      outputDiv = document.getElementById(\"altair-viz-0a4cf7ac673e4ac2b57bba658005189e\");\n",
       "    }\n",
       "    const paths = {\n",
       "      \"vega\": \"https://cdn.jsdelivr.net/npm//vega@5?noext\",\n",
       "      \"vega-lib\": \"https://cdn.jsdelivr.net/npm//vega-lib?noext\",\n",
       "      \"vega-lite\": \"https://cdn.jsdelivr.net/npm//vega-lite@4.8.1?noext\",\n",
       "      \"vega-embed\": \"https://cdn.jsdelivr.net/npm//vega-embed@6?noext\",\n",
       "    };\n",
       "\n",
       "    function loadScript(lib) {\n",
       "      return new Promise(function(resolve, reject) {\n",
       "        var s = document.createElement('script');\n",
       "        s.src = paths[lib];\n",
       "        s.async = true;\n",
       "        s.onload = () => resolve(paths[lib]);\n",
       "        s.onerror = () => reject(`Error loading script: ${paths[lib]}`);\n",
       "        document.getElementsByTagName(\"head\")[0].appendChild(s);\n",
       "      });\n",
       "    }\n",
       "\n",
       "    function showError(err) {\n",
       "      outputDiv.innerHTML = `<div class=\"error\" style=\"color:red;\">${err}</div>`;\n",
       "      throw err;\n",
       "    }\n",
       "\n",
       "    function displayChart(vegaEmbed) {\n",
       "      vegaEmbed(outputDiv, spec, embedOpt)\n",
       "        .catch(err => showError(`Javascript Error: ${err.message}<br>This usually means there's a typo in your chart specification. See the javascript console for the full traceback.`));\n",
       "    }\n",
       "\n",
       "    if(typeof define === \"function\" && define.amd) {\n",
       "      requirejs.config({paths});\n",
       "      require([\"vega-embed\"], displayChart, err => showError(`Error loading script: ${err.message}`));\n",
       "    } else if (typeof vegaEmbed === \"function\") {\n",
       "      displayChart(vegaEmbed);\n",
       "    } else {\n",
       "      loadScript(\"vega\")\n",
       "        .then(() => loadScript(\"vega-lite\"))\n",
       "        .then(() => loadScript(\"vega-embed\"))\n",
       "        .catch(showError)\n",
       "        .then(() => displayChart(vegaEmbed));\n",
       "    }\n",
       "  })({\"config\": {\"view\": {\"continuousWidth\": 400, \"continuousHeight\": 300}}, \"data\": {\"name\": \"data-125e013741d7cb07434bb73a950e943b\"}, \"mark\": {\"type\": \"circle\", \"size\": 50}, \"encoding\": {\"x\": {\"type\": \"quantitative\", \"field\": \"X\"}, \"y\": {\"type\": \"quantitative\", \"field\": \"Y\"}}, \"height\": 400, \"width\": 400, \"$schema\": \"https://vega.github.io/schema/vega-lite/v4.8.1.json\", \"datasets\": {\"data-125e013741d7cb07434bb73a950e943b\": [{\"Label\": \"P207\", \"X\": 2.5633354554633634, \"Y\": 6.64482980982617}, {\"Label\": \"P31\", \"X\": 2.536503720097411, \"Y\": 7.286949014721696}, {\"Label\": \"P48\", \"X\": 3.5040730509137594, \"Y\": 7.303192555172432}, {\"Label\": \"P52\", \"X\": 6.583511091615394, \"Y\": 7.287959667086053}, {\"Label\": \"P244\", \"X\": 2.766934438689108, \"Y\": 5.493677297110528}, {\"Label\": \"P171\", \"X\": 4.7742107069411786, \"Y\": 4.179795707936221}, {\"Label\": \"P228\", \"X\": 2.0891572358155, \"Y\": 6.714941974817883}, {\"Label\": \"P149\", \"X\": 2.065699400798501, \"Y\": 6.217507719183356}, {\"Label\": \"P199\", \"X\": 8.349657866209856, \"Y\": 0.0954955507332222}, {\"Label\": \"P183\", \"X\": 8.426695304017052, \"Y\": 1.8029871356192475}, {\"Label\": \"P61\", \"X\": 4.297598213768062, \"Y\": 2.999807681681737}, {\"Label\": \"P11\", \"X\": 8.07677269196504, \"Y\": 1.2041915961727496}, {\"Label\": \"P92\", \"X\": 5.460339084769984, \"Y\": 4.905071955847903}, {\"Label\": \"P223\", \"X\": 6.040529371430083, \"Y\": 3.0315039301893734}, {\"Label\": \"P145\", \"X\": 4.7310111299423365, \"Y\": 3.3371783988696366}, {\"Label\": \"P210\", \"X\": 5.806844785079558, \"Y\": 2.2210031316010177}, {\"Label\": \"P113\", \"X\": 5.196979210822025, \"Y\": 3.836317753362517}, {\"Label\": \"P7\", \"X\": 4.488877117656614, \"Y\": 3.221969146036701}, {\"Label\": \"P143\", \"X\": 5.583799865076936, \"Y\": 3.4055874678059217}, {\"Label\": \"P136\", \"X\": 7.180257853475862, \"Y\": 9.063857064212282}, {\"Label\": \"P77\", \"X\": 7.214394832666188, \"Y\": 8.652751427739942}, {\"Label\": \"P168\", \"X\": 1.1843025852675404, \"Y\": 6.644472974048616}, {\"Label\": \"P63\", \"X\": 3.113243826771181, \"Y\": 5.943599687886785}, {\"Label\": \"P249\", \"X\": 7.949652325549489, \"Y\": 1.2398369543689836}, {\"Label\": \"P21\", \"X\": 4.977314245968133, \"Y\": 3.9565830784368456}, {\"Label\": \"P206\", \"X\": 2.2687549200391777, \"Y\": 6.275606789238587}, {\"Label\": \"P94\", \"X\": 1.1499672247225834, \"Y\": 6.812608180565626}, {\"Label\": \"P169\", \"X\": 4.164116429610816, \"Y\": 3.803149349146528}, {\"Label\": \"P6\", \"X\": 6.9010191684970135, \"Y\": 9.069694012811668}, {\"Label\": \"P212\", \"X\": 6.656860424863854, \"Y\": 3.5408938805367383}, {\"Label\": \"P235\", \"X\": 2.426156795259377, \"Y\": 5.711770794633608}, {\"Label\": \"P12\", \"X\": 8.012194649641577, \"Y\": 0.6969346504484586}, {\"Label\": \"P98\", \"X\": 8.136022573971758, \"Y\": 0.0}, {\"Label\": \"P233\", \"X\": 2.4605318229070523, \"Y\": 7.361266945099265}, {\"Label\": \"P211\", \"X\": 6.18000100503634, \"Y\": 7.129928900243751}, {\"Label\": \"P219\", \"X\": 2.0004905744658696, \"Y\": 5.572770362808865}, {\"Label\": \"P23\", \"X\": 8.68391754350301, \"Y\": 1.238453063545964}, {\"Label\": \"P124\", \"X\": 8.10099084368728, \"Y\": 1.2305887333720067}, {\"Label\": \"P129\", \"X\": 6.108203095642882, \"Y\": 2.4100091189224604}, {\"Label\": \"P164\", \"X\": 7.91217133313973, \"Y\": 1.3976834591026148}, {\"Label\": \"P111\", \"X\": 8.719080784416548, \"Y\": 0.9349686523632011}, {\"Label\": \"P85\", \"X\": 7.630705186085603, \"Y\": 8.625736316556514}, {\"Label\": \"P24\", \"X\": 8.138992517763338, \"Y\": 0.9581793628615908}, {\"Label\": \"P32\", \"X\": 5.728366904026295, \"Y\": 7.761106343861131}, {\"Label\": \"P239\", \"X\": 2.460515938766567, \"Y\": 6.721559644479136}, {\"Label\": \"P151\", \"X\": 1.790350724652899, \"Y\": 6.754526430112167}, {\"Label\": \"P227\", \"X\": 4.482666922246267, \"Y\": 3.5993453914858864}, {\"Label\": \"P147\", \"X\": 8.72295076502451, \"Y\": 2.121054207452227}, {\"Label\": \"P10\", \"X\": 6.317642671441211, \"Y\": 8.451515327275844}, {\"Label\": \"P186\", \"X\": 7.397060476896284, \"Y\": 0.927499789457798}, {\"Label\": \"P220\", \"X\": 6.163547744419933, \"Y\": 3.941380176734152}, {\"Label\": \"P213\", \"X\": 2.8549675323658947, \"Y\": 6.0221568373398}, {\"Label\": \"P144\", \"X\": 5.597314431531702, \"Y\": 3.2735672198711585}, {\"Label\": \"P29\", \"X\": 6.764302763432073, \"Y\": 7.898912732308427}, {\"Label\": \"P142\", \"X\": 5.712204738009343, \"Y\": 7.114421741497351}, {\"Label\": \"P16\", \"X\": 5.589725223047072, \"Y\": 3.1969195574889757}, {\"Label\": \"P226\", \"X\": 6.267002758704158, \"Y\": 8.613435733811546}, {\"Label\": \"P36\", \"X\": 7.489289393390901, \"Y\": 1.8091406871663331}, {\"Label\": \"P55\", \"X\": 6.359342423322472, \"Y\": 3.501468534270826}, {\"Label\": \"P1\", \"X\": 2.216920557245137, \"Y\": 6.222881254073748}, {\"Label\": \"P248\", \"X\": 7.578571508074601, \"Y\": 1.3345438441551942}, {\"Label\": \"P232\", \"X\": 8.38648582796271, \"Y\": 3.141042882452033}, {\"Label\": \"P51\", \"X\": 5.277996581372571, \"Y\": 8.60917682243177}, {\"Label\": \"P41\", \"X\": 7.190863795024988, \"Y\": 3.5891070649183465}, {\"Label\": \"P87\", \"X\": 6.912959259269643, \"Y\": 8.45240592979454}, {\"Label\": \"P179\", \"X\": 9.992739343510255, \"Y\": 2.120490758827013}, {\"Label\": \"P83\", \"X\": 8.406762184969342, \"Y\": 1.155046190400007}, {\"Label\": \"P167\", \"X\": 4.768380764724446, \"Y\": 2.830143711213572}, {\"Label\": \"P135\", \"X\": 3.010450100288036, \"Y\": 6.002824617520005}, {\"Label\": \"P125\", \"X\": 6.549198394838136, \"Y\": 7.682909203870032}, {\"Label\": \"P101\", \"X\": 6.366725176148092, \"Y\": 7.982793087230881}, {\"Label\": \"P131\", \"X\": 9.11854374877005, \"Y\": 3.1969262247009294}, {\"Label\": \"P225\", \"X\": 3.115829972951881, \"Y\": 6.505600436292596}, {\"Label\": \"P137\", \"X\": 1.8418101421424888, \"Y\": 6.676359547076499}, {\"Label\": \"P78\", \"X\": 0.0, \"Y\": 7.359219585003188}, {\"Label\": \"P243\", \"X\": 2.1271428034362083, \"Y\": 7.427022655403348}, {\"Label\": \"P5\", \"X\": 6.876331560071559, \"Y\": 3.568896228144056}, {\"Label\": \"P177\", \"X\": 9.305933276778797, \"Y\": 0.7315298194907432}, {\"Label\": \"P86\", \"X\": 8.010507670692427, \"Y\": 1.1335422904630836}, {\"Label\": \"P126\", \"X\": 8.298714103176088, \"Y\": 9.239672674192963}, {\"Label\": \"P154\", \"X\": 2.6793759281424787, \"Y\": 6.997354042584776}, {\"Label\": \"P14\", \"X\": 1.3497026855246386, \"Y\": 6.407866905788881}, {\"Label\": \"P19\", \"X\": 6.271775324073184, \"Y\": 3.633235606122101}, {\"Label\": \"P47\", \"X\": 2.817344860036894, \"Y\": 5.718796731986599}, {\"Label\": \"P62\", \"X\": 1.6403306900854409, \"Y\": 5.3978175573951335}, {\"Label\": \"P140\", \"X\": 6.262680453485794, \"Y\": 8.051857578973364}, {\"Label\": \"P122\", \"X\": 6.785045002835925, \"Y\": 1.32753663051405}, {\"Label\": \"P8\", \"X\": 2.798541296557037, \"Y\": 6.901316888789424}, {\"Label\": \"P127\", \"X\": 7.511759355722704, \"Y\": 6.161160987184186}, {\"Label\": \"P236\", \"X\": 9.173076544087754, \"Y\": 1.6180790151022912}, {\"Label\": \"P40\", \"X\": 7.007443510906804, \"Y\": 7.8751828006561}, {\"Label\": \"P182\", \"X\": 3.5839905884891223, \"Y\": 5.860982079646113}, {\"Label\": \"P106\", \"X\": 7.821926482784231, \"Y\": 1.544762645345097}, {\"Label\": \"P45\", \"X\": 2.254172564276718, \"Y\": 5.733207095678142}, {\"Label\": \"P214\", \"X\": 6.114388068923313, \"Y\": 3.3821152588264782}, {\"Label\": \"P33\", \"X\": 8.260528325321832, \"Y\": 2.454671814771986}, {\"Label\": \"P159\", \"X\": 5.509390831842841, \"Y\": 8.659078649391198}, {\"Label\": \"P15\", \"X\": 8.166162942672274, \"Y\": 1.6835058895298838}, {\"Label\": \"P67\", \"X\": 5.875546288811989, \"Y\": 8.079025558817941}, {\"Label\": \"P81\", \"X\": 5.908905002110162, \"Y\": 2.6313336715991413}, {\"Label\": \"P166\", \"X\": 2.361465249674942, \"Y\": 5.979143749352209}, {\"Label\": \"P188\", \"X\": 3.1483248784246216, \"Y\": 5.733831129037175}, {\"Label\": \"P30\", \"X\": 2.701224416018692, \"Y\": 6.283646390475425}, {\"Label\": \"P39\", \"X\": 6.282740439125805, \"Y\": 8.614325253294858}, {\"Label\": \"P103\", \"X\": 6.109265000787331, \"Y\": 3.558318222035651}, {\"Label\": \"P42\", \"X\": 4.810395350546742, \"Y\": 3.520803870153262}, {\"Label\": \"P229\", \"X\": 5.586453123730029, \"Y\": 3.377248776182147}, {\"Label\": \"P17\", \"X\": 2.1091892194706814, \"Y\": 6.1699015317791535}, {\"Label\": \"P222\", \"X\": 8.80975893172711, \"Y\": 0.1232305214658935}, {\"Label\": \"P50\", \"X\": 3.472806955293045, \"Y\": 6.428700976664942}, {\"Label\": \"P230\", \"X\": 2.2924562752863227, \"Y\": 6.52947298439201}, {\"Label\": \"P34\", \"X\": 8.124496655556344, \"Y\": 1.114371193619486}, {\"Label\": \"P120\", \"X\": 7.983995070382503, \"Y\": 1.100453561886738}, {\"Label\": \"P215\", \"X\": 5.934114328544652, \"Y\": 1.86076668505174}, {\"Label\": \"P231\", \"X\": 7.203420581979123, \"Y\": 8.750651096791655}, {\"Label\": \"P90\", \"X\": 5.84398765029831, \"Y\": 3.377302412458425}, {\"Label\": \"P66\", \"X\": 7.051343638300681, \"Y\": 9.022564106753716}, {\"Label\": \"P201\", \"X\": 6.357532221559007, \"Y\": 4.07564184511304}, {\"Label\": \"P37\", \"X\": 9.435858942262795, \"Y\": 1.9469322909142892}, {\"Label\": \"P38\", \"X\": 3.570928087510139, \"Y\": 5.890363578184028}, {\"Label\": \"P95\", \"X\": 6.563865120894656, \"Y\": 3.4719818665802}, {\"Label\": \"P216\", \"X\": 6.206011293071021, \"Y\": 2.69974322619139}, {\"Label\": \"P237\", \"X\": 5.985821559184416, \"Y\": 8.147680894613345}, {\"Label\": \"P64\", \"X\": 2.728613800133512, \"Y\": 6.5421562786179805}, {\"Label\": \"P93\", \"X\": 7.328038033213037, \"Y\": 1.57643905702183}, {\"Label\": \"P108\", \"X\": 5.771652503284641, \"Y\": 2.8303833241322423}, {\"Label\": \"P185\", \"X\": 6.985139032557651, \"Y\": 8.109968323166816}, {\"Label\": \"P88\", \"X\": 9.13383705299786, \"Y\": 0.9734256350359792}, {\"Label\": \"P193\", \"X\": 2.0948261259613155, \"Y\": 5.8166634717154935}, {\"Label\": \"P197\", \"X\": 6.812552215855313, \"Y\": 2.9877566748265028}, {\"Label\": \"P26\", \"X\": 8.512469800082647, \"Y\": 2.3190911082217056}, {\"Label\": \"P174\", \"X\": 1.659001865648333, \"Y\": 6.569810079610702}, {\"Label\": \"P153\", \"X\": 8.022877245666932, \"Y\": 2.17029308380428}, {\"Label\": \"P132\", \"X\": 7.463108381216895, \"Y\": 2.607025251574347}, {\"Label\": \"P200\", \"X\": 9.02158064792631, \"Y\": 1.6525242412186154}, {\"Label\": \"P224\", \"X\": 8.975153982826043, \"Y\": 0.495951474305154}, {\"Label\": \"P198\", \"X\": 5.4605571145425245, \"Y\": 2.700085483111306}, {\"Label\": \"P240\", \"X\": 6.240778066864367, \"Y\": 9.002119774610854}, {\"Label\": \"P139\", \"X\": 6.846636504743334, \"Y\": 1.9949656614476416}, {\"Label\": \"P72\", \"X\": 4.895579755515955, \"Y\": 3.432963053414252}, {\"Label\": \"P242\", \"X\": 7.815143025375411, \"Y\": 8.576473862895442}, {\"Label\": \"P138\", \"X\": 7.351790793721705, \"Y\": 7.05214503179858}, {\"Label\": \"P46\", \"X\": 6.621712572625176, \"Y\": 8.273105496841787}, {\"Label\": \"P54\", \"X\": 7.457478433552742, \"Y\": 2.1975551405114864}, {\"Label\": \"P192\", \"X\": 2.0793752670852554, \"Y\": 6.681163030752517}, {\"Label\": \"P71\", \"X\": 5.907919821788416, \"Y\": 3.7063336735958208}, {\"Label\": \"P152\", \"X\": 2.2734998536887465, \"Y\": 6.894661793469201}, {\"Label\": \"P2\", \"X\": 7.185936344749484, \"Y\": 8.52138336535525}, {\"Label\": \"P28\", \"X\": 4.1097196262392295, \"Y\": 6.170588724511328}, {\"Label\": \"P9\", \"X\": 1.9474421963314648, \"Y\": 6.089432463110725}]}}, {\"mode\": \"vega-lite\"});\n",
       "</script>"
      ],
      "text/plain": [
       "alt.Chart(...)"
      ]
     },
     "execution_count": 32,
     "metadata": {},
     "output_type": "execute_result"
    }
   ],
   "source": [
    "alt.Chart(target, width=400, height=400).mark_circle(size=50).encode(x=\"X\", y=\"Y\")"
   ]
  },
  {
   "cell_type": "code",
   "execution_count": 33,
   "metadata": {},
   "outputs": [
    {
     "data": {
      "text/html": [
       "\n",
       "<div id=\"altair-viz-c55b0615780f4635bb3b3641d38f8f1c\"></div>\n",
       "<script type=\"text/javascript\">\n",
       "  (function(spec, embedOpt){\n",
       "    let outputDiv = document.currentScript.previousElementSibling;\n",
       "    if (outputDiv.id !== \"altair-viz-c55b0615780f4635bb3b3641d38f8f1c\") {\n",
       "      outputDiv = document.getElementById(\"altair-viz-c55b0615780f4635bb3b3641d38f8f1c\");\n",
       "    }\n",
       "    const paths = {\n",
       "      \"vega\": \"https://cdn.jsdelivr.net/npm//vega@5?noext\",\n",
       "      \"vega-lib\": \"https://cdn.jsdelivr.net/npm//vega-lib?noext\",\n",
       "      \"vega-lite\": \"https://cdn.jsdelivr.net/npm//vega-lite@4.8.1?noext\",\n",
       "      \"vega-embed\": \"https://cdn.jsdelivr.net/npm//vega-embed@6?noext\",\n",
       "    };\n",
       "\n",
       "    function loadScript(lib) {\n",
       "      return new Promise(function(resolve, reject) {\n",
       "        var s = document.createElement('script');\n",
       "        s.src = paths[lib];\n",
       "        s.async = true;\n",
       "        s.onload = () => resolve(paths[lib]);\n",
       "        s.onerror = () => reject(`Error loading script: ${paths[lib]}`);\n",
       "        document.getElementsByTagName(\"head\")[0].appendChild(s);\n",
       "      });\n",
       "    }\n",
       "\n",
       "    function showError(err) {\n",
       "      outputDiv.innerHTML = `<div class=\"error\" style=\"color:red;\">${err}</div>`;\n",
       "      throw err;\n",
       "    }\n",
       "\n",
       "    function displayChart(vegaEmbed) {\n",
       "      vegaEmbed(outputDiv, spec, embedOpt)\n",
       "        .catch(err => showError(`Javascript Error: ${err.message}<br>This usually means there's a typo in your chart specification. See the javascript console for the full traceback.`));\n",
       "    }\n",
       "\n",
       "    if(typeof define === \"function\" && define.amd) {\n",
       "      requirejs.config({paths});\n",
       "      require([\"vega-embed\"], displayChart, err => showError(`Error loading script: ${err.message}`));\n",
       "    } else if (typeof vegaEmbed === \"function\") {\n",
       "      displayChart(vegaEmbed);\n",
       "    } else {\n",
       "      loadScript(\"vega\")\n",
       "        .then(() => loadScript(\"vega-lite\"))\n",
       "        .then(() => loadScript(\"vega-embed\"))\n",
       "        .catch(showError)\n",
       "        .then(() => displayChart(vegaEmbed));\n",
       "    }\n",
       "  })({\"config\": {\"view\": {\"continuousWidth\": 400, \"continuousHeight\": 300}}, \"data\": {\"name\": \"data-f8d27d14b3c04f2f9e8e1e81bdd56c0f\"}, \"mark\": {\"type\": \"circle\", \"size\": 50}, \"encoding\": {\"x\": {\"type\": \"quantitative\", \"field\": \"X\"}, \"y\": {\"type\": \"quantitative\", \"field\": \"Y\"}}, \"height\": 400, \"width\": 400, \"$schema\": \"https://vega.github.io/schema/vega-lite/v4.8.1.json\", \"datasets\": {\"data-f8d27d14b3c04f2f9e8e1e81bdd56c0f\": [{\"Label\": \"P52\", \"X\": 6.58351, \"Y\": 7.28796}, {\"Label\": \"P171\", \"X\": 4.77421, \"Y\": 4.1798}, {\"Label\": \"P199\", \"X\": 8.34966, \"Y\": 0.0955}, {\"Label\": \"P183\", \"X\": 8.4267, \"Y\": 1.80299}, {\"Label\": \"P61\", \"X\": 4.2976, \"Y\": 2.99981}, {\"Label\": \"P11\", \"X\": 8.07677, \"Y\": 1.20419}, {\"Label\": \"P92\", \"X\": 5.46034, \"Y\": 4.90507}, {\"Label\": \"P223\", \"X\": 6.04053, \"Y\": 3.0315}, {\"Label\": \"P145\", \"X\": 4.73101, \"Y\": 3.33718}, {\"Label\": \"P210\", \"X\": 5.80684, \"Y\": 2.221}, {\"Label\": \"P113\", \"X\": 5.19698, \"Y\": 3.83632}, {\"Label\": \"P7\", \"X\": 4.48888, \"Y\": 3.22197}, {\"Label\": \"P143\", \"X\": 5.5838, \"Y\": 3.40559}, {\"Label\": \"P136\", \"X\": 7.18026, \"Y\": 9.06386}, {\"Label\": \"P77\", \"X\": 7.21439, \"Y\": 8.65275}, {\"Label\": \"P249\", \"X\": 7.94965, \"Y\": 1.23984}, {\"Label\": \"P21\", \"X\": 4.97731, \"Y\": 3.95658}, {\"Label\": \"P169\", \"X\": 4.16412, \"Y\": 3.80315}, {\"Label\": \"P6\", \"X\": 6.90102, \"Y\": 9.06969}, {\"Label\": \"P212\", \"X\": 6.65686, \"Y\": 3.54089}, {\"Label\": \"P12\", \"X\": 8.01219, \"Y\": 0.69693}, {\"Label\": \"P98\", \"X\": 8.13602, \"Y\": 0.0}, {\"Label\": \"P211\", \"X\": 6.18, \"Y\": 7.12993}, {\"Label\": \"P23\", \"X\": 8.68392, \"Y\": 1.23845}, {\"Label\": \"P124\", \"X\": 8.10099, \"Y\": 1.23059}, {\"Label\": \"P129\", \"X\": 6.1082, \"Y\": 2.41001}, {\"Label\": \"P164\", \"X\": 7.91217, \"Y\": 1.39768}, {\"Label\": \"P111\", \"X\": 8.71908, \"Y\": 0.93497}, {\"Label\": \"P85\", \"X\": 7.63071, \"Y\": 8.62574}, {\"Label\": \"P24\", \"X\": 8.13899, \"Y\": 0.95818}, {\"Label\": \"P32\", \"X\": 5.72837, \"Y\": 7.76111}, {\"Label\": \"P227\", \"X\": 4.48267, \"Y\": 3.59935}, {\"Label\": \"P147\", \"X\": 8.72295, \"Y\": 2.12105}, {\"Label\": \"P10\", \"X\": 6.31764, \"Y\": 8.45152}, {\"Label\": \"P186\", \"X\": 7.39706, \"Y\": 0.9275}, {\"Label\": \"P220\", \"X\": 6.16355, \"Y\": 3.94138}, {\"Label\": \"P144\", \"X\": 5.59731, \"Y\": 3.27357}, {\"Label\": \"P29\", \"X\": 6.7643, \"Y\": 7.89891}, {\"Label\": \"P142\", \"X\": 5.7122, \"Y\": 7.11442}, {\"Label\": \"P16\", \"X\": 5.58973, \"Y\": 3.19692}, {\"Label\": \"P226\", \"X\": 6.267, \"Y\": 8.61344}, {\"Label\": \"P36\", \"X\": 7.48929, \"Y\": 1.80914}, {\"Label\": \"P55\", \"X\": 6.35934, \"Y\": 3.50147}, {\"Label\": \"P248\", \"X\": 7.57857, \"Y\": 1.33454}, {\"Label\": \"P232\", \"X\": 8.38649, \"Y\": 3.14104}, {\"Label\": \"P51\", \"X\": 5.278, \"Y\": 8.60918}, {\"Label\": \"P41\", \"X\": 7.19086, \"Y\": 3.58911}, {\"Label\": \"P87\", \"X\": 6.91296, \"Y\": 8.45241}, {\"Label\": \"P179\", \"X\": 9.99274, \"Y\": 2.12049}, {\"Label\": \"P83\", \"X\": 8.40676, \"Y\": 1.15505}, {\"Label\": \"P167\", \"X\": 4.76838, \"Y\": 2.83014}, {\"Label\": \"P125\", \"X\": 6.5492, \"Y\": 7.68291}, {\"Label\": \"P101\", \"X\": 6.36673, \"Y\": 7.98279}, {\"Label\": \"P131\", \"X\": 9.11854, \"Y\": 3.19693}, {\"Label\": \"P78\", \"X\": 0.0, \"Y\": 7.35922}, {\"Label\": \"P5\", \"X\": 6.87633, \"Y\": 3.5689}, {\"Label\": \"P177\", \"X\": 9.30593, \"Y\": 0.73153}, {\"Label\": \"P86\", \"X\": 8.01051, \"Y\": 1.13354}, {\"Label\": \"P126\", \"X\": 8.29871, \"Y\": 9.23967}, {\"Label\": \"P19\", \"X\": 6.27178, \"Y\": 3.63324}, {\"Label\": \"P140\", \"X\": 6.26268, \"Y\": 8.05186}, {\"Label\": \"P122\", \"X\": 6.78505, \"Y\": 1.32754}, {\"Label\": \"P127\", \"X\": 7.51176, \"Y\": 6.16116}, {\"Label\": \"P236\", \"X\": 9.17308, \"Y\": 1.61808}, {\"Label\": \"P40\", \"X\": 7.00744, \"Y\": 7.87518}, {\"Label\": \"P106\", \"X\": 7.82193, \"Y\": 1.54476}, {\"Label\": \"P214\", \"X\": 6.11439, \"Y\": 3.38212}, {\"Label\": \"P33\", \"X\": 8.26053, \"Y\": 2.45467}, {\"Label\": \"P159\", \"X\": 5.50939, \"Y\": 8.65908}, {\"Label\": \"P15\", \"X\": 8.16616, \"Y\": 1.68351}, {\"Label\": \"P67\", \"X\": 5.87555, \"Y\": 8.07903}, {\"Label\": \"P81\", \"X\": 5.90891, \"Y\": 2.63133}, {\"Label\": \"P39\", \"X\": 6.28274, \"Y\": 8.61433}, {\"Label\": \"P103\", \"X\": 6.10927, \"Y\": 3.55832}, {\"Label\": \"P42\", \"X\": 4.8104, \"Y\": 3.5208}, {\"Label\": \"P229\", \"X\": 5.58645, \"Y\": 3.37725}, {\"Label\": \"P222\", \"X\": 8.80976, \"Y\": 0.12323}, {\"Label\": \"P34\", \"X\": 8.1245, \"Y\": 1.11437}, {\"Label\": \"P120\", \"X\": 7.984, \"Y\": 1.10045}, {\"Label\": \"P215\", \"X\": 5.93411, \"Y\": 1.86077}, {\"Label\": \"P231\", \"X\": 7.20342, \"Y\": 8.75065}, {\"Label\": \"P90\", \"X\": 5.84399, \"Y\": 3.3773}, {\"Label\": \"P66\", \"X\": 7.05134, \"Y\": 9.02256}, {\"Label\": \"P201\", \"X\": 6.35753, \"Y\": 4.07564}, {\"Label\": \"P37\", \"X\": 9.43586, \"Y\": 1.94693}, {\"Label\": \"P95\", \"X\": 6.56387, \"Y\": 3.47198}, {\"Label\": \"P216\", \"X\": 6.20601, \"Y\": 2.69974}, {\"Label\": \"P237\", \"X\": 5.98582, \"Y\": 8.14768}, {\"Label\": \"P93\", \"X\": 7.32804, \"Y\": 1.57644}, {\"Label\": \"P108\", \"X\": 5.77165, \"Y\": 2.83038}, {\"Label\": \"P185\", \"X\": 6.98514, \"Y\": 8.10997}, {\"Label\": \"P88\", \"X\": 9.13384, \"Y\": 0.97343}, {\"Label\": \"P197\", \"X\": 6.81255, \"Y\": 2.98776}, {\"Label\": \"P26\", \"X\": 8.51247, \"Y\": 2.31909}, {\"Label\": \"P153\", \"X\": 8.02288, \"Y\": 2.17029}, {\"Label\": \"P132\", \"X\": 7.46311, \"Y\": 2.60703}, {\"Label\": \"P200\", \"X\": 9.02158, \"Y\": 1.65252}, {\"Label\": \"P224\", \"X\": 8.97515, \"Y\": 0.49595}, {\"Label\": \"P198\", \"X\": 5.46056, \"Y\": 2.70009}, {\"Label\": \"P240\", \"X\": 6.24078, \"Y\": 9.00212}, {\"Label\": \"P139\", \"X\": 6.84664, \"Y\": 1.99497}, {\"Label\": \"P72\", \"X\": 4.89558, \"Y\": 3.43296}, {\"Label\": \"P242\", \"X\": 7.81514, \"Y\": 8.57647}, {\"Label\": \"P138\", \"X\": 7.35179, \"Y\": 7.05215}, {\"Label\": \"P46\", \"X\": 6.62171, \"Y\": 8.27311}, {\"Label\": \"P54\", \"X\": 7.45748, \"Y\": 2.19756}, {\"Label\": \"P71\", \"X\": 5.90792, \"Y\": 3.70633}, {\"Label\": \"P2\", \"X\": 7.18594, \"Y\": 8.52138}]}}, {\"mode\": \"vega-lite\"});\n",
       "</script>"
      ],
      "text/plain": [
       "alt.Chart(...)"
      ]
     },
     "execution_count": 33,
     "metadata": {},
     "output_type": "execute_result"
    }
   ],
   "source": [
    "alt.Chart(output, width=400, height=400).mark_circle(size=50).encode(x=\"X\", y=\"Y\")"
   ]
  },
  {
   "cell_type": "code",
   "execution_count": null,
   "metadata": {},
   "outputs": [],
   "source": []
  }
 ],
 "metadata": {
  "kernelspec": {
   "display_name": "Python 3",
   "language": "python",
   "name": "python3"
  },
  "language_info": {
   "codemirror_mode": {
    "name": "ipython",
    "version": 3
   },
   "file_extension": ".py",
   "mimetype": "text/x-python",
   "name": "python",
   "nbconvert_exporter": "python",
   "pygments_lexer": "ipython3",
   "version": "3.8.3"
  }
 },
 "nbformat": 4,
 "nbformat_minor": 4
}
